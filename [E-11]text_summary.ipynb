{
 "cells": [
  {
   "cell_type": "markdown",
   "id": "smart-flour",
   "metadata": {},
   "source": [
    "# Text summary project\n",
    "AIFFEL 대전 탐색 노드 11   \n",
    "\n",
    "프로세스는 다음과 같다.     \n",
    "1. Import package \n",
    "2. Data preprocessing\n",
    "3. Modeling\n",
    "4. Text summary\n",
    "5. Analysis"
   ]
  },
  {
   "cell_type": "markdown",
   "id": "italic-private",
   "metadata": {},
   "source": [
    "## 1. Import package"
   ]
  },
  {
   "cell_type": "code",
   "execution_count": 1,
   "id": "generous-andrew",
   "metadata": {},
   "outputs": [
    {
     "name": "stderr",
     "output_type": "stream",
     "text": [
      "[nltk_data] Downloading package stopwords to /home/aiffel-\n",
      "[nltk_data]     dj28/nltk_data...\n",
      "[nltk_data]   Package stopwords is already up-to-date!\n"
     ]
    }
   ],
   "source": [
    "import nltk\n",
    "nltk.download('stopwords')\n",
    "\n",
    "import numpy as np\n",
    "import pandas as pd\n",
    "import os\n",
    "import re\n",
    "import matplotlib.pyplot as plt\n",
    "from nltk.corpus import stopwords\n",
    "from bs4 import BeautifulSoup \n",
    "from tensorflow.keras.preprocessing.text import Tokenizer \n",
    "from tensorflow.keras.preprocessing.sequence import pad_sequences\n",
    "import urllib.request\n",
    "\n",
    "from tensorflow.keras.layers import Input, LSTM, Embedding, Dense, Concatenate\n",
    "from tensorflow.keras.models import Model\n",
    "from tensorflow.keras.callbacks import EarlyStopping, ModelCheckpoint\n",
    "\n",
    "import requests\n",
    "from summa.summarizer import summarize"
   ]
  },
  {
   "cell_type": "markdown",
   "id": "rapid-census",
   "metadata": {},
   "source": [
    "## 2. Data preprocessing"
   ]
  },
  {
   "cell_type": "markdown",
   "id": "sensitive-overview",
   "metadata": {},
   "source": [
    "### Data loading"
   ]
  },
  {
   "cell_type": "code",
   "execution_count": 2,
   "id": "legislative-spiritual",
   "metadata": {},
   "outputs": [],
   "source": [
    "urllib.request.urlretrieve(\"https://raw.githubusercontent.com/sunnysai12345/News_Summary/master/news_summary_more.csv\", filename=\"news_summary_more.csv\")\n",
    "data = pd.read_csv('news_summary_more.csv', encoding='iso-8859-1')"
   ]
  },
  {
   "cell_type": "code",
   "execution_count": 3,
   "id": "seven-style",
   "metadata": {},
   "outputs": [
    {
     "data": {
      "text/html": [
       "<div>\n",
       "<style scoped>\n",
       "    .dataframe tbody tr th:only-of-type {\n",
       "        vertical-align: middle;\n",
       "    }\n",
       "\n",
       "    .dataframe tbody tr th {\n",
       "        vertical-align: top;\n",
       "    }\n",
       "\n",
       "    .dataframe thead th {\n",
       "        text-align: right;\n",
       "    }\n",
       "</style>\n",
       "<table border=\"1\" class=\"dataframe\">\n",
       "  <thead>\n",
       "    <tr style=\"text-align: right;\">\n",
       "      <th></th>\n",
       "      <th>headlines</th>\n",
       "      <th>text</th>\n",
       "    </tr>\n",
       "  </thead>\n",
       "  <tbody>\n",
       "    <tr>\n",
       "      <th>11442</th>\n",
       "      <td>I've been used: Kanye as he distances himself ...</td>\n",
       "      <td>American rapper Kanye West has announced that ...</td>\n",
       "    </tr>\n",
       "    <tr>\n",
       "      <th>86688</th>\n",
       "      <td>Air India to create makeshift business class u...</td>\n",
       "      <td>Air India has decided to reserve the first thr...</td>\n",
       "    </tr>\n",
       "    <tr>\n",
       "      <th>33017</th>\n",
       "      <td>Pawan Kalyan-led party to contest all Andhra A...</td>\n",
       "      <td>Actor-turned-politician Pawan Kalyan has annou...</td>\n",
       "    </tr>\n",
       "    <tr>\n",
       "      <th>46966</th>\n",
       "      <td>Eat beef if you want but why celebrate it: Vic...</td>\n",
       "      <td>Stating that people should eat beef if they wi...</td>\n",
       "    </tr>\n",
       "    <tr>\n",
       "      <th>2847</th>\n",
       "      <td>RBI allows 'tokenisation' for more secure card...</td>\n",
       "      <td>To make card transactions more secure, the RBI...</td>\n",
       "    </tr>\n",
       "    <tr>\n",
       "      <th>35375</th>\n",
       "      <td>All accused in 2007 Mecca Masjid blast case ac...</td>\n",
       "      <td>A special National Investigation Agency (NIA) ...</td>\n",
       "    </tr>\n",
       "    <tr>\n",
       "      <th>22546</th>\n",
       "      <td>Kohli-led Team India is 'undercooked': Ex-Eng ...</td>\n",
       "      <td>Former England captain Nasser Hussain has said...</td>\n",
       "    </tr>\n",
       "    <tr>\n",
       "      <th>36690</th>\n",
       "      <td>Kapil Sharma files complaint against journalis...</td>\n",
       "      <td>Kapil Sharma has filed a complaint against his...</td>\n",
       "    </tr>\n",
       "    <tr>\n",
       "      <th>52746</th>\n",
       "      <td>WB CM Mamata Banerjee receives honorary doctorate</td>\n",
       "      <td>West Bengal CM Mamata Banerjee on Thursday rec...</td>\n",
       "    </tr>\n",
       "    <tr>\n",
       "      <th>27560</th>\n",
       "      <td>Zomato appoints Mohit Gupta as startup's food...</td>\n",
       "      <td>The former Chief Operating Officer of MakeMyTr...</td>\n",
       "    </tr>\n",
       "  </tbody>\n",
       "</table>\n",
       "</div>"
      ],
      "text/plain": [
       "                                               headlines  \\\n",
       "11442  I've been used: Kanye as he distances himself ...   \n",
       "86688  Air India to create makeshift business class u...   \n",
       "33017  Pawan Kalyan-led party to contest all Andhra A...   \n",
       "46966  Eat beef if you want but why celebrate it: Vic...   \n",
       "2847   RBI allows 'tokenisation' for more secure card...   \n",
       "35375  All accused in 2007 Mecca Masjid blast case ac...   \n",
       "22546  Kohli-led Team India is 'undercooked': Ex-Eng ...   \n",
       "36690  Kapil Sharma files complaint against journalis...   \n",
       "52746  WB CM Mamata Banerjee receives honorary doctorate   \n",
       "27560   Zomato appoints Mohit Gupta as startup's food...   \n",
       "\n",
       "                                                    text  \n",
       "11442  American rapper Kanye West has announced that ...  \n",
       "86688  Air India has decided to reserve the first thr...  \n",
       "33017  Actor-turned-politician Pawan Kalyan has annou...  \n",
       "46966  Stating that people should eat beef if they wi...  \n",
       "2847   To make card transactions more secure, the RBI...  \n",
       "35375  A special National Investigation Agency (NIA) ...  \n",
       "22546  Former England captain Nasser Hussain has said...  \n",
       "36690  Kapil Sharma has filed a complaint against his...  \n",
       "52746  West Bengal CM Mamata Banerjee on Thursday rec...  \n",
       "27560  The former Chief Operating Officer of MakeMyTr...  "
      ]
     },
     "execution_count": 3,
     "metadata": {},
     "output_type": "execute_result"
    }
   ],
   "source": [
    "data.sample(10)"
   ]
  },
  {
   "cell_type": "markdown",
   "id": "comprehensive-reflection",
   "metadata": {},
   "source": [
    "### Removing duplicate values"
   ]
  },
  {
   "cell_type": "code",
   "execution_count": 4,
   "id": "based-meeting",
   "metadata": {},
   "outputs": [
    {
     "name": "stdout",
     "output_type": "stream",
     "text": [
      "전체 샘플수 : 98401\n",
      "Text 열에서 중복을 배제한 유일한 샘플의 수 : 98360\n",
      "Summary 열에서 중복을 배제한 유일한 샘플의 수 : 98280\n"
     ]
    }
   ],
   "source": [
    "print('전체 샘플수 :',(len(data)))\n",
    "print('Text 열에서 중복을 배제한 유일한 샘플의 수 :', data['text'].nunique())\n",
    "print('Summary 열에서 중복을 배제한 유일한 샘플의 수 :', data['headlines'].nunique())"
   ]
  },
  {
   "cell_type": "code",
   "execution_count": 5,
   "id": "desirable-dutch",
   "metadata": {},
   "outputs": [
    {
     "name": "stdout",
     "output_type": "stream",
     "text": [
      "headlines    0\n",
      "text         0\n",
      "dtype: int64\n"
     ]
    }
   ],
   "source": [
    "print(data.isnull().sum())"
   ]
  },
  {
   "cell_type": "code",
   "execution_count": 6,
   "id": "boxed-newsletter",
   "metadata": {},
   "outputs": [
    {
     "name": "stdout",
     "output_type": "stream",
     "text": [
      "전체 샘플수 : 98360\n"
     ]
    }
   ],
   "source": [
    "data.drop_duplicates(subset = ['text'], inplace = True)\n",
    "print('전체 샘플수 :',(len(data)))"
   ]
  },
  {
   "cell_type": "markdown",
   "id": "aware-laugh",
   "metadata": {},
   "source": [
    "### Normalization & removing stopwords\n",
    "정규화할 단어와 제거할 불용어를 미리 정의하고 이를 이용하여   \n",
    "데이터에서 정규화와 불용어 제거를 한다."
   ]
  },
  {
   "cell_type": "code",
   "execution_count": 7,
   "id": "intense-satellite",
   "metadata": {},
   "outputs": [
    {
     "name": "stdout",
     "output_type": "stream",
     "text": [
      "정규화 사전의 수:  120\n"
     ]
    }
   ],
   "source": [
    "contractions = {\"ain't\": \"is not\", \"aren't\": \"are not\",\"can't\": \"cannot\", \"'cause\": \"because\", \"could've\": \"could have\", \"couldn't\": \"could not\",\n",
    "                           \"didn't\": \"did not\",  \"doesn't\": \"does not\", \"don't\": \"do not\", \"hadn't\": \"had not\", \"hasn't\": \"has not\", \"haven't\": \"have not\",\n",
    "                           \"he'd\": \"he would\",\"he'll\": \"he will\", \"he's\": \"he is\", \"how'd\": \"how did\", \"how'd'y\": \"how do you\", \"how'll\": \"how will\", \"how's\": \"how is\",\n",
    "                           \"I'd\": \"I would\", \"I'd've\": \"I would have\", \"I'll\": \"I will\", \"I'll've\": \"I will have\",\"I'm\": \"I am\", \"I've\": \"I have\", \"i'd\": \"i would\",\n",
    "                           \"i'd've\": \"i would have\", \"i'll\": \"i will\",  \"i'll've\": \"i will have\",\"i'm\": \"i am\", \"i've\": \"i have\", \"isn't\": \"is not\", \"it'd\": \"it would\",\n",
    "                           \"it'd've\": \"it would have\", \"it'll\": \"it will\", \"it'll've\": \"it will have\",\"it's\": \"it is\", \"let's\": \"let us\", \"ma'am\": \"madam\",\n",
    "                           \"mayn't\": \"may not\", \"might've\": \"might have\",\"mightn't\": \"might not\",\"mightn't've\": \"might not have\", \"must've\": \"must have\",\n",
    "                           \"mustn't\": \"must not\", \"mustn't've\": \"must not have\", \"needn't\": \"need not\", \"needn't've\": \"need not have\",\"o'clock\": \"of the clock\",\n",
    "                           \"oughtn't\": \"ought not\", \"oughtn't've\": \"ought not have\", \"shan't\": \"shall not\", \"sha'n't\": \"shall not\", \"shan't've\": \"shall not have\",\n",
    "                           \"she'd\": \"she would\", \"she'd've\": \"she would have\", \"she'll\": \"she will\", \"she'll've\": \"she will have\", \"she's\": \"she is\",\n",
    "                           \"should've\": \"should have\", \"shouldn't\": \"should not\", \"shouldn't've\": \"should not have\", \"so've\": \"so have\",\"so's\": \"so as\",\n",
    "                           \"this's\": \"this is\",\"that'd\": \"that would\", \"that'd've\": \"that would have\", \"that's\": \"that is\", \"there'd\": \"there would\",\n",
    "                           \"there'd've\": \"there would have\", \"there's\": \"there is\", \"here's\": \"here is\",\"they'd\": \"they would\", \"they'd've\": \"they would have\",\n",
    "                           \"they'll\": \"they will\", \"they'll've\": \"they will have\", \"they're\": \"they are\", \"they've\": \"they have\", \"to've\": \"to have\",\n",
    "                           \"wasn't\": \"was not\", \"we'd\": \"we would\", \"we'd've\": \"we would have\", \"we'll\": \"we will\", \"we'll've\": \"we will have\", \"we're\": \"we are\",\n",
    "                           \"we've\": \"we have\", \"weren't\": \"were not\", \"what'll\": \"what will\", \"what'll've\": \"what will have\", \"what're\": \"what are\",\n",
    "                           \"what's\": \"what is\", \"what've\": \"what have\", \"when's\": \"when is\", \"when've\": \"when have\", \"where'd\": \"where did\", \"where's\": \"where is\",\n",
    "                           \"where've\": \"where have\", \"who'll\": \"who will\", \"who'll've\": \"who will have\", \"who's\": \"who is\", \"who've\": \"who have\",\n",
    "                           \"why's\": \"why is\", \"why've\": \"why have\", \"will've\": \"will have\", \"won't\": \"will not\", \"won't've\": \"will not have\",\n",
    "                           \"would've\": \"would have\", \"wouldn't\": \"would not\", \"wouldn't've\": \"would not have\", \"y'all\": \"you all\",\n",
    "                           \"y'all'd\": \"you all would\",\"y'all'd've\": \"you all would have\",\"y'all're\": \"you all are\",\"y'all've\": \"you all have\",\n",
    "                           \"you'd\": \"you would\", \"you'd've\": \"you would have\", \"you'll\": \"you will\", \"you'll've\": \"you will have\",\n",
    "                           \"you're\": \"you are\", \"you've\": \"you have\"}\n",
    "\n",
    "print(\"정규화 사전의 수: \",len(contractions))"
   ]
  },
  {
   "cell_type": "code",
   "execution_count": 8,
   "id": "blocked-mexican",
   "metadata": {},
   "outputs": [
    {
     "name": "stdout",
     "output_type": "stream",
     "text": [
      "불용어 개수 : 179\n",
      "['i', 'me', 'my', 'myself', 'we', 'our', 'ours', 'ourselves', 'you', \"you're\", \"you've\", \"you'll\", \"you'd\", 'your', 'yours', 'yourself', 'yourselves', 'he', 'him', 'his', 'himself', 'she', \"she's\", 'her', 'hers', 'herself', 'it', \"it's\", 'its', 'itself', 'they', 'them', 'their', 'theirs', 'themselves', 'what', 'which', 'who', 'whom', 'this', 'that', \"that'll\", 'these', 'those', 'am', 'is', 'are', 'was', 'were', 'be', 'been', 'being', 'have', 'has', 'had', 'having', 'do', 'does', 'did', 'doing', 'a', 'an', 'the', 'and', 'but', 'if', 'or', 'because', 'as', 'until', 'while', 'of', 'at', 'by', 'for', 'with', 'about', 'against', 'between', 'into', 'through', 'during', 'before', 'after', 'above', 'below', 'to', 'from', 'up', 'down', 'in', 'out', 'on', 'off', 'over', 'under', 'again', 'further', 'then', 'once', 'here', 'there', 'when', 'where', 'why', 'how', 'all', 'any', 'both', 'each', 'few', 'more', 'most', 'other', 'some', 'such', 'no', 'nor', 'not', 'only', 'own', 'same', 'so', 'than', 'too', 'very', 's', 't', 'can', 'will', 'just', 'don', \"don't\", 'should', \"should've\", 'now', 'd', 'll', 'm', 'o', 're', 've', 'y', 'ain', 'aren', \"aren't\", 'couldn', \"couldn't\", 'didn', \"didn't\", 'doesn', \"doesn't\", 'hadn', \"hadn't\", 'hasn', \"hasn't\", 'haven', \"haven't\", 'isn', \"isn't\", 'ma', 'mightn', \"mightn't\", 'mustn', \"mustn't\", 'needn', \"needn't\", 'shan', \"shan't\", 'shouldn', \"shouldn't\", 'wasn', \"wasn't\", 'weren', \"weren't\", 'won', \"won't\", 'wouldn', \"wouldn't\"]\n"
     ]
    }
   ],
   "source": [
    "print('불용어 개수 :', len(stopwords.words('english') ))\n",
    "print(stopwords.words('english'))"
   ]
  },
  {
   "cell_type": "code",
   "execution_count": 9,
   "id": "normal-symbol",
   "metadata": {},
   "outputs": [],
   "source": [
    "#데이터 전처리 함수\n",
    "def preprocess_sentence(sentence, remove_stopwords=True):\n",
    "    sentence = sentence.lower() # 텍스트 소문자화\n",
    "    sentence = BeautifulSoup(sentence, \"lxml\").text # <br />, <a href = ...> 등의 html 태그 제거\n",
    "    sentence = re.sub(r'\\([^)]*\\)', '', sentence) # 괄호로 닫힌 문자열 (...) 제거 Ex) my husband (and myself!) for => my husband for\n",
    "    sentence = re.sub('\"','', sentence) # 쌍따옴표 \" 제거\n",
    "    sentence = ' '.join([contractions[t] if t in contractions else t for t in sentence.split(\" \")]) # 약어 정규화\n",
    "    sentence = re.sub(r\"'s\\b\",\"\",sentence) # 소유격 제거. Ex) roland's -> roland\n",
    "    sentence = re.sub(\"[^a-zA-Z]\", \" \", sentence) # 영어 외 문자(숫자, 특수문자 등) 공백으로 변환\n",
    "    sentence = re.sub('[m]{2,}', 'mm', sentence) # m이 3개 이상이면 2개로 변경. Ex) ummmmmmm yeah -> umm yeah\n",
    "    \n",
    "    # 불용어 제거 (Text)\n",
    "    if remove_stopwords:\n",
    "        tokens = ' '.join(word for word in sentence.split() if not word in stopwords.words('english') if len(word) > 1)\n",
    "    # 불용어 미제거 (Summary)\n",
    "    else:\n",
    "        tokens = ' '.join(word for word in sentence.split() if len(word) > 1)\n",
    "    return tokens"
   ]
  },
  {
   "cell_type": "code",
   "execution_count": 10,
   "id": "dimensional-parade",
   "metadata": {},
   "outputs": [
    {
     "name": "stdout",
     "output_type": "stream",
     "text": [
      "everything bought great infact ordered twice third ordered wasfor mother father\n",
      "great way to start the day\n"
     ]
    }
   ],
   "source": [
    "# testing\n",
    "temp_text = 'Everything I bought was great, infact I ordered twice and the third ordered was<br />for my mother and father.'\n",
    "temp_summary = 'Great way to start (or finish) the day!!!'\n",
    "\n",
    "print(preprocess_sentence(temp_text))\n",
    "print(preprocess_sentence(temp_summary, False))  # 불용어를 제거하지 않습니다."
   ]
  },
  {
   "cell_type": "code",
   "execution_count": 11,
   "id": "comprehensive-contract",
   "metadata": {},
   "outputs": [
    {
     "data": {
      "text/plain": [
       "['saurav kant alumnus upgrad iiit pg program machine learning artificial intelligence sr systems engineer infosys almost years work experience program upgrad degree career support helped transition data scientist tech mahindra salary hike upgrad online power learning powered lakh careers',\n",
       " 'kunal shah credit card bill payment platform cred gave users chance win free food swiggy one year pranav kaushik delhi techie bagged reward spending cred coins users get one cred coin per rupee bill paid used avail rewards brands like ixigo bookmyshow ubereats cult fit',\n",
       " 'new zealand defeated india wickets fourth odi hamilton thursday win first match five match odi series india lost international match rohit sharma captaincy consecutive victories dating back march match witnessed india getting seventh lowest total odi cricket history',\n",
       " 'aegon life iterm insurance plan customers enjoy tax benefits premiums paid save taxes plan provides life cover age years also customers options insure critical illnesses disability accidental death benefit rider life cover age years',\n",
       " 'speaking sexual harassment allegations rajkumar hirani sonam kapoor said known hirani many years true metoo movement get derailed metoo movement always believe woman case need reserve judgment added hirani accused assistant worked sanju']"
      ]
     },
     "execution_count": 11,
     "metadata": {},
     "output_type": "execute_result"
    }
   ],
   "source": [
    "clean_text = []\n",
    "\n",
    "# 전체 Text 데이터에 대한 전처리 : 10분 이상 시간이 걸릴 수 있습니다. \n",
    "for s in data['text']:\n",
    "    clean_text.append(preprocess_sentence(s))\n",
    "\n",
    "# 전처리 후 출력\n",
    "clean_text[:5]"
   ]
  },
  {
   "cell_type": "code",
   "execution_count": 12,
   "id": "athletic-bobby",
   "metadata": {},
   "outputs": [
    {
     "data": {
      "text/plain": [
       "['upgrad learner switches to career in ml al with salary hike',\n",
       " 'delhi techie wins free food from swiggy for one year on cred',\n",
       " 'new zealand end rohit sharma led india match winning streak',\n",
       " 'aegon life iterm insurance plan helps customers save tax',\n",
       " 'have known hirani for yrs what if metoo claims are not true sonam']"
      ]
     },
     "execution_count": 12,
     "metadata": {},
     "output_type": "execute_result"
    }
   ],
   "source": [
    "clean_summary = []\n",
    "\n",
    "# 전체 Summary 데이터에 대한 전처리 : 5분 이상 시간이 걸릴 수 있습니다. \n",
    "for s in data['headlines']:\n",
    "    clean_summary.append(preprocess_sentence(s, False))\n",
    "\n",
    "clean_summary[:5]"
   ]
  },
  {
   "cell_type": "code",
   "execution_count": 13,
   "id": "yellow-albania",
   "metadata": {},
   "outputs": [],
   "source": [
    "data['text'] = clean_text\n",
    "data['headlines'] = clean_summary\n",
    "\n",
    "# 빈 값을 Null 값으로 변환\n",
    "data.replace('', np.nan, inplace=True)"
   ]
  },
  {
   "cell_type": "code",
   "execution_count": 14,
   "id": "satellite-exclusion",
   "metadata": {},
   "outputs": [
    {
     "data": {
      "text/plain": [
       "headlines    0\n",
       "text         0\n",
       "dtype: int64"
      ]
     },
     "execution_count": 14,
     "metadata": {},
     "output_type": "execute_result"
    }
   ],
   "source": [
    "data.isnull().sum()"
   ]
  },
  {
   "cell_type": "code",
   "execution_count": 15,
   "id": "solved-appendix",
   "metadata": {},
   "outputs": [
    {
     "name": "stdout",
     "output_type": "stream",
     "text": [
      "전체 샘플수 : 98360\n"
     ]
    }
   ],
   "source": [
    "data.dropna(axis=0, inplace=True)\n",
    "print('전체 샘플수 :',(len(data)))#데이터 전처리 함수"
   ]
  },
  {
   "cell_type": "markdown",
   "id": "stupid-female",
   "metadata": {},
   "source": [
    "### Data analysis (for length)\n",
    "데이터의 길이 분포를 확인한다."
   ]
  },
  {
   "cell_type": "code",
   "execution_count": 16,
   "id": "consistent-seller",
   "metadata": {},
   "outputs": [
    {
     "name": "stdout",
     "output_type": "stream",
     "text": [
      "텍스트의 최소 길이 : 1\n",
      "텍스트의 최대 길이 : 60\n",
      "텍스트의 평균 길이 : 35.09968483123221\n",
      "요약의 최소 길이 : 1\n",
      "요약의 최대 길이 : 16\n",
      "요약의 평균 길이 : 9.299532330215534\n"
     ]
    },
    {
     "data": {
      "image/png": "[encoded data removed]",
      "text/plain": [
       "<Figure size 432x288 with 2 Axes>"
      ]
     },
     "metadata": {
      "needs_background": "light"
     },
     "output_type": "display_data"
    },
    {
     "data": {
      "image/png": "[encoded data removed]",
      "text/plain": [
       "<Figure size 432x288 with 1 Axes>"
      ]
     },
     "metadata": {
      "needs_background": "light"
     },
     "output_type": "display_data"
    },
    {
     "data": {
      "image/png": "[encoded data removed]",
      "text/plain": [
       "<Figure size 432x288 with 1 Axes>"
      ]
     },
     "metadata": {
      "needs_background": "light"
     },
     "output_type": "display_data"
    }
   ],
   "source": [
    "# 길이 분포 출력\n",
    "import matplotlib.pyplot as plt\n",
    "\n",
    "text_len = [len(s.split()) for s in data['text']]\n",
    "summary_len = [len(s.split()) for s in data['headlines']]\n",
    "\n",
    "print('텍스트의 최소 길이 : {}'.format(np.min(text_len)))\n",
    "print('텍스트의 최대 길이 : {}'.format(np.max(text_len)))\n",
    "print('텍스트의 평균 길이 : {}'.format(np.mean(text_len)))\n",
    "print('요약의 최소 길이 : {}'.format(np.min(summary_len)))\n",
    "print('요약의 최대 길이 : {}'.format(np.max(summary_len)))\n",
    "print('요약의 평균 길이 : {}'.format(np.mean(summary_len)))\n",
    "\n",
    "plt.subplot(1,2,1)\n",
    "plt.boxplot(summary_len)\n",
    "plt.title('headlines')\n",
    "plt.subplot(1,2,2)\n",
    "plt.boxplot(text_len)\n",
    "plt.title('text')\n",
    "plt.tight_layout()\n",
    "plt.show()\n",
    "\n",
    "plt.title('headlines')\n",
    "plt.hist(summary_len, bins = 40)\n",
    "plt.xlabel('length of samples')\n",
    "plt.ylabel('number of samples')\n",
    "plt.show()\n",
    "\n",
    "plt.title('text')\n",
    "plt.hist(text_len, bins = 40)\n",
    "plt.xlabel('length of samples')\n",
    "plt.ylabel('number of samples')\n",
    "plt.show()"
   ]
  },
  {
   "cell_type": "markdown",
   "id": "tender-archive",
   "metadata": {},
   "source": [
    "### Removing anomaly data\n",
    "위에서 확인한 데이터 분포를 이용하여 길이가 긴 데이터를 제거한다."
   ]
  },
  {
   "cell_type": "code",
   "execution_count": 17,
   "id": "czech-gauge",
   "metadata": {},
   "outputs": [],
   "source": [
    "text_max_len = 45\n",
    "summary_max_len = 12"
   ]
  },
  {
   "cell_type": "code",
   "execution_count": 18,
   "id": "arbitrary-rochester",
   "metadata": {},
   "outputs": [],
   "source": [
    "def below_threshold_len(max_len, nested_list):\n",
    "    cnt = 0\n",
    "    for s in nested_list:\n",
    "        if(len(s.split()) <= max_len):\n",
    "            cnt = cnt + 1\n",
    "    print('전체 샘플 중 길이가 %s 이하인 샘플의 비율: %s'%(max_len, (cnt / len(nested_list))))"
   ]
  },
  {
   "cell_type": "code",
   "execution_count": 19,
   "id": "asian-prague",
   "metadata": {},
   "outputs": [
    {
     "name": "stdout",
     "output_type": "stream",
     "text": [
      "전체 샘플 중 길이가 45 이하인 샘플의 비율: 0.9967771451809678\n",
      "전체 샘플 중 길이가 12 이하인 샘플의 비율: 0.9880337535583571\n"
     ]
    }
   ],
   "source": [
    "below_threshold_len(text_max_len, data['text'])\n",
    "below_threshold_len(summary_max_len,  data['headlines'])"
   ]
  },
  {
   "cell_type": "code",
   "execution_count": 20,
   "id": "hollow-manual",
   "metadata": {},
   "outputs": [
    {
     "name": "stdout",
     "output_type": "stream",
     "text": [
      "전체 샘플수 : 96871\n"
     ]
    }
   ],
   "source": [
    "data = data[data['text'].apply(lambda x: len(x.split()) <= text_max_len)]\n",
    "data = data[data['headlines'].apply(lambda x: len(x.split()) <= summary_max_len)]\n",
    "print('전체 샘플수 :',(len(data)))"
   ]
  },
  {
   "cell_type": "code",
   "execution_count": 21,
   "id": "artificial-myanmar",
   "metadata": {},
   "outputs": [
    {
     "data": {
      "text/html": [
       "<div>\n",
       "<style scoped>\n",
       "    .dataframe tbody tr th:only-of-type {\n",
       "        vertical-align: middle;\n",
       "    }\n",
       "\n",
       "    .dataframe tbody tr th {\n",
       "        vertical-align: top;\n",
       "    }\n",
       "\n",
       "    .dataframe thead th {\n",
       "        text-align: right;\n",
       "    }\n",
       "</style>\n",
       "<table border=\"1\" class=\"dataframe\">\n",
       "  <thead>\n",
       "    <tr style=\"text-align: right;\">\n",
       "      <th></th>\n",
       "      <th>headlines</th>\n",
       "      <th>text</th>\n",
       "      <th>decoder_input</th>\n",
       "      <th>decoder_target</th>\n",
       "    </tr>\n",
       "  </thead>\n",
       "  <tbody>\n",
       "    <tr>\n",
       "      <th>0</th>\n",
       "      <td>upgrad learner switches to career in ml al wit...</td>\n",
       "      <td>saurav kant alumnus upgrad iiit pg program mac...</td>\n",
       "      <td>sostoken upgrad learner switches to career in ...</td>\n",
       "      <td>upgrad learner switches to career in ml al wit...</td>\n",
       "    </tr>\n",
       "    <tr>\n",
       "      <th>1</th>\n",
       "      <td>delhi techie wins free food from swiggy for on...</td>\n",
       "      <td>kunal shah credit card bill payment platform c...</td>\n",
       "      <td>sostoken delhi techie wins free food from swig...</td>\n",
       "      <td>delhi techie wins free food from swiggy for on...</td>\n",
       "    </tr>\n",
       "    <tr>\n",
       "      <th>2</th>\n",
       "      <td>new zealand end rohit sharma led india match w...</td>\n",
       "      <td>new zealand defeated india wickets fourth odi ...</td>\n",
       "      <td>sostoken new zealand end rohit sharma led indi...</td>\n",
       "      <td>new zealand end rohit sharma led india match w...</td>\n",
       "    </tr>\n",
       "    <tr>\n",
       "      <th>3</th>\n",
       "      <td>aegon life iterm insurance plan helps customer...</td>\n",
       "      <td>aegon life iterm insurance plan customers enjo...</td>\n",
       "      <td>sostoken aegon life iterm insurance plan helps...</td>\n",
       "      <td>aegon life iterm insurance plan helps customer...</td>\n",
       "    </tr>\n",
       "    <tr>\n",
       "      <th>5</th>\n",
       "      <td>rahat fateh ali khan denies getting notice for...</td>\n",
       "      <td>pakistani singer rahat fateh ali khan denied r...</td>\n",
       "      <td>sostoken rahat fateh ali khan denies getting n...</td>\n",
       "      <td>rahat fateh ali khan denies getting notice for...</td>\n",
       "    </tr>\n",
       "  </tbody>\n",
       "</table>\n",
       "</div>"
      ],
      "text/plain": [
       "                                           headlines  \\\n",
       "0  upgrad learner switches to career in ml al wit...   \n",
       "1  delhi techie wins free food from swiggy for on...   \n",
       "2  new zealand end rohit sharma led india match w...   \n",
       "3  aegon life iterm insurance plan helps customer...   \n",
       "5  rahat fateh ali khan denies getting notice for...   \n",
       "\n",
       "                                                text  \\\n",
       "0  saurav kant alumnus upgrad iiit pg program mac...   \n",
       "1  kunal shah credit card bill payment platform c...   \n",
       "2  new zealand defeated india wickets fourth odi ...   \n",
       "3  aegon life iterm insurance plan customers enjo...   \n",
       "5  pakistani singer rahat fateh ali khan denied r...   \n",
       "\n",
       "                                       decoder_input  \\\n",
       "0  sostoken upgrad learner switches to career in ...   \n",
       "1  sostoken delhi techie wins free food from swig...   \n",
       "2  sostoken new zealand end rohit sharma led indi...   \n",
       "3  sostoken aegon life iterm insurance plan helps...   \n",
       "5  sostoken rahat fateh ali khan denies getting n...   \n",
       "\n",
       "                                      decoder_target  \n",
       "0  upgrad learner switches to career in ml al wit...  \n",
       "1  delhi techie wins free food from swiggy for on...  \n",
       "2  new zealand end rohit sharma led india match w...  \n",
       "3  aegon life iterm insurance plan helps customer...  \n",
       "5  rahat fateh ali khan denies getting notice for...  "
      ]
     },
     "execution_count": 21,
     "metadata": {},
     "output_type": "execute_result"
    }
   ],
   "source": [
    "#요약 데이터에는 시작 토큰과 종료 토큰을 추가한다.\n",
    "data['decoder_input'] = data['headlines'].apply(lambda x : 'sostoken '+ x)\n",
    "data['decoder_target'] = data['headlines'].apply(lambda x : x + ' eostoken')\n",
    "data.head()"
   ]
  },
  {
   "cell_type": "code",
   "execution_count": 22,
   "id": "blond-delta",
   "metadata": {},
   "outputs": [],
   "source": [
    "encoder_input = np.array(data['text']) # 인코더의 입력\n",
    "decoder_input = np.array(data['decoder_input']) # 디코더의 입력\n",
    "decoder_target = np.array(data['decoder_target']) # 디코더의 레이블"
   ]
  },
  {
   "cell_type": "code",
   "execution_count": 23,
   "id": "further-schema",
   "metadata": {},
   "outputs": [
    {
     "name": "stdout",
     "output_type": "stream",
     "text": [
      "[23685 65068 70130 ... 41417 75466 10814]\n"
     ]
    }
   ],
   "source": [
    "indices = np.arange(encoder_input.shape[0])\n",
    "np.random.shuffle(indices)\n",
    "print(indices)"
   ]
  },
  {
   "cell_type": "code",
   "execution_count": 24,
   "id": "knowing-lesbian",
   "metadata": {},
   "outputs": [],
   "source": [
    "encoder_input = encoder_input[indices]\n",
    "decoder_input = decoder_input[indices]\n",
    "decoder_target = decoder_target[indices]"
   ]
  },
  {
   "cell_type": "code",
   "execution_count": 25,
   "id": "solar-castle",
   "metadata": {},
   "outputs": [
    {
     "name": "stdout",
     "output_type": "stream",
     "text": [
      "테스트 데이터의 수 : 19374\n"
     ]
    }
   ],
   "source": [
    "n_of_val = int(len(encoder_input)*0.2)\n",
    "print('테스트 데이터의 수 :',n_of_val)"
   ]
  },
  {
   "cell_type": "code",
   "execution_count": 26,
   "id": "western-clock",
   "metadata": {},
   "outputs": [
    {
     "name": "stdout",
     "output_type": "stream",
     "text": [
      "훈련 데이터의 개수 : 77497\n",
      "훈련 레이블의 개수 : 77497\n",
      "테스트 데이터의 개수 : 19374\n",
      "테스트 레이블의 개수 : 19374\n"
     ]
    }
   ],
   "source": [
    "encoder_input_train = encoder_input[:-n_of_val]\n",
    "decoder_input_train = decoder_input[:-n_of_val]\n",
    "decoder_target_train = decoder_target[:-n_of_val]\n",
    "\n",
    "encoder_input_test = encoder_input[-n_of_val:]\n",
    "decoder_input_test = decoder_input[-n_of_val:]\n",
    "decoder_target_test = decoder_target[-n_of_val:]\n",
    "\n",
    "print('훈련 데이터의 개수 :', len(encoder_input_train))\n",
    "print('훈련 레이블의 개수 :',len(decoder_input_train))\n",
    "print('테스트 데이터의 개수 :',len(encoder_input_test))\n",
    "print('테스트 레이블의 개수 :',len(decoder_input_test))"
   ]
  },
  {
   "cell_type": "markdown",
   "id": "funny-local",
   "metadata": {},
   "source": [
    "### Tokenization & encoding\n",
    "단어 단위로 토큰화를 진행하고 단어를 정수로 바꾸는 인코딩을 한다.   \n",
    "이 때에 빈도수가 작은 단어에 대해서 제거하는 작업도 함꼐 한다."
   ]
  },
  {
   "cell_type": "code",
   "execution_count": 27,
   "id": "progressive-reaction",
   "metadata": {},
   "outputs": [],
   "source": [
    "src_tokenizer = Tokenizer() # 토크나이저 정의\n",
    "src_tokenizer.fit_on_texts(encoder_input_train) # 입력된 데이터로부터 단어 집합 생성"
   ]
  },
  {
   "cell_type": "code",
   "execution_count": 28,
   "id": "sustained-comment",
   "metadata": {},
   "outputs": [],
   "source": [
    "threshold = 7\n",
    "total_cnt = len(src_tokenizer.word_index) # 단어의 수\n",
    "rare_cnt = 0 # 등장 빈도수가 threshold보다 작은 단어의 개수를 카운트\n",
    "total_freq = 0 # 훈련 데이터의 전체 단어 빈도수 총 합\n",
    "rare_freq = 0 # 등장 빈도수가 threshold보다 작은 단어의 등장 빈도수의 총 합"
   ]
  },
  {
   "cell_type": "code",
   "execution_count": 29,
   "id": "amazing-developer",
   "metadata": {},
   "outputs": [
    {
     "name": "stdout",
     "output_type": "stream",
     "text": [
      "단어 집합(vocabulary)의 크기 : 69046\n",
      "등장 빈도가 6번 이하인 희귀 단어의 수: 47014\n",
      "단어 집합에서 희귀 단어를 제외시킬 경우의 단어 집합의 크기 22032\n",
      "단어 집합에서 희귀 단어의 비율: 68.09083799206326\n",
      "전체 등장 빈도에서 희귀 단어 등장 빈도 비율: 3.502149978180095\n"
     ]
    }
   ],
   "source": [
    "# 단어와 빈도수의 쌍(pair)을 key와 value로 받는다.\n",
    "for key, value in src_tokenizer.word_counts.items():\n",
    "    total_freq = total_freq + value\n",
    "\n",
    "    # 단어의 등장 빈도수가 threshold보다 작으면\n",
    "    if(value < threshold):\n",
    "        rare_cnt = rare_cnt + 1\n",
    "        rare_freq = rare_freq + value\n",
    "\n",
    "print('단어 집합(vocabulary)의 크기 :',total_cnt)\n",
    "print('등장 빈도가 %s번 이하인 희귀 단어의 수: %s'%(threshold - 1, rare_cnt))\n",
    "print('단어 집합에서 희귀 단어를 제외시킬 경우의 단어 집합의 크기 %s'%(total_cnt - rare_cnt))\n",
    "print(\"단어 집합에서 희귀 단어의 비율:\", (rare_cnt / total_cnt)*100)\n",
    "print(\"전체 등장 빈도에서 희귀 단어 등장 빈도 비율:\", (rare_freq / total_freq)*100)"
   ]
  },
  {
   "cell_type": "code",
   "execution_count": 30,
   "id": "suburban-baltimore",
   "metadata": {},
   "outputs": [],
   "source": [
    "src_vocab = 22000\n",
    "src_tokenizer = Tokenizer(num_words = src_vocab) # 단어 집합의 크기를 22,000으로 제한\n",
    "src_tokenizer.fit_on_texts(encoder_input_train) # 단어 집합 재생성."
   ]
  },
  {
   "cell_type": "code",
   "execution_count": 31,
   "id": "formed-namibia",
   "metadata": {},
   "outputs": [],
   "source": [
    "# 텍스트 시퀀스를 정수 시퀀스로 변환\n",
    "encoder_input_train = src_tokenizer.texts_to_sequences(encoder_input_train) \n",
    "encoder_input_test = src_tokenizer.texts_to_sequences(encoder_input_test)"
   ]
  },
  {
   "cell_type": "code",
   "execution_count": 32,
   "id": "electronic-defendant",
   "metadata": {},
   "outputs": [
    {
     "name": "stdout",
     "output_type": "stream",
     "text": [
      "[[8748, 2617, 1935, 2187, 1504, 1314, 142, 246, 2080, 73, 423, 2, 318, 852, 3207, 9226, 2187, 9778, 1314, 1314, 861, 7510, 14665, 9226, 143, 17, 723, 142, 3287, 5696, 18264, 1242, 246], [448, 560, 160, 541, 114, 2, 2447, 1854, 18, 607, 1900, 462, 155, 1331, 307, 754, 2081, 114, 2966, 1122, 9404, 7971, 1596, 1925, 1528, 2498, 155, 1331, 4640, 3266, 111, 1900, 462], [424, 115, 2484, 928, 614, 1033, 738, 3046, 2284, 3599, 143, 4595, 1039, 1973, 2022, 370, 165, 59, 8, 6, 2177, 4200, 368, 385, 3153, 3101, 1462, 4079, 3101, 3230, 105, 355, 871, 7511, 15861, 424]]\n"
     ]
    }
   ],
   "source": [
    "#잘 진행되었는지 샘플 출력\n",
    "print(encoder_input_train[:3])"
   ]
  },
  {
   "cell_type": "code",
   "execution_count": 33,
   "id": "intimate-definition",
   "metadata": {},
   "outputs": [],
   "source": [
    "tar_tokenizer = Tokenizer()\n",
    "tar_tokenizer.fit_on_texts(decoder_input_train)"
   ]
  },
  {
   "cell_type": "code",
   "execution_count": 34,
   "id": "structural-bridal",
   "metadata": {},
   "outputs": [],
   "source": [
    "threshold = 6\n",
    "total_cnt = len(tar_tokenizer.word_index) # 단어의 수\n",
    "rare_cnt = 0 # 등장 빈도수가 threshold보다 작은 단어의 개수를 카운트\n",
    "total_freq = 0 # 훈련 데이터의 전체 단어 빈도수 총 합\n",
    "rare_freq = 0 # 등장 빈도수가 threshold보다 작은 단어의 등장 빈도수의 총 합"
   ]
  },
  {
   "cell_type": "code",
   "execution_count": 35,
   "id": "included-western",
   "metadata": {},
   "outputs": [
    {
     "name": "stdout",
     "output_type": "stream",
     "text": [
      "단어 집합(vocabulary)의 크기 : 29943\n",
      "등장 빈도가 5번 이하인 희귀 단어의 수: 19595\n",
      "단어 집합에서 희귀 단어를 제외시킬 경우의 단어 집합의 크기 10348\n",
      "단어 집합에서 희귀 단어의 비율: 65.44100457535986\n",
      "전체 등장 빈도에서 희귀 단어 등장 빈도 비율: 4.720325944354772\n"
     ]
    }
   ],
   "source": [
    "# 단어와 빈도수의 쌍(pair)을 key와 value로 받는다.\n",
    "for key, value in tar_tokenizer.word_counts.items():\n",
    "    total_freq = total_freq + value\n",
    "\n",
    "    # 단어의 등장 빈도수가 threshold보다 작으면\n",
    "    if(value < threshold):\n",
    "        rare_cnt = rare_cnt + 1\n",
    "        rare_freq = rare_freq + value\n",
    "\n",
    "print('단어 집합(vocabulary)의 크기 :',total_cnt)\n",
    "print('등장 빈도가 %s번 이하인 희귀 단어의 수: %s'%(threshold - 1, rare_cnt))\n",
    "print('단어 집합에서 희귀 단어를 제외시킬 경우의 단어 집합의 크기 %s'%(total_cnt - rare_cnt))\n",
    "print(\"단어 집합에서 희귀 단어의 비율:\", (rare_cnt / total_cnt)*100)\n",
    "print(\"전체 등장 빈도에서 희귀 단어 등장 빈도 비율:\", (rare_freq / total_freq)*100)"
   ]
  },
  {
   "cell_type": "code",
   "execution_count": 36,
   "id": "uniform-immune",
   "metadata": {},
   "outputs": [],
   "source": [
    "tar_vocab = 10000\n",
    "tar_tokenizer = Tokenizer(num_words = tar_vocab) \n",
    "tar_tokenizer.fit_on_texts(decoder_input_train)\n",
    "tar_tokenizer.fit_on_texts(decoder_target_train)"
   ]
  },
  {
   "cell_type": "code",
   "execution_count": 37,
   "id": "supported-smart",
   "metadata": {},
   "outputs": [
    {
     "name": "stdout",
     "output_type": "stream",
     "text": [
      "input\n",
      "input  [[1, 141, 77, 6, 2758, 2373, 657, 1212, 1745], [1, 452, 2445, 2047, 51, 555, 5, 343, 2087, 674], [1, 1925, 2298, 3, 21, 1369, 5, 3980, 1809, 104, 1689], [1, 260, 20, 44, 5134, 256, 183, 4, 3364, 6777, 82], [1, 238, 19, 3365]]\n",
      "target\n",
      "decoder  [[141, 77, 6, 2758, 2373, 657, 1212, 1745, 2], [452, 2445, 2047, 51, 555, 5, 343, 2087, 674, 2], [1925, 2298, 3, 21, 1369, 5, 3980, 1809, 104, 1689, 2], [260, 20, 44, 5134, 256, 183, 4, 3364, 6777, 82, 2], [238, 19, 3365, 2]]\n"
     ]
    }
   ],
   "source": [
    "# 텍스트 시퀀스를 정수 시퀀스로 변환\n",
    "decoder_input_train = tar_tokenizer.texts_to_sequences(decoder_input_train) \n",
    "decoder_target_train = tar_tokenizer.texts_to_sequences(decoder_target_train)\n",
    "decoder_input_test = tar_tokenizer.texts_to_sequences(decoder_input_test)\n",
    "decoder_target_test = tar_tokenizer.texts_to_sequences(decoder_target_test)\n",
    "\n",
    "#잘 변환되었는지 확인\n",
    "print('input')\n",
    "print('input ',decoder_input_train[:5])\n",
    "print('target')\n",
    "print('decoder ',decoder_target_train[:5])"
   ]
  },
  {
   "cell_type": "code",
   "execution_count": 38,
   "id": "saved-retailer",
   "metadata": {},
   "outputs": [
    {
     "name": "stdout",
     "output_type": "stream",
     "text": [
      "삭제할 훈련 데이터의 개수 : 1\n",
      "삭제할 테스트 데이터의 개수 : 0\n"
     ]
    }
   ],
   "source": [
    "drop_train = [index for index, sentence in enumerate(decoder_input_train) if len(sentence) == 1]\n",
    "drop_test = [index for index, sentence in enumerate(decoder_input_test) if len(sentence) == 1]\n",
    "\n",
    "print('삭제할 훈련 데이터의 개수 :',len(drop_train))\n",
    "print('삭제할 테스트 데이터의 개수 :',len(drop_test))"
   ]
  },
  {
   "cell_type": "code",
   "execution_count": 39,
   "id": "amino-puppy",
   "metadata": {},
   "outputs": [
    {
     "name": "stdout",
     "output_type": "stream",
     "text": [
      "훈련 데이터의 개수 : 77496\n",
      "훈련 레이블의 개수 : 77496\n",
      "테스트 데이터의 개수 : 19374\n",
      "테스트 레이블의 개수 : 19374\n"
     ]
    }
   ],
   "source": [
    "encoder_input_train = np.delete(encoder_input_train, drop_train, axis=0)\n",
    "decoder_input_train = np.delete(decoder_input_train, drop_train, axis=0)\n",
    "decoder_target_train = np.delete(decoder_target_train, drop_train, axis=0)\n",
    "\n",
    "encoder_input_test = np.delete(encoder_input_test, drop_test, axis=0)\n",
    "decoder_input_test = np.delete(decoder_input_test, drop_test, axis=0)\n",
    "decoder_target_test = np.delete(decoder_target_test, drop_test, axis=0)\n",
    "\n",
    "print('훈련 데이터의 개수 :', len(encoder_input_train))\n",
    "print('훈련 레이블의 개수 :',len(decoder_input_train))\n",
    "print('테스트 데이터의 개수 :',len(encoder_input_test))\n",
    "print('테스트 레이블의 개수 :',len(decoder_input_test))"
   ]
  },
  {
   "cell_type": "markdown",
   "id": "medical-source",
   "metadata": {},
   "source": [
    "### Padding\n",
    "입력 형식을 맞춰주기 위해서 패딩을 해준다."
   ]
  },
  {
   "cell_type": "code",
   "execution_count": 40,
   "id": "cognitive-stockholm",
   "metadata": {},
   "outputs": [],
   "source": [
    "encoder_input_train = pad_sequences(encoder_input_train, maxlen = text_max_len, padding='post')\n",
    "encoder_input_test = pad_sequences(encoder_input_test, maxlen = text_max_len, padding='post')\n",
    "decoder_input_train = pad_sequences(decoder_input_train, maxlen = summary_max_len, padding='post')\n",
    "decoder_target_train = pad_sequences(decoder_target_train, maxlen = summary_max_len, padding='post')\n",
    "decoder_input_test = pad_sequences(decoder_input_test, maxlen = summary_max_len, padding='post')\n",
    "decoder_target_test = pad_sequences(decoder_target_test, maxlen = summary_max_len, padding='post')"
   ]
  },
  {
   "cell_type": "markdown",
   "id": "promotional-fifteen",
   "metadata": {},
   "source": [
    "## 3. Modeling\n",
    "Text summary 작업을 위해서 seq2seq 모델을 사용한다.    \n",
    "이 때에 Attention 기법을 추가한 모델이다.   \n",
    "훈련과정과 추론과정의 동작이 다르기 때문에 추론과정을 위한 모델을 따로 만들어 주게 된다."
   ]
  },
  {
   "cell_type": "code",
   "execution_count": 41,
   "id": "sharp-harrison",
   "metadata": {},
   "outputs": [
    {
     "name": "stdout",
     "output_type": "stream",
     "text": [
      "WARNING:tensorflow:Layer lstm will not use cuDNN kernel since it doesn't meet the cuDNN kernel criteria. It will use generic GPU kernel as fallback when running on GPU\n",
      "WARNING:tensorflow:Layer lstm_1 will not use cuDNN kernel since it doesn't meet the cuDNN kernel criteria. It will use generic GPU kernel as fallback when running on GPU\n",
      "WARNING:tensorflow:Layer lstm_2 will not use cuDNN kernel since it doesn't meet the cuDNN kernel criteria. It will use generic GPU kernel as fallback when running on GPU\n",
      "WARNING:tensorflow:Layer lstm_3 will not use cuDNN kernel since it doesn't meet the cuDNN kernel criteria. It will use generic GPU kernel as fallback when running on GPU\n",
      "Model: \"model\"\n",
      "__________________________________________________________________________________________________\n",
      "Layer (type)                    Output Shape         Param #     Connected to                     \n",
      "==================================================================================================\n",
      "input_1 (InputLayer)            [(None, 45)]         0                                            \n",
      "__________________________________________________________________________________________________\n",
      "embedding (Embedding)           (None, 45, 128)      2816000     input_1[0][0]                    \n",
      "__________________________________________________________________________________________________\n",
      "lstm (LSTM)                     [(None, 45, 256), (N 394240      embedding[0][0]                  \n",
      "__________________________________________________________________________________________________\n",
      "input_2 (InputLayer)            [(None, None)]       0                                            \n",
      "__________________________________________________________________________________________________\n",
      "lstm_1 (LSTM)                   [(None, 45, 256), (N 525312      lstm[0][0]                       \n",
      "__________________________________________________________________________________________________\n",
      "embedding_1 (Embedding)         (None, None, 128)    1280000     input_2[0][0]                    \n",
      "__________________________________________________________________________________________________\n",
      "lstm_2 (LSTM)                   [(None, 45, 256), (N 525312      lstm_1[0][0]                     \n",
      "__________________________________________________________________________________________________\n",
      "lstm_3 (LSTM)                   [(None, None, 256),  394240      embedding_1[0][0]                \n",
      "                                                                 lstm_2[0][1]                     \n",
      "                                                                 lstm_2[0][2]                     \n",
      "__________________________________________________________________________________________________\n",
      "dense (Dense)                   (None, None, 10000)  2570000     lstm_3[0][0]                     \n",
      "==================================================================================================\n",
      "Total params: 8,505,104\n",
      "Trainable params: 8,505,104\n",
      "Non-trainable params: 0\n",
      "__________________________________________________________________________________________________\n"
     ]
    }
   ],
   "source": [
    "#modeling\n",
    "# 인코더 설계 시작\n",
    "embedding_dim = 128\n",
    "hidden_size = 256\n",
    "\n",
    "# 인코더\n",
    "encoder_inputs = Input(shape=(text_max_len,))\n",
    "\n",
    "# 인코더의 임베딩 층\n",
    "enc_emb = Embedding(src_vocab, embedding_dim)(encoder_inputs)\n",
    "\n",
    "# 인코더의 LSTM 1\n",
    "encoder_lstm1 = LSTM(hidden_size, return_sequences=True, return_state=True ,dropout = 0.4, recurrent_dropout = 0.4)\n",
    "encoder_output1, state_h1, state_c1 = encoder_lstm1(enc_emb)\n",
    "\n",
    "# 인코더의 LSTM 2\n",
    "encoder_lstm2 = LSTM(hidden_size, return_sequences=True, return_state=True, dropout=0.4, recurrent_dropout=0.4)\n",
    "encoder_output2, state_h2, state_c2 = encoder_lstm2(encoder_output1)\n",
    "\n",
    "# 인코더의 LSTM 3\n",
    "encoder_lstm3 = LSTM(hidden_size, return_state=True, return_sequences=True, dropout=0.4, recurrent_dropout=0.4)\n",
    "encoder_outputs, state_h, state_c= encoder_lstm3(encoder_output2)\n",
    "\n",
    "# 디코더 설계\n",
    "\n",
    "decoder_inputs = Input(shape=(None,))\n",
    "\n",
    "# 디코더의 임베딩 층\n",
    "dec_emb_layer = Embedding(tar_vocab, embedding_dim)\n",
    "dec_emb = dec_emb_layer(decoder_inputs)\n",
    "\n",
    "# 디코더의 LSTM\n",
    "decoder_lstm = LSTM(hidden_size, return_sequences = True, return_state = True, dropout = 0.4, recurrent_dropout=0.2)\n",
    "decoder_outputs, _, _ = decoder_lstm(dec_emb, initial_state = [state_h, state_c])\n",
    "\n",
    "# 디코더의 출력층\n",
    "decoder_softmax_layer = Dense(tar_vocab, activation = 'softmax')\n",
    "decoder_softmax_outputs = decoder_softmax_layer(decoder_outputs) \n",
    "\n",
    "# 모델 정의\n",
    "model = Model([encoder_inputs, decoder_inputs], decoder_softmax_outputs)\n",
    "model.summary()"
   ]
  },
  {
   "cell_type": "markdown",
   "id": "careful-carrier",
   "metadata": {},
   "source": [
    "### Attention"
   ]
  },
  {
   "cell_type": "code",
   "execution_count": 42,
   "id": "chief-paradise",
   "metadata": {},
   "outputs": [
    {
     "name": "stdout",
     "output_type": "stream",
     "text": [
      "Model: \"model_1\"\n",
      "__________________________________________________________________________________________________\n",
      "Layer (type)                    Output Shape         Param #     Connected to                     \n",
      "==================================================================================================\n",
      "input_1 (InputLayer)            [(None, 45)]         0                                            \n",
      "__________________________________________________________________________________________________\n",
      "embedding (Embedding)           (None, 45, 128)      2816000     input_1[0][0]                    \n",
      "__________________________________________________________________________________________________\n",
      "lstm (LSTM)                     [(None, 45, 256), (N 394240      embedding[0][0]                  \n",
      "__________________________________________________________________________________________________\n",
      "input_2 (InputLayer)            [(None, None)]       0                                            \n",
      "__________________________________________________________________________________________________\n",
      "lstm_1 (LSTM)                   [(None, 45, 256), (N 525312      lstm[0][0]                       \n",
      "__________________________________________________________________________________________________\n",
      "embedding_1 (Embedding)         (None, None, 128)    1280000     input_2[0][0]                    \n",
      "__________________________________________________________________________________________________\n",
      "lstm_2 (LSTM)                   [(None, 45, 256), (N 525312      lstm_1[0][0]                     \n",
      "__________________________________________________________________________________________________\n",
      "lstm_3 (LSTM)                   [(None, None, 256),  394240      embedding_1[0][0]                \n",
      "                                                                 lstm_2[0][1]                     \n",
      "                                                                 lstm_2[0][2]                     \n",
      "__________________________________________________________________________________________________\n",
      "attention_layer (AttentionLayer ((None, None, 256),  131328      lstm_2[0][0]                     \n",
      "                                                                 lstm_3[0][0]                     \n",
      "__________________________________________________________________________________________________\n",
      "concat_layer (Concatenate)      (None, None, 512)    0           lstm_3[0][0]                     \n",
      "                                                                 attention_layer[0][0]            \n",
      "__________________________________________________________________________________________________\n",
      "dense_1 (Dense)                 (None, None, 10000)  5130000     concat_layer[0][0]               \n",
      "==================================================================================================\n",
      "Total params: 11,196,432\n",
      "Trainable params: 11,196,432\n",
      "Non-trainable params: 0\n",
      "__________________________________________________________________________________________________\n"
     ]
    }
   ],
   "source": [
    "urllib.request.urlretrieve(\"https://raw.githubusercontent.com/thushv89/attention_keras/master/src/layers/attention.py\", filename=\"attention.py\")\n",
    "from attention import AttentionLayer\n",
    "\n",
    "# 어텐션 층(어텐션 함수)\n",
    "attn_layer = AttentionLayer(name='attention_layer')\n",
    "# 인코더와 디코더의 모든 time step의 hidden state를 어텐션 층에 전달하고 결과를 리턴\n",
    "attn_out, attn_states = attn_layer([encoder_outputs, decoder_outputs])\n",
    "\n",
    "# 어텐션의 결과와 디코더의 hidden state들을 연결\n",
    "decoder_concat_input = Concatenate(axis = -1, name='concat_layer')([decoder_outputs, attn_out])\n",
    "\n",
    "# 디코더의 출력층\n",
    "decoder_softmax_layer = Dense(tar_vocab, activation='softmax')\n",
    "decoder_softmax_outputs = decoder_softmax_layer(decoder_concat_input)\n",
    "\n",
    "# 모델 정의\n",
    "model = Model([encoder_inputs, decoder_inputs], decoder_softmax_outputs)\n",
    "model.summary()"
   ]
  },
  {
   "cell_type": "markdown",
   "id": "north-problem",
   "metadata": {},
   "source": [
    "### Training"
   ]
  },
  {
   "cell_type": "code",
   "execution_count": 43,
   "id": "successful-password",
   "metadata": {},
   "outputs": [
    {
     "name": "stdout",
     "output_type": "stream",
     "text": [
      "Epoch 1/50\n",
      "303/303 [==============================] - 113s 374ms/step - loss: 5.6126 - val_loss: 5.2003\n",
      "Epoch 2/50\n",
      "303/303 [==============================] - 113s 372ms/step - loss: 5.0490 - val_loss: 4.8180\n",
      "Epoch 3/50\n",
      "303/303 [==============================] - 114s 375ms/step - loss: 4.6970 - val_loss: 4.5385\n",
      "Epoch 4/50\n",
      "303/303 [==============================] - 112s 371ms/step - loss: 4.4233 - val_loss: 4.3619\n",
      "Epoch 5/50\n",
      "303/303 [==============================] - 111s 366ms/step - loss: 4.2147 - val_loss: 4.1974\n",
      "Epoch 6/50\n",
      "303/303 [==============================] - 112s 371ms/step - loss: 4.0447 - val_loss: 4.0801\n",
      "Epoch 7/50\n",
      "303/303 [==============================] - 113s 373ms/step - loss: 3.8988 - val_loss: 3.9954\n",
      "Epoch 8/50\n",
      "303/303 [==============================] - 113s 373ms/step - loss: 3.7738 - val_loss: 3.9237\n",
      "Epoch 9/50\n",
      "303/303 [==============================] - 114s 375ms/step - loss: 3.6600 - val_loss: 3.8593\n",
      "Epoch 10/50\n",
      "303/303 [==============================] - 117s 386ms/step - loss: 3.5610 - val_loss: 3.8024\n",
      "Epoch 11/50\n",
      "303/303 [==============================] - 114s 376ms/step - loss: 3.4719 - val_loss: 3.7638\n",
      "Epoch 12/50\n",
      "303/303 [==============================] - 113s 372ms/step - loss: 3.3896 - val_loss: 3.7235\n",
      "Epoch 13/50\n",
      "303/303 [==============================] - 112s 369ms/step - loss: 3.3158 - val_loss: 3.6890\n",
      "Epoch 14/50\n",
      "303/303 [==============================] - 111s 366ms/step - loss: 3.2489 - val_loss: 3.6618\n",
      "Epoch 15/50\n",
      "303/303 [==============================] - 112s 369ms/step - loss: 3.1859 - val_loss: 3.6391\n",
      "Epoch 16/50\n",
      "303/303 [==============================] - 115s 379ms/step - loss: 3.1297 - val_loss: 3.6211\n",
      "Epoch 17/50\n",
      "303/303 [==============================] - 122s 404ms/step - loss: 3.0773 - val_loss: 3.6016\n",
      "Epoch 18/50\n",
      "303/303 [==============================] - 115s 379ms/step - loss: 3.0282 - val_loss: 3.5837\n",
      "Epoch 19/50\n",
      "303/303 [==============================] - 113s 374ms/step - loss: 2.9816 - val_loss: 3.5773\n",
      "Epoch 20/50\n",
      "303/303 [==============================] - 113s 374ms/step - loss: 2.9388 - val_loss: 3.5642\n",
      "Epoch 21/50\n",
      "303/303 [==============================] - 112s 368ms/step - loss: 2.8929 - val_loss: 3.5527\n",
      "Epoch 22/50\n",
      "303/303 [==============================] - 111s 368ms/step - loss: 2.8541 - val_loss: 3.5404\n",
      "Epoch 23/50\n",
      "303/303 [==============================] - 112s 368ms/step - loss: 2.8154 - val_loss: 3.5354\n",
      "Epoch 24/50\n",
      "303/303 [==============================] - 112s 368ms/step - loss: 2.7805 - val_loss: 3.5366\n",
      "Epoch 25/50\n",
      "303/303 [==============================] - 112s 370ms/step - loss: 2.7481 - val_loss: 3.5339\n",
      "Epoch 26/50\n",
      "303/303 [==============================] - 112s 371ms/step - loss: 2.7192 - val_loss: 3.5213\n",
      "Epoch 27/50\n",
      "303/303 [==============================] - 112s 370ms/step - loss: 2.6902 - val_loss: 3.5190\n",
      "Epoch 28/50\n",
      "303/303 [==============================] - 113s 372ms/step - loss: 2.6613 - val_loss: 3.5129\n",
      "Epoch 29/50\n",
      "303/303 [==============================] - 113s 371ms/step - loss: 2.6351 - val_loss: 3.5125\n",
      "Epoch 30/50\n",
      "303/303 [==============================] - 112s 371ms/step - loss: 2.6100 - val_loss: 3.5099\n",
      "Epoch 31/50\n",
      "303/303 [==============================] - 112s 371ms/step - loss: 2.5860 - val_loss: 3.5166\n",
      "Epoch 32/50\n",
      "303/303 [==============================] - 112s 370ms/step - loss: 2.5602 - val_loss: 3.5099\n",
      "Epoch 00032: early stopping\n"
     ]
    },
    {
     "data": {
      "image/png": "[encoded data removed]",
      "text/plain": [
       "<Figure size 432x288 with 1 Axes>"
      ]
     },
     "metadata": {
      "needs_background": "light"
     },
     "output_type": "display_data"
    }
   ],
   "source": [
    "model.compile(optimizer='rmsprop', loss='sparse_categorical_crossentropy')\n",
    "es = EarlyStopping(monitor='val_loss', mode='min', verbose=1, patience = 2)\n",
    "history = model.fit(x = [encoder_input_train, decoder_input_train], y = decoder_target_train, \\\n",
    "          validation_data = ([encoder_input_test, decoder_input_test], decoder_target_test),\n",
    "          batch_size = 256, callbacks=[es], epochs = 50)\n",
    "\n",
    "plt.plot(history.history['loss'], label='train')\n",
    "plt.plot(history.history['val_loss'], label='test')\n",
    "plt.legend()\n",
    "plt.show()"
   ]
  },
  {
   "cell_type": "markdown",
   "id": "thrown-dating",
   "metadata": {},
   "source": [
    "### Inference"
   ]
  },
  {
   "cell_type": "code",
   "execution_count": 44,
   "id": "contained-cambodia",
   "metadata": {},
   "outputs": [],
   "source": [
    "src_index_to_word = src_tokenizer.index_word # 원문 단어 집합에서 정수 -> 단어를 얻음\n",
    "tar_word_to_index = tar_tokenizer.word_index # 요약 단어 집합에서 단어 -> 정수를 얻음\n",
    "tar_index_to_word = tar_tokenizer.index_word # 요약 단어 집합에서 정수 -> 단어를 얻음\n",
    "\n",
    "# 인코더 설계\n",
    "encoder_model = Model(inputs=encoder_inputs, outputs=[encoder_outputs, state_h, state_c])\n",
    "\n",
    "# 이전 시점의 상태들을 저장하는 텐서\n",
    "decoder_state_input_h = Input(shape=(hidden_size,))\n",
    "decoder_state_input_c = Input(shape=(hidden_size,))\n",
    "\n",
    "dec_emb2 = dec_emb_layer(decoder_inputs)\n",
    "# 문장의 다음 단어를 예측하기 위해서 초기 상태(initial_state)를 이전 시점의 상태로 사용. 이는 뒤의 함수 decode_sequence()에 구현\n",
    "# 훈련 과정에서와 달리 LSTM의 리턴하는 은닉 상태와 셀 상태인 state_h와 state_c를 버리지 않음.\n",
    "decoder_outputs2, state_h2, state_c2 = decoder_lstm(dec_emb2, initial_state=[decoder_state_input_h, decoder_state_input_c])\n",
    "\n",
    "# 어텐션 함수\n",
    "decoder_hidden_state_input = Input(shape=(text_max_len, hidden_size))\n",
    "attn_out_inf, attn_states_inf = attn_layer([decoder_hidden_state_input, decoder_outputs2])\n",
    "decoder_inf_concat = Concatenate(axis=-1, name='concat')([decoder_outputs2, attn_out_inf])\n",
    "\n",
    "# 디코더의 출력층\n",
    "decoder_outputs2 = decoder_softmax_layer(decoder_inf_concat) \n",
    "\n",
    "# 최종 디코더 모델\n",
    "decoder_model = Model(\n",
    "    [decoder_inputs] + [decoder_hidden_state_input,decoder_state_input_h, decoder_state_input_c],\n",
    "    [decoder_outputs2] + [state_h2, state_c2])"
   ]
  },
  {
   "cell_type": "code",
   "execution_count": 45,
   "id": "specific-albany",
   "metadata": {},
   "outputs": [],
   "source": [
    "def decode_sequence(input_seq):\n",
    "    # 입력으로부터 인코더의 상태를 얻음\n",
    "    e_out, e_h, e_c = encoder_model.predict(input_seq)\n",
    "\n",
    "     # <SOS>에 해당하는 토큰 생성\n",
    "    target_seq = np.zeros((1,1))\n",
    "    target_seq[0, 0] = tar_word_to_index['sostoken']\n",
    "\n",
    "    stop_condition = False\n",
    "    decoded_sentence = ''\n",
    "    while not stop_condition: # stop_condition이 True가 될 때까지 루프 반복\n",
    "\n",
    "        output_tokens, h, c = decoder_model.predict([target_seq] + [e_out, e_h, e_c])\n",
    "        sampled_token_index = np.argmax(output_tokens[0, -1, :])\n",
    "        sampled_token = tar_index_to_word[sampled_token_index]\n",
    "\n",
    "        if(sampled_token!='eostoken'):\n",
    "            decoded_sentence += ' '+sampled_token\n",
    "\n",
    "        #  <eos>에 도달하거나 최대 길이를 넘으면 중단.\n",
    "        if (sampled_token == 'eostoken'  or len(decoded_sentence.split()) >= (summary_max_len-1)):\n",
    "            stop_condition = True\n",
    "\n",
    "        # 길이가 1인 타겟 시퀀스를 업데이트\n",
    "        target_seq = np.zeros((1,1))\n",
    "        target_seq[0, 0] = sampled_token_index\n",
    "\n",
    "        # 상태를 업데이트 합니다.\n",
    "        e_h, e_c = h, c\n",
    "\n",
    "    return decoded_sentence\n",
    "\n",
    "# 원문의 정수 시퀀스를 텍스트 시퀀스로 변환\n",
    "def seq2text(input_seq):\n",
    "    temp=''\n",
    "    for i in input_seq:\n",
    "        if(i!=0):\n",
    "            temp = temp + src_index_to_word[i]+' '\n",
    "    return temp\n",
    "\n",
    "# 요약문의 정수 시퀀스를 텍스트 시퀀스로 변환\n",
    "def seq2summary(input_seq):\n",
    "    temp=''\n",
    "    for i in input_seq:\n",
    "        if((i!=0 and i!=tar_word_to_index['sostoken']) and i!=tar_word_to_index['eostoken']):\n",
    "            temp = temp + tar_index_to_word[i] + ' '\n",
    "    return temp"
   ]
  },
  {
   "cell_type": "markdown",
   "id": "immediate-profile",
   "metadata": {},
   "source": [
    "## 4. Text summary\n",
    "seq2seq 모델(abstractive 요약)과 extractive 요약 모델(summa 이용)을 이용해서 text summary를 한다."
   ]
  },
  {
   "cell_type": "code",
   "execution_count": 46,
   "id": "surgical-contest",
   "metadata": {},
   "outputs": [
    {
     "name": "stdout",
     "output_type": "stream",
     "text": [
      "원문 : rajasthan royals making return ipl two year suspension named steve smith captain upcoming season smith player retained rajasthan royals ipl auction led rising pune supergiant final ipl announcement made rr mentor shane warne \n",
      "실제 요약 : rajasthan royals name steve smith as captain for ipl \n",
      "예측 요약 :  rajasthan royals to smith ipl team jersey for ipl\n",
      "\n",
      "\n",
      "원문 : indian freedom fighter sarojini naidu became first female governor state independent india appointed governor united provinces uttar pradesh also known india naidu also served first indian woman president indian national congress born february \n",
      "실제 요약 : naidu was st female state governor of independent india \n",
      "예측 요약 :  who is the first female general of india\n",
      "\n",
      "\n",
      "원문 : following wickets australia second test kagiso rabada test bowling strike rate best bowler plus wickets years rabada fourth wicket match haul joint second south african cricketer england george best strike rate test cricket history \n",
      "실제 요약 : rabada takes wkt every balls best strike rate in yrs \n",
      "예측 요약 :  england lose runs in balls in test innings for st time\n",
      "\n",
      "\n",
      "원문 : actor emraan hashmi wednesday shared first look upcoming film baadshaho twitter also starring ajay devgn ileana cruz vidyut jammwal esha gupta film revolves around heist emergency india directed milan luthria action thriller release september \n",
      "실제 요약 : emraan hashmi shares his first look from baadshaho \n",
      "예측 요약 :  emraan hashmi shares first look from baadshaho\n",
      "\n",
      "\n",
      "원문 : supreme court monday deferred hearing petition filed central bureau investigation director alok verma challenging removal till friday centre sent verma leave along cbi special director rakesh asthana following infighting cbi meanwhile central vigilance commission submitted probe report bribery allegations verma \n",
      "실제 요약 : sc defers hearing on cbi director alok verma plea till friday \n",
      "예측 요약 :  sc dismisses plea against asthana to be sent to leave\n",
      "\n",
      "\n",
      "원문 : area manager five junior engineers working private power distribution company bihar muzaffarpur sacked found consuming liquor office premises arrested police residents living nearby complained notably bihar implemented total prohibition alcohol substances october \n",
      "실제 요약 : bihar power firm employees sacked over liquor in office \n",
      "예측 요약 :  fired in bihar shelter home after being arrested\n",
      "\n",
      "\n",
      "원문 : south korea financial regulator announced use anonymous bank accounts make cryptocurrency transactions banned starting january new rules also ban foreigners without local bank accounts children age buying cryptocurrencies notably south korea accounts estimated global cryptocurrency trading \n",
      "실제 요약 : south korea to ban anonymous cryptocurrency trading \n",
      "예측 요약 :  korea to use cryptocurrency to ban cryptocurrency\n",
      "\n",
      "\n",
      "원문 : trailer urvashi rautela starrer hate story iv released film directed vishal pandya also directed previous two films franchise also starring karan wahi dhillon gulshan grover hate story iv scheduled release march \n",
      "실제 요약 : trailer of urvashi starrer hate story released \n",
      "예측 요약 :  trailer of kalki starrer naam shabana released\n",
      "\n",
      "\n",
      "원문 : john abraham said commercial success films important never compromise content adding going compromise creativity belt crap make film got actress actor said john added afraid failure \n",
      "실제 요약 : will not compromise on my creativity to belt out crap john \n",
      "예측 요약 :  it is not to be an actor john abraham john\n",
      "\n",
      "\n",
      "원문 : supreme court tuesday set three member committee headed retired judge roy look issues indian prisons recommend steps towards prison reforms committee required file report sc time time court hearing matter relating inhuman conditions prisons across country \n",
      "실제 요약 : sc forms panel headed by retd judge to look into jail reform \n",
      "예측 요약 :  sc to hear plea to hear new judges in jail\n",
      "\n",
      "\n",
      "원문 : many lakh people voted favour catalonia independence spain sunday referendum vote catalan officials claimed region citizens earned right independent state catalonia president carles puigdemont added least people injured vote violent clashes citizens police \n",
      "실제 요약 : voted for catalonia independence from spain officials \n",
      "예측 요약 :  venezuela declares independence vote in independence vote\n",
      "\n",
      "\n",
      "원문 : indian fast bowler jasprit bumrah earned maiden call indian test squad named member squad three match test series south africa wicketkeeper parthiv patel last played test december last year also recalled squad three match series start january cape town \n",
      "실제 요약 : bumrah earns maiden call up to indian test squad for sa tour \n",
      "예측 요약 :  bumrah takes wickets in test series test series vs sa\n",
      "\n",
      "\n",
      "원문 : technology giant apple allowed suppliers reduce accuracy iphone face id speed production according reports earlier reports suggested apple facing production delay iphone due problems face id manufacturing process iphone set launch officially november \n",
      "실제 요약 : face id accuracy reduced to up iphone production report \n",
      "예측 요약 :  apple to charge iphone id in iphone reports\n",
      "\n",
      "\n",
      "원문 : union women child development ministry proposed allowing victims child sexual abuse file police complaints till age stating sometimes authorities file complaints survivors turn adults official said ensure survivor turned away lodging complaint till \n",
      "실제 요약 : child sexual abuse survivors may complaint till age \n",
      "예측 요약 :  child child abuse victims to be held in child sex abuse\n",
      "\n",
      "\n",
      "원문 : bjp mla member erstwhile jaipur royal family year old diya kumari filed divorce narendra singh years marriage reports claimed living separately months decided approach court mutual separation diya earlier said contest rajasthan assembly elections due personal reason \n",
      "실제 요약 : bjp mla jaipur royal files for divorce yrs after marriage \n",
      "예측 요약 :  bjp mla who raped married to marry pm modi\n",
      "\n",
      "\n",
      "원문 : deputy head iran revolutionary guards brigadier general saturday said country could increase missile range beyond kilometres feels threatened europe kept range missiles kilometres due lack technology following strategic doctrine added \n",
      "실제 요약 : would increase missile range if threatened by europe iran \n",
      "예측 요약 :  missile is the most missile missile missile fired general\n",
      "\n",
      "\n",
      "원문 : terror attacks jammu kashmir despite prime minister narendra modi threats pakistan towards terror outfits editorial shiv sena mouthpiece saamana said refuting centre assurance regarding situation control india pakistan border editorial said area still \n",
      "실제 요약 : terror attacks in despite pm modi threat sena \n",
      "예측 요약 :  pak pm modi pak pm modi to pak pm\n",
      "\n",
      "\n",
      "원문 : diljit dosanjh taapsee pannu starrer soorma released today laced promising plot weak execution impact wrote bollywood hungama hindustan times called soorma love story sports biopic film fails short full dramatic potential said ndtv rated \n",
      "실제 요약 : diljit dosanjh taapsee pannu starrer soorma hits theatres \n",
      "예측 요약 :  diljit dosanjh starrer diljit starrer hits the theatres\n",
      "\n",
      "\n",
      "원문 : least seven people including six students shot dead saturday gunmen raided high school kenya apparent revenge attack officials said key suspect senior school suspended last week found fighting vowed take revenge officials added \n",
      "실제 요약 : students among killed in kenya high school shooting \n",
      "예측 요약 :  killed injured in shooting at school in\n",
      "\n",
      "\n",
      "원문 : singer ed sheeran awarded member excellent order british empire queen birthday honours list services charity music comedian billy honoured star wars actress raw awarded among year awards \n",
      "실제 요약 : ed sheeran awarded in queen birthday honours list \n",
      "예측 요약 :  ed sheeran named best actor in the world\n",
      "\n",
      "\n",
      "원문 : year old indian man singapore sentenced years jail strokes cane pleading guilty one charge sexual assault year old girl two charges attempted statutory rape offence came light convict girlfriend found video naked minor phone \n",
      "실제 요약 : indian sentenced to yr jail for sex with yr old in singapore \n",
      "예측 요약 :  indian origin man jailed for raping minor in years\n",
      "\n",
      "\n",
      "원문 : indian pm security constituted special protection group sole security organisation overseeing coordinating pm security spg gets personnel central forces conducts anti sabotage checks pm everywhere handles pm public events conceived following assassination former pm indira gandhi \n",
      "실제 요약 : who provides security to india prime minister \n",
      "예측 요약 :  pm modi orders security to help security personnel\n",
      "\n",
      "\n",
      "원문 : indian cricketer yuvraj singh praised new ipl team mumbai indians captain rohit sharma saying think rohit terrific captain someone keeps nerves pretty calm seen rohit grow front player cricketer human one greats odis yuvraj added \n",
      "실제 요약 : looking forward to playing under captain rohit yuvraj \n"
     ]
    },
    {
     "name": "stdout",
     "output_type": "stream",
     "text": [
      "예측 요약 :  rohit sharma is not to be rohit sharma\n",
      "\n",
      "\n",
      "원문 : beleaguered liquor baron vijay mallya tuesday offered settle bank dues selling assets sought permission karnataka high court filed application setting available assets approximately crore mallya said year old fled london march fighting extradition india \n",
      "실제 요약 : will settle all dues have assets worth cr mallya \n",
      "예측 요약 :  vijay mallya extradition sent to crore in july\n",
      "\n",
      "\n",
      "원문 : former england cricketer shah former indian cricketer manoj prabhakar applied position indian women team coach earlier reports claimed former south african cricketer herschelle gibbs also applied position earlier year tushar stepped indian women team coach following ramesh powar held position \n",
      "실제 요약 : shah manoj apply for women team coach post \n",
      "예측 요약 :  ex england captain ganguly named women coach in cricket\n",
      "\n",
      "\n",
      "원문 : japanese carmaker nissan recalled two lakh cars suvs us due fire risk anti lock brake pump leak brake fluid onto circuit board causing electrical short increasing fire risk according company affected models include nissan \n",
      "실제 요약 : nissan recalls over lakh cars due to risk of fire \n",
      "예측 요약 :  nissan recalls cars in fire over faulty cars\n",
      "\n",
      "\n",
      "원문 : many people arrested gujarat ahmedabad vandalising mall city protest release film padmaavat police said arrests made analysing cctv footage mall vandalised even though boards outside stating movie released \n",
      "실제 요약 : held for mall over padmaavat in gujarat \n",
      "예측 요약 :  arrested in guj mall over padmaavat\n",
      "\n",
      "\n",
      "원문 : ishrat jahan west bengal one five petitioners challenged triple talaq wrote letter cm mamata banerjee seeking security letter wrote laws molested received threats neighbours going community added even filed fir police took action \n",
      "실제 요약 : triple talaq petitioner from west bengal seeks protection \n",
      "예측 요약 :  mamata banerjee calls for wb cm mamata banerjee\n",
      "\n",
      "\n",
      "원문 : reacting pm narendra modi unwanted hug remark congress president rahul gandhi party leader ashok gehlot saturday said modi hugged various leaders visit foreign countries added unwanted hugs earlier pm modi said rahul gandhi unwanted hug result opposition lack reason confidence motion \n",
      "실제 요약 : even pm has world leaders cong on unwanted hug remark \n",
      "예측 요약 :  pm modi rahul gandhi is the great country congress leader\n",
      "\n",
      "\n",
      "원문 : aamir khan said actor stardom measured flop film performs box office stardom comes play make bad film people want watch still come name added aamir said another measuring actors popularity people copy style \n",
      "실제 요약 : stardom can be by how actor flop performs aamir \n",
      "예측 요약 :  people are not doing well aamir on thugs of hindostan\n",
      "\n",
      "\n",
      "원문 : reacting congress claim us president donald trump opposed prime minister narendra modi recent visit going viral union urban development minister venkaiah naidu thursday said congress viral party opposition perhaps happened dreams president trump seen according warm welcome pm modi added \n",
      "실제 요약 : congress is viral party union minister venkaiah naidu \n",
      "예측 요약 :  congress mocks trump for kartarpur corridor\n",
      "\n",
      "\n",
      "원문 : year old woman maharashtra district died due excessive bleeding delivered baby tenth pregnancy woman used run paan shop mother seven daughters one passed away family wanted boy conceived reportedly family pressure \n",
      "실제 요약 : maha woman dies delivering child in th pregnancy \n",
      "예측 요약 :  woman dies after being trapped in mother for hours\n",
      "\n",
      "\n",
      "원문 : nathan year old french completed metre walk along eiffel tower suspended nearly feet air minutes reportedly world first crossing length urban environment practicing took tumble losing balance successfully completed actual stunt without \n",
      "실제 요약 : man walks feet up in the air from eiffel tower \n",
      "예측 요약 :  world largest plane has been cut off feet in\n",
      "\n",
      "\n",
      "원문 : woman singapore received ride credit worth uber gave birth back one taxis baby delivered minute ride minutes away hospital ride hailing startup also reimbursed taxi cleaning fee gave vouchers driver \n",
      "실제 요약 : uber gives ride credit to woman who gave birth in cab \n",
      "예측 요약 :  woman pays ola on ola driver after she was pregnant\n",
      "\n",
      "\n",
      "원문 : australia defeated india runs first odi today become first country win international matches chasing india lost first three wickets four runs joint lowest score three odi history india rohit sharma slammed nd odi hundred shikhar dhawan ambati rayudu got duck \n",
      "실제 요약 : australia beat india to become st team to win int matches \n",
      "예측 요약 :  india beat australia to win th odi series in india\n",
      "\n",
      "\n",
      "원문 : former australian wicketkeeper batsman adam gilchrist smashed highest ever score world cup final april squash ball placed inside left glove gilchrist hit revealed kept squash ball improve grip sri lanka later went claim gilchrist broke spirit tradition game \n",
      "실제 요약 : why did gilchrist bat with squash ball in in wc final \n",
      "예측 요약 :  gilchrist hit world cup with ball tampering\n",
      "\n",
      "\n",
      "원문 : baahubali actor prabhas said actors also shelf life cannot think giving five years one project added age also factor long term film would adverse career prabhas reportedly spent nearly five years shooting baahubali franchise without signing film \n",
      "실제 요약 : actors also have life baahubali actor prabhas \n",
      "예측 요약 :  baahubali is not an actor prabhas says prabhas\n",
      "\n",
      "\n",
      "원문 : delhi university sunday released second cut list undergraduate courses cut economics honours bcom honours lady shri ram college hindu college miranda house closed admissions several ba courses seats university filled first cut \n",
      "실제 요약 : du releases second cut off for economics at \n",
      "예측 요약 :  delhi university releases world first non non pay\n",
      "\n",
      "\n",
      "원문 : members us president donald trump arts committee resigned friday blamed sides violence broke virginia white nationalist rally last week supremacy discrimination american values values american clear call resign members said \n",
      "실제 요약 : trump entire council quits over virginia riot remarks \n",
      "예측 요약 :  white house fires trump over anti white house\n",
      "\n",
      "\n",
      "원문 : us far right activists wikileaks automated bots leak hacked emails french presidential candidate emmanuel macron campaign researchers said saturday however us cyber intelligence firm earlier claimed group tied russian military intelligence unit leaked data one half days final round french presidential election \n",
      "실제 요약 : bots promote macron leaks ahead of french prez polls report \n",
      "예측 요약 :  russia admits to russia probe over data scandal\n",
      "\n",
      "\n",
      "원문 : five indian fishermen arrested sri lankan navy allegedly fishing territory using boats region fishermen leader emerald called arrest saying centre told issues discussed sri lankan wickremesinghe visit india sorted \n",
      "실제 요약 : indian fishermen held for allegedly fishing in sri lanka \n",
      "예측 요약 :  indian fishermen held for fishermen near sri lanka\n",
      "\n",
      "\n",
      "원문 : letter pm narendra modi kerala catholic bishops council urged reject national commission women recommendation ban confession churches council called proposal shocking irresponsible act done motives proposal came several priests accused blackmailing woman sexual favours using confession \n",
      "실제 요약 : bishop body urges pm to reject proposal to ban \n",
      "예측 요약 :  pm modi bans law on religious law on rights law\n",
      "\n",
      "\n",
      "원문 : brigade maratha organisation sought rename city pune letter issued maharashtra government comes shiv sena demanded aurangabad osmanabad area renamed nagar respectively centre reportedly approved renaming places last one year \n",
      "실제 요약 : rename pune as maratha outfit to state govt \n",
      "예측 요약 :  govt to pay up to maha cm for maha govt protest\n",
      "\n",
      "\n",
      "원문 : indian women cricket team captain mithali raj receive cash prize crore square yard house plot telangana government cm chandrasekhar rao met raj family friday also announced lakh reward coach murthy raj led india second place finish recently concluded women world cup \n",
      "실제 요약 : mithali to be awarded crore land by telangana government \n",
      "예측 요약 :  mithali raj mithali singh donates crore cash cash cash\n",
      "\n",
      "\n",
      "원문 : gujarat lions skipper suresh raina expressed disappointment manner ms dhoni removed rising pune supergiant captaincy start ipl done well country well ipl teams respected every time saying world saying said raina \n",
      "실제 요약 : dhoni should have been shown more respect says raina \n",
      "예측 요약 :  dhoni will not be in ipl if ipl suresh raina\n",
      "\n",
      "\n",
      "원문 : india oldest pending civil case rajasthan high court since union mos law justice pp chaudhary said wednesday allahabad jammu kashmir high courts oldest pending criminal cases filed oldest pending civil criminal cases supreme court respectively \n",
      "실제 요약 : india oldest pending civil case in rajasthan hc since \n"
     ]
    },
    {
     "name": "stdout",
     "output_type": "stream",
     "text": [
      "예측 요약 :  india to be world largest hc judges in hc\n",
      "\n",
      "\n",
      "원문 : indian railways decided build km wall along delhi mumbai route order restrict human cattle interference officials said according official move approved railway board expected help railways achieve time performance reduce number accidents \n",
      "실제 요약 : railways to build km wall along delhi mumbai route \n",
      "예측 요약 :  railways to set up rail stations to track skyscraper\n",
      "\n",
      "\n",
      "원문 : ministry external affairs recently launched initiative titled serving diplomats visit schools colleges interact students interact students way mea works basic elements policies diplomacy conducted also give students idea career options field \n",
      "실제 요약 : serving diplomats with students under mea scheme \n",
      "예측 요약 :  mea to allow students to college students\n",
      "\n",
      "\n",
      "원문 : addressing delhi police personnel tuesday home minister rajnath singh said someone comes police station lodge complaint cannot talk stating request commissioner delhi police ensure arrangements tea stalls complainants police stations asked cannot police personnel present role models \n",
      "실제 요약 : cannot we talk to people rajnath to delhi police \n",
      "예측 요약 :  rajnath singh calls cops for not taking cctv call\n",
      "\n",
      "\n",
      "원문 : akhil bharatiya akhara parishad friday released second list fake babas adding three names fourteen babas named earlier new list includes virendra dev dixit whose ashrams police raided recently several women alleged sexual exploitation first list issued body included ram rahim singh asaram bapu \n",
      "실제 요약 : top hindu body releases second list of fake babas \n",
      "예측 요약 :  list of fake news of fake news list\n",
      "\n",
      "\n"
     ]
    }
   ],
   "source": [
    "for i in range(50, 100):\n",
    "    print(\"원문 :\", seq2text(encoder_input_test[i]))\n",
    "    print(\"실제 요약 :\", seq2summary(decoder_input_test[i]))\n",
    "    print(\"예측 요약 :\", decode_sequence(encoder_input_test[i].reshape(1, text_max_len)))\n",
    "    print(\"\\n\")"
   ]
  },
  {
   "cell_type": "code",
   "execution_count": 50,
   "id": "raised-editing",
   "metadata": {},
   "outputs": [
    {
     "name": "stdout",
     "output_type": "stream",
     "text": [
      "원문 : rajasthan royals making return ipl two year suspension named steve smith captain upcoming season smith player retained rajasthan royals ipl auction led rising pune supergiant final ipl announcement made rr mentor shane warne \n",
      "실제 요약 : rajasthan royals name steve smith as captain for ipl \n",
      "예측 요약 :  rajasthan royals to smith ipl team jersey for ipl\n",
      "ext 예측 요약 : \n",
      "\n",
      "\n",
      "원문 : indian freedom fighter sarojini naidu became first female governor state independent india appointed governor united provinces uttar pradesh also known india naidu also served first indian woman president indian national congress born february \n",
      "실제 요약 : naidu was st female state governor of independent india \n",
      "예측 요약 :  who is the first female general of india\n",
      "ext 예측 요약 : \n",
      "\n",
      "\n",
      "원문 : following wickets australia second test kagiso rabada test bowling strike rate best bowler plus wickets years rabada fourth wicket match haul joint second south african cricketer england george best strike rate test cricket history \n",
      "실제 요약 : rabada takes wkt every balls best strike rate in yrs \n",
      "예측 요약 :  england lose runs in balls in test innings for st time\n",
      "ext 예측 요약 : \n",
      "\n",
      "\n",
      "원문 : actor emraan hashmi wednesday shared first look upcoming film baadshaho twitter also starring ajay devgn ileana cruz vidyut jammwal esha gupta film revolves around heist emergency india directed milan luthria action thriller release september \n",
      "실제 요약 : emraan hashmi shares his first look from baadshaho \n",
      "예측 요약 :  emraan hashmi shares first look from baadshaho\n",
      "ext 예측 요약 : \n",
      "\n",
      "\n",
      "원문 : supreme court monday deferred hearing petition filed central bureau investigation director alok verma challenging removal till friday centre sent verma leave along cbi special director rakesh asthana following infighting cbi meanwhile central vigilance commission submitted probe report bribery allegations verma \n",
      "실제 요약 : sc defers hearing on cbi director alok verma plea till friday \n",
      "예측 요약 :  sc dismisses plea against asthana to be sent to leave\n",
      "ext 예측 요약 : \n",
      "\n",
      "\n",
      "원문 : area manager five junior engineers working private power distribution company bihar muzaffarpur sacked found consuming liquor office premises arrested police residents living nearby complained notably bihar implemented total prohibition alcohol substances october \n",
      "실제 요약 : bihar power firm employees sacked over liquor in office \n",
      "예측 요약 :  fired in bihar shelter home after being arrested\n",
      "ext 예측 요약 : \n",
      "\n",
      "\n",
      "원문 : south korea financial regulator announced use anonymous bank accounts make cryptocurrency transactions banned starting january new rules also ban foreigners without local bank accounts children age buying cryptocurrencies notably south korea accounts estimated global cryptocurrency trading \n",
      "실제 요약 : south korea to ban anonymous cryptocurrency trading \n",
      "예측 요약 :  korea to use cryptocurrency to ban cryptocurrency\n",
      "ext 예측 요약 : \n",
      "\n",
      "\n",
      "원문 : trailer urvashi rautela starrer hate story iv released film directed vishal pandya also directed previous two films franchise also starring karan wahi dhillon gulshan grover hate story iv scheduled release march \n",
      "실제 요약 : trailer of urvashi starrer hate story released \n",
      "예측 요약 :  trailer of kalki starrer naam shabana released\n",
      "ext 예측 요약 : \n",
      "\n",
      "\n",
      "원문 : john abraham said commercial success films important never compromise content adding going compromise creativity belt crap make film got actress actor said john added afraid failure \n",
      "실제 요약 : will not compromise on my creativity to belt out crap john \n",
      "예측 요약 :  it is not to be an actor john abraham john\n",
      "ext 예측 요약 : \n",
      "\n",
      "\n",
      "원문 : supreme court tuesday set three member committee headed retired judge roy look issues indian prisons recommend steps towards prison reforms committee required file report sc time time court hearing matter relating inhuman conditions prisons across country \n",
      "실제 요약 : sc forms panel headed by retd judge to look into jail reform \n",
      "예측 요약 :  sc to hear plea to hear new judges in jail\n",
      "ext 예측 요약 : \n",
      "\n",
      "\n",
      "원문 : many lakh people voted favour catalonia independence spain sunday referendum vote catalan officials claimed region citizens earned right independent state catalonia president carles puigdemont added least people injured vote violent clashes citizens police \n",
      "실제 요약 : voted for catalonia independence from spain officials \n",
      "예측 요약 :  venezuela declares independence vote in independence vote\n",
      "ext 예측 요약 : \n",
      "\n",
      "\n",
      "원문 : indian fast bowler jasprit bumrah earned maiden call indian test squad named member squad three match test series south africa wicketkeeper parthiv patel last played test december last year also recalled squad three match series start january cape town \n",
      "실제 요약 : bumrah earns maiden call up to indian test squad for sa tour \n",
      "예측 요약 :  bumrah takes wickets in test series test series vs sa\n",
      "ext 예측 요약 : \n",
      "\n",
      "\n",
      "원문 : technology giant apple allowed suppliers reduce accuracy iphone face id speed production according reports earlier reports suggested apple facing production delay iphone due problems face id manufacturing process iphone set launch officially november \n",
      "실제 요약 : face id accuracy reduced to up iphone production report \n",
      "예측 요약 :  apple to charge iphone id in iphone reports\n",
      "ext 예측 요약 : \n",
      "\n",
      "\n",
      "원문 : union women child development ministry proposed allowing victims child sexual abuse file police complaints till age stating sometimes authorities file complaints survivors turn adults official said ensure survivor turned away lodging complaint till \n",
      "실제 요약 : child sexual abuse survivors may complaint till age \n",
      "예측 요약 :  child child abuse victims to be held in child sex abuse\n",
      "ext 예측 요약 : \n",
      "\n",
      "\n",
      "원문 : bjp mla member erstwhile jaipur royal family year old diya kumari filed divorce narendra singh years marriage reports claimed living separately months decided approach court mutual separation diya earlier said contest rajasthan assembly elections due personal reason \n",
      "실제 요약 : bjp mla jaipur royal files for divorce yrs after marriage \n",
      "예측 요약 :  bjp mla who raped married to marry pm modi\n",
      "ext 예측 요약 : \n",
      "\n",
      "\n",
      "원문 : deputy head iran revolutionary guards brigadier general saturday said country could increase missile range beyond kilometres feels threatened europe kept range missiles kilometres due lack technology following strategic doctrine added \n",
      "실제 요약 : would increase missile range if threatened by europe iran \n",
      "예측 요약 :  missile is the most missile missile missile fired general\n",
      "ext 예측 요약 : \n",
      "\n",
      "\n",
      "원문 : terror attacks jammu kashmir despite prime minister narendra modi threats pakistan towards terror outfits editorial shiv sena mouthpiece saamana said refuting centre assurance regarding situation control india pakistan border editorial said area still \n",
      "실제 요약 : terror attacks in despite pm modi threat sena \n",
      "예측 요약 :  pak pm modi pak pm modi to pak pm\n",
      "ext 예측 요약 : \n",
      "\n",
      "\n",
      "원문 : diljit dosanjh taapsee pannu starrer soorma released today laced promising plot weak execution impact wrote bollywood hungama hindustan times called soorma love story sports biopic film fails short full dramatic potential said ndtv rated \n",
      "실제 요약 : diljit dosanjh taapsee pannu starrer soorma hits theatres \n",
      "예측 요약 :  diljit dosanjh starrer diljit starrer hits the theatres\n",
      "ext 예측 요약 : \n",
      "\n",
      "\n",
      "원문 : least seven people including six students shot dead saturday gunmen raided high school kenya apparent revenge attack officials said key suspect senior school suspended last week found fighting vowed take revenge officials added \n",
      "실제 요약 : students among killed in kenya high school shooting \n",
      "예측 요약 :  killed injured in shooting at school in\n",
      "ext 예측 요약 : \n",
      "\n",
      "\n",
      "원문 : singer ed sheeran awarded member excellent order british empire queen birthday honours list services charity music comedian billy honoured star wars actress raw awarded among year awards \n",
      "실제 요약 : ed sheeran awarded in queen birthday honours list \n",
      "예측 요약 :  ed sheeran named best actor in the world\n",
      "ext 예측 요약 : \n",
      "\n",
      "\n",
      "원문 : year old indian man singapore sentenced years jail strokes cane pleading guilty one charge sexual assault year old girl two charges attempted statutory rape offence came light convict girlfriend found video naked minor phone \n",
      "실제 요약 : indian sentenced to yr jail for sex with yr old in singapore \n",
      "예측 요약 :  indian origin man jailed for raping minor in years\n",
      "ext 예측 요약 : \n",
      "\n",
      "\n",
      "원문 : indian pm security constituted special protection group sole security organisation overseeing coordinating pm security spg gets personnel central forces conducts anti sabotage checks pm everywhere handles pm public events conceived following assassination former pm indira gandhi \n",
      "실제 요약 : who provides security to india prime minister \n"
     ]
    },
    {
     "name": "stdout",
     "output_type": "stream",
     "text": [
      "예측 요약 :  pm modi orders security to help security personnel\n",
      "ext 예측 요약 : \n",
      "\n",
      "\n",
      "원문 : indian cricketer yuvraj singh praised new ipl team mumbai indians captain rohit sharma saying think rohit terrific captain someone keeps nerves pretty calm seen rohit grow front player cricketer human one greats odis yuvraj added \n",
      "실제 요약 : looking forward to playing under captain rohit yuvraj \n",
      "예측 요약 :  rohit sharma is not to be rohit sharma\n",
      "ext 예측 요약 : \n",
      "\n",
      "\n",
      "원문 : beleaguered liquor baron vijay mallya tuesday offered settle bank dues selling assets sought permission karnataka high court filed application setting available assets approximately crore mallya said year old fled london march fighting extradition india \n",
      "실제 요약 : will settle all dues have assets worth cr mallya \n",
      "예측 요약 :  vijay mallya extradition sent to crore in july\n",
      "ext 예측 요약 : \n",
      "\n",
      "\n",
      "원문 : former england cricketer shah former indian cricketer manoj prabhakar applied position indian women team coach earlier reports claimed former south african cricketer herschelle gibbs also applied position earlier year tushar stepped indian women team coach following ramesh powar held position \n",
      "실제 요약 : shah manoj apply for women team coach post \n",
      "예측 요약 :  ex england captain ganguly named women coach in cricket\n",
      "ext 예측 요약 : \n",
      "\n",
      "\n",
      "원문 : japanese carmaker nissan recalled two lakh cars suvs us due fire risk anti lock brake pump leak brake fluid onto circuit board causing electrical short increasing fire risk according company affected models include nissan \n",
      "실제 요약 : nissan recalls over lakh cars due to risk of fire \n",
      "예측 요약 :  nissan recalls cars in fire over faulty cars\n",
      "ext 예측 요약 : \n",
      "\n",
      "\n",
      "원문 : many people arrested gujarat ahmedabad vandalising mall city protest release film padmaavat police said arrests made analysing cctv footage mall vandalised even though boards outside stating movie released \n",
      "실제 요약 : held for mall over padmaavat in gujarat \n",
      "예측 요약 :  arrested in guj mall over padmaavat\n",
      "ext 예측 요약 : \n",
      "\n",
      "\n",
      "원문 : ishrat jahan west bengal one five petitioners challenged triple talaq wrote letter cm mamata banerjee seeking security letter wrote laws molested received threats neighbours going community added even filed fir police took action \n",
      "실제 요약 : triple talaq petitioner from west bengal seeks protection \n",
      "예측 요약 :  mamata banerjee calls for wb cm mamata banerjee\n",
      "ext 예측 요약 : \n",
      "\n",
      "\n",
      "원문 : reacting pm narendra modi unwanted hug remark congress president rahul gandhi party leader ashok gehlot saturday said modi hugged various leaders visit foreign countries added unwanted hugs earlier pm modi said rahul gandhi unwanted hug result opposition lack reason confidence motion \n",
      "실제 요약 : even pm has world leaders cong on unwanted hug remark \n",
      "예측 요약 :  pm modi rahul gandhi is the great country congress leader\n",
      "ext 예측 요약 : \n",
      "\n",
      "\n",
      "원문 : aamir khan said actor stardom measured flop film performs box office stardom comes play make bad film people want watch still come name added aamir said another measuring actors popularity people copy style \n",
      "실제 요약 : stardom can be by how actor flop performs aamir \n",
      "예측 요약 :  people are not doing well aamir on thugs of hindostan\n",
      "ext 예측 요약 : \n",
      "\n",
      "\n",
      "원문 : reacting congress claim us president donald trump opposed prime minister narendra modi recent visit going viral union urban development minister venkaiah naidu thursday said congress viral party opposition perhaps happened dreams president trump seen according warm welcome pm modi added \n",
      "실제 요약 : congress is viral party union minister venkaiah naidu \n",
      "예측 요약 :  congress mocks trump for kartarpur corridor\n",
      "ext 예측 요약 : \n",
      "\n",
      "\n",
      "원문 : year old woman maharashtra district died due excessive bleeding delivered baby tenth pregnancy woman used run paan shop mother seven daughters one passed away family wanted boy conceived reportedly family pressure \n",
      "실제 요약 : maha woman dies delivering child in th pregnancy \n",
      "예측 요약 :  woman dies after being trapped in mother for hours\n",
      "ext 예측 요약 : \n",
      "\n",
      "\n",
      "원문 : nathan year old french completed metre walk along eiffel tower suspended nearly feet air minutes reportedly world first crossing length urban environment practicing took tumble losing balance successfully completed actual stunt without \n",
      "실제 요약 : man walks feet up in the air from eiffel tower \n",
      "예측 요약 :  world largest plane has been cut off feet in\n",
      "ext 예측 요약 : \n",
      "\n",
      "\n",
      "원문 : woman singapore received ride credit worth uber gave birth back one taxis baby delivered minute ride minutes away hospital ride hailing startup also reimbursed taxi cleaning fee gave vouchers driver \n",
      "실제 요약 : uber gives ride credit to woman who gave birth in cab \n",
      "예측 요약 :  woman pays ola on ola driver after she was pregnant\n",
      "ext 예측 요약 : \n",
      "\n",
      "\n",
      "원문 : australia defeated india runs first odi today become first country win international matches chasing india lost first three wickets four runs joint lowest score three odi history india rohit sharma slammed nd odi hundred shikhar dhawan ambati rayudu got duck \n",
      "실제 요약 : australia beat india to become st team to win int matches \n",
      "예측 요약 :  india beat australia to win th odi series in india\n",
      "ext 예측 요약 : \n",
      "\n",
      "\n",
      "원문 : former australian wicketkeeper batsman adam gilchrist smashed highest ever score world cup final april squash ball placed inside left glove gilchrist hit revealed kept squash ball improve grip sri lanka later went claim gilchrist broke spirit tradition game \n",
      "실제 요약 : why did gilchrist bat with squash ball in in wc final \n",
      "예측 요약 :  gilchrist hit world cup with ball tampering\n",
      "ext 예측 요약 : \n",
      "\n",
      "\n",
      "원문 : baahubali actor prabhas said actors also shelf life cannot think giving five years one project added age also factor long term film would adverse career prabhas reportedly spent nearly five years shooting baahubali franchise without signing film \n",
      "실제 요약 : actors also have life baahubali actor prabhas \n",
      "예측 요약 :  baahubali is not an actor prabhas says prabhas\n",
      "ext 예측 요약 : \n",
      "\n",
      "\n",
      "원문 : delhi university sunday released second cut list undergraduate courses cut economics honours bcom honours lady shri ram college hindu college miranda house closed admissions several ba courses seats university filled first cut \n",
      "실제 요약 : du releases second cut off for economics at \n",
      "예측 요약 :  delhi university releases world first non non pay\n",
      "ext 예측 요약 : \n",
      "\n",
      "\n",
      "원문 : members us president donald trump arts committee resigned friday blamed sides violence broke virginia white nationalist rally last week supremacy discrimination american values values american clear call resign members said \n",
      "실제 요약 : trump entire council quits over virginia riot remarks \n",
      "예측 요약 :  white house fires trump over anti white house\n",
      "ext 예측 요약 : \n",
      "\n",
      "\n",
      "원문 : us far right activists wikileaks automated bots leak hacked emails french presidential candidate emmanuel macron campaign researchers said saturday however us cyber intelligence firm earlier claimed group tied russian military intelligence unit leaked data one half days final round french presidential election \n",
      "실제 요약 : bots promote macron leaks ahead of french prez polls report \n",
      "예측 요약 :  russia admits to russia probe over data scandal\n",
      "ext 예측 요약 : \n",
      "\n",
      "\n",
      "원문 : five indian fishermen arrested sri lankan navy allegedly fishing territory using boats region fishermen leader emerald called arrest saying centre told issues discussed sri lankan wickremesinghe visit india sorted \n",
      "실제 요약 : indian fishermen held for allegedly fishing in sri lanka \n",
      "예측 요약 :  indian fishermen held for fishermen near sri lanka\n",
      "ext 예측 요약 : \n",
      "\n",
      "\n",
      "원문 : letter pm narendra modi kerala catholic bishops council urged reject national commission women recommendation ban confession churches council called proposal shocking irresponsible act done motives proposal came several priests accused blackmailing woman sexual favours using confession \n",
      "실제 요약 : bishop body urges pm to reject proposal to ban \n",
      "예측 요약 :  pm modi bans law on religious law on rights law\n",
      "ext 예측 요약 : \n",
      "\n",
      "\n",
      "원문 : brigade maratha organisation sought rename city pune letter issued maharashtra government comes shiv sena demanded aurangabad osmanabad area renamed nagar respectively centre reportedly approved renaming places last one year \n",
      "실제 요약 : rename pune as maratha outfit to state govt \n",
      "예측 요약 :  govt to pay up to maha cm for maha govt protest\n",
      "ext 예측 요약 : \n",
      "\n",
      "\n",
      "원문 : indian women cricket team captain mithali raj receive cash prize crore square yard house plot telangana government cm chandrasekhar rao met raj family friday also announced lakh reward coach murthy raj led india second place finish recently concluded women world cup \n",
      "실제 요약 : mithali to be awarded crore land by telangana government \n"
     ]
    },
    {
     "name": "stdout",
     "output_type": "stream",
     "text": [
      "예측 요약 :  mithali raj mithali singh donates crore cash cash cash\n",
      "ext 예측 요약 : \n",
      "\n",
      "\n",
      "원문 : gujarat lions skipper suresh raina expressed disappointment manner ms dhoni removed rising pune supergiant captaincy start ipl done well country well ipl teams respected every time saying world saying said raina \n",
      "실제 요약 : dhoni should have been shown more respect says raina \n",
      "예측 요약 :  dhoni will not be in ipl if ipl suresh raina\n",
      "ext 예측 요약 : \n",
      "\n",
      "\n",
      "원문 : india oldest pending civil case rajasthan high court since union mos law justice pp chaudhary said wednesday allahabad jammu kashmir high courts oldest pending criminal cases filed oldest pending civil criminal cases supreme court respectively \n",
      "실제 요약 : india oldest pending civil case in rajasthan hc since \n",
      "예측 요약 :  india to be world largest hc judges in hc\n",
      "ext 예측 요약 : \n",
      "\n",
      "\n",
      "원문 : indian railways decided build km wall along delhi mumbai route order restrict human cattle interference officials said according official move approved railway board expected help railways achieve time performance reduce number accidents \n",
      "실제 요약 : railways to build km wall along delhi mumbai route \n",
      "예측 요약 :  railways to set up rail stations to track skyscraper\n",
      "ext 예측 요약 : \n",
      "\n",
      "\n",
      "원문 : ministry external affairs recently launched initiative titled serving diplomats visit schools colleges interact students interact students way mea works basic elements policies diplomacy conducted also give students idea career options field \n",
      "실제 요약 : serving diplomats with students under mea scheme \n",
      "예측 요약 :  mea to allow students to college students\n",
      "ext 예측 요약 : \n",
      "\n",
      "\n",
      "원문 : addressing delhi police personnel tuesday home minister rajnath singh said someone comes police station lodge complaint cannot talk stating request commissioner delhi police ensure arrangements tea stalls complainants police stations asked cannot police personnel present role models \n",
      "실제 요약 : cannot we talk to people rajnath to delhi police \n",
      "예측 요약 :  rajnath singh calls cops for not taking cctv call\n",
      "ext 예측 요약 : \n",
      "\n",
      "\n",
      "원문 : akhil bharatiya akhara parishad friday released second list fake babas adding three names fourteen babas named earlier new list includes virendra dev dixit whose ashrams police raided recently several women alleged sexual exploitation first list issued body included ram rahim singh asaram bapu \n",
      "실제 요약 : top hindu body releases second list of fake babas \n",
      "예측 요약 :  list of fake news of fake news list\n",
      "ext 예측 요약 : \n",
      "\n",
      "\n"
     ]
    }
   ],
   "source": [
    "for i in range(50, 100):\n",
    "    print(\"원문 :\", seq2text(encoder_input_test[i]))\n",
    "    print(\"실제 요약 :\", seq2summary(decoder_input_test[i]))\n",
    "    print(\"예측 요약 :\", decode_sequence(encoder_input_test[i].reshape(1, text_max_len)))\n",
    "    print(\"ext 예측 요약 :\", summarize(seq2text(encoder_input_test[i]),words=10))\n",
    "    print(\"\\n\")"
   ]
  },
  {
   "cell_type": "code",
   "execution_count": 52,
   "id": "persistent-healing",
   "metadata": {},
   "outputs": [
    {
     "name": "stdout",
     "output_type": "stream",
     "text": [
      "원문 : rajasthan royals making return ipl two year suspension named steve smith captain upcoming season smith player retained rajasthan royals ipl auction led rising pune supergiant final ipl announcement made rr mentor shane warne \n",
      "실제 요약 : rajasthan royals name steve smith as captain for ipl \n",
      "ext 예측 요약 : \n",
      "\n",
      "\n",
      "원문 : indian freedom fighter sarojini naidu became first female governor state independent india appointed governor united provinces uttar pradesh also known india naidu also served first indian woman president indian national congress born february \n",
      "실제 요약 : naidu was st female state governor of independent india \n",
      "ext 예측 요약 : \n",
      "\n",
      "\n",
      "원문 : following wickets australia second test kagiso rabada test bowling strike rate best bowler plus wickets years rabada fourth wicket match haul joint second south african cricketer england george best strike rate test cricket history \n",
      "실제 요약 : rabada takes wkt every balls best strike rate in yrs \n",
      "ext 예측 요약 : \n",
      "\n",
      "\n",
      "원문 : actor emraan hashmi wednesday shared first look upcoming film baadshaho twitter also starring ajay devgn ileana cruz vidyut jammwal esha gupta film revolves around heist emergency india directed milan luthria action thriller release september \n",
      "실제 요약 : emraan hashmi shares his first look from baadshaho \n",
      "ext 예측 요약 : \n",
      "\n",
      "\n",
      "원문 : supreme court monday deferred hearing petition filed central bureau investigation director alok verma challenging removal till friday centre sent verma leave along cbi special director rakesh asthana following infighting cbi meanwhile central vigilance commission submitted probe report bribery allegations verma \n",
      "실제 요약 : sc defers hearing on cbi director alok verma plea till friday \n",
      "ext 예측 요약 : \n",
      "\n",
      "\n",
      "원문 : area manager five junior engineers working private power distribution company bihar muzaffarpur sacked found consuming liquor office premises arrested police residents living nearby complained notably bihar implemented total prohibition alcohol substances october \n",
      "실제 요약 : bihar power firm employees sacked over liquor in office \n",
      "ext 예측 요약 : \n",
      "\n",
      "\n",
      "원문 : south korea financial regulator announced use anonymous bank accounts make cryptocurrency transactions banned starting january new rules also ban foreigners without local bank accounts children age buying cryptocurrencies notably south korea accounts estimated global cryptocurrency trading \n",
      "실제 요약 : south korea to ban anonymous cryptocurrency trading \n",
      "ext 예측 요약 : \n",
      "\n",
      "\n",
      "원문 : trailer urvashi rautela starrer hate story iv released film directed vishal pandya also directed previous two films franchise also starring karan wahi dhillon gulshan grover hate story iv scheduled release march \n",
      "실제 요약 : trailer of urvashi starrer hate story released \n",
      "ext 예측 요약 : \n",
      "\n",
      "\n",
      "원문 : john abraham said commercial success films important never compromise content adding going compromise creativity belt crap make film got actress actor said john added afraid failure \n",
      "실제 요약 : will not compromise on my creativity to belt out crap john \n",
      "ext 예측 요약 : \n",
      "\n",
      "\n",
      "원문 : supreme court tuesday set three member committee headed retired judge roy look issues indian prisons recommend steps towards prison reforms committee required file report sc time time court hearing matter relating inhuman conditions prisons across country \n",
      "실제 요약 : sc forms panel headed by retd judge to look into jail reform \n",
      "ext 예측 요약 : \n",
      "\n",
      "\n",
      "원문 : many lakh people voted favour catalonia independence spain sunday referendum vote catalan officials claimed region citizens earned right independent state catalonia president carles puigdemont added least people injured vote violent clashes citizens police \n",
      "실제 요약 : voted for catalonia independence from spain officials \n",
      "ext 예측 요약 : \n",
      "\n",
      "\n",
      "원문 : indian fast bowler jasprit bumrah earned maiden call indian test squad named member squad three match test series south africa wicketkeeper parthiv patel last played test december last year also recalled squad three match series start january cape town \n",
      "실제 요약 : bumrah earns maiden call up to indian test squad for sa tour \n",
      "ext 예측 요약 : \n",
      "\n",
      "\n",
      "원문 : technology giant apple allowed suppliers reduce accuracy iphone face id speed production according reports earlier reports suggested apple facing production delay iphone due problems face id manufacturing process iphone set launch officially november \n",
      "실제 요약 : face id accuracy reduced to up iphone production report \n",
      "ext 예측 요약 : \n",
      "\n",
      "\n",
      "원문 : union women child development ministry proposed allowing victims child sexual abuse file police complaints till age stating sometimes authorities file complaints survivors turn adults official said ensure survivor turned away lodging complaint till \n",
      "실제 요약 : child sexual abuse survivors may complaint till age \n",
      "ext 예측 요약 : \n",
      "\n",
      "\n",
      "원문 : bjp mla member erstwhile jaipur royal family year old diya kumari filed divorce narendra singh years marriage reports claimed living separately months decided approach court mutual separation diya earlier said contest rajasthan assembly elections due personal reason \n",
      "실제 요약 : bjp mla jaipur royal files for divorce yrs after marriage \n",
      "ext 예측 요약 : \n",
      "\n",
      "\n",
      "원문 : deputy head iran revolutionary guards brigadier general saturday said country could increase missile range beyond kilometres feels threatened europe kept range missiles kilometres due lack technology following strategic doctrine added \n",
      "실제 요약 : would increase missile range if threatened by europe iran \n",
      "ext 예측 요약 : \n",
      "\n",
      "\n",
      "원문 : terror attacks jammu kashmir despite prime minister narendra modi threats pakistan towards terror outfits editorial shiv sena mouthpiece saamana said refuting centre assurance regarding situation control india pakistan border editorial said area still \n",
      "실제 요약 : terror attacks in despite pm modi threat sena \n",
      "ext 예측 요약 : \n",
      "\n",
      "\n",
      "원문 : diljit dosanjh taapsee pannu starrer soorma released today laced promising plot weak execution impact wrote bollywood hungama hindustan times called soorma love story sports biopic film fails short full dramatic potential said ndtv rated \n",
      "실제 요약 : diljit dosanjh taapsee pannu starrer soorma hits theatres \n",
      "ext 예측 요약 : \n",
      "\n",
      "\n",
      "원문 : least seven people including six students shot dead saturday gunmen raided high school kenya apparent revenge attack officials said key suspect senior school suspended last week found fighting vowed take revenge officials added \n",
      "실제 요약 : students among killed in kenya high school shooting \n",
      "ext 예측 요약 : \n",
      "\n",
      "\n",
      "원문 : singer ed sheeran awarded member excellent order british empire queen birthday honours list services charity music comedian billy honoured star wars actress raw awarded among year awards \n",
      "실제 요약 : ed sheeran awarded in queen birthday honours list \n",
      "ext 예측 요약 : \n",
      "\n",
      "\n",
      "원문 : year old indian man singapore sentenced years jail strokes cane pleading guilty one charge sexual assault year old girl two charges attempted statutory rape offence came light convict girlfriend found video naked minor phone \n",
      "실제 요약 : indian sentenced to yr jail for sex with yr old in singapore \n",
      "ext 예측 요약 : \n",
      "\n",
      "\n",
      "원문 : indian pm security constituted special protection group sole security organisation overseeing coordinating pm security spg gets personnel central forces conducts anti sabotage checks pm everywhere handles pm public events conceived following assassination former pm indira gandhi \n",
      "실제 요약 : who provides security to india prime minister \n",
      "ext 예측 요약 : \n",
      "\n",
      "\n",
      "원문 : indian cricketer yuvraj singh praised new ipl team mumbai indians captain rohit sharma saying think rohit terrific captain someone keeps nerves pretty calm seen rohit grow front player cricketer human one greats odis yuvraj added \n",
      "실제 요약 : looking forward to playing under captain rohit yuvraj \n",
      "ext 예측 요약 : \n",
      "\n",
      "\n",
      "원문 : beleaguered liquor baron vijay mallya tuesday offered settle bank dues selling assets sought permission karnataka high court filed application setting available assets approximately crore mallya said year old fled london march fighting extradition india \n",
      "실제 요약 : will settle all dues have assets worth cr mallya \n",
      "ext 예측 요약 : \n",
      "\n",
      "\n",
      "원문 : former england cricketer shah former indian cricketer manoj prabhakar applied position indian women team coach earlier reports claimed former south african cricketer herschelle gibbs also applied position earlier year tushar stepped indian women team coach following ramesh powar held position \n",
      "실제 요약 : shah manoj apply for women team coach post \n",
      "ext 예측 요약 : \n",
      "\n",
      "\n",
      "원문 : japanese carmaker nissan recalled two lakh cars suvs us due fire risk anti lock brake pump leak brake fluid onto circuit board causing electrical short increasing fire risk according company affected models include nissan \n",
      "실제 요약 : nissan recalls over lakh cars due to risk of fire \n",
      "ext 예측 요약 : \n",
      "\n",
      "\n",
      "원문 : many people arrested gujarat ahmedabad vandalising mall city protest release film padmaavat police said arrests made analysing cctv footage mall vandalised even though boards outside stating movie released \n",
      "실제 요약 : held for mall over padmaavat in gujarat \n",
      "ext 예측 요약 : \n",
      "\n",
      "\n",
      "원문 : ishrat jahan west bengal one five petitioners challenged triple talaq wrote letter cm mamata banerjee seeking security letter wrote laws molested received threats neighbours going community added even filed fir police took action \n",
      "실제 요약 : triple talaq petitioner from west bengal seeks protection \n",
      "ext 예측 요약 : \n",
      "\n",
      "\n",
      "원문 : reacting pm narendra modi unwanted hug remark congress president rahul gandhi party leader ashok gehlot saturday said modi hugged various leaders visit foreign countries added unwanted hugs earlier pm modi said rahul gandhi unwanted hug result opposition lack reason confidence motion \n",
      "실제 요약 : even pm has world leaders cong on unwanted hug remark \n",
      "ext 예측 요약 : \n",
      "\n",
      "\n",
      "원문 : aamir khan said actor stardom measured flop film performs box office stardom comes play make bad film people want watch still come name added aamir said another measuring actors popularity people copy style \n",
      "실제 요약 : stardom can be by how actor flop performs aamir \n",
      "ext 예측 요약 : \n",
      "\n",
      "\n",
      "원문 : reacting congress claim us president donald trump opposed prime minister narendra modi recent visit going viral union urban development minister venkaiah naidu thursday said congress viral party opposition perhaps happened dreams president trump seen according warm welcome pm modi added \n",
      "실제 요약 : congress is viral party union minister venkaiah naidu \n",
      "ext 예측 요약 : \n",
      "\n",
      "\n",
      "원문 : year old woman maharashtra district died due excessive bleeding delivered baby tenth pregnancy woman used run paan shop mother seven daughters one passed away family wanted boy conceived reportedly family pressure \n",
      "실제 요약 : maha woman dies delivering child in th pregnancy \n",
      "ext 예측 요약 : \n",
      "\n",
      "\n",
      "원문 : nathan year old french completed metre walk along eiffel tower suspended nearly feet air minutes reportedly world first crossing length urban environment practicing took tumble losing balance successfully completed actual stunt without \n",
      "실제 요약 : man walks feet up in the air from eiffel tower \n",
      "ext 예측 요약 : \n",
      "\n",
      "\n",
      "원문 : woman singapore received ride credit worth uber gave birth back one taxis baby delivered minute ride minutes away hospital ride hailing startup also reimbursed taxi cleaning fee gave vouchers driver \n",
      "실제 요약 : uber gives ride credit to woman who gave birth in cab \n",
      "ext 예측 요약 : \n",
      "\n",
      "\n",
      "원문 : australia defeated india runs first odi today become first country win international matches chasing india lost first three wickets four runs joint lowest score three odi history india rohit sharma slammed nd odi hundred shikhar dhawan ambati rayudu got duck \n",
      "실제 요약 : australia beat india to become st team to win int matches \n",
      "ext 예측 요약 : \n",
      "\n",
      "\n",
      "원문 : former australian wicketkeeper batsman adam gilchrist smashed highest ever score world cup final april squash ball placed inside left glove gilchrist hit revealed kept squash ball improve grip sri lanka later went claim gilchrist broke spirit tradition game \n",
      "실제 요약 : why did gilchrist bat with squash ball in in wc final \n",
      "ext 예측 요약 : \n",
      "\n",
      "\n",
      "원문 : baahubali actor prabhas said actors also shelf life cannot think giving five years one project added age also factor long term film would adverse career prabhas reportedly spent nearly five years shooting baahubali franchise without signing film \n",
      "실제 요약 : actors also have life baahubali actor prabhas \n",
      "ext 예측 요약 : \n",
      "\n",
      "\n",
      "원문 : delhi university sunday released second cut list undergraduate courses cut economics honours bcom honours lady shri ram college hindu college miranda house closed admissions several ba courses seats university filled first cut \n",
      "실제 요약 : du releases second cut off for economics at \n",
      "ext 예측 요약 : \n",
      "\n",
      "\n",
      "원문 : members us president donald trump arts committee resigned friday blamed sides violence broke virginia white nationalist rally last week supremacy discrimination american values values american clear call resign members said \n",
      "실제 요약 : trump entire council quits over virginia riot remarks \n",
      "ext 예측 요약 : \n",
      "\n",
      "\n",
      "원문 : us far right activists wikileaks automated bots leak hacked emails french presidential candidate emmanuel macron campaign researchers said saturday however us cyber intelligence firm earlier claimed group tied russian military intelligence unit leaked data one half days final round french presidential election \n",
      "실제 요약 : bots promote macron leaks ahead of french prez polls report \n",
      "ext 예측 요약 : \n",
      "\n",
      "\n",
      "원문 : five indian fishermen arrested sri lankan navy allegedly fishing territory using boats region fishermen leader emerald called arrest saying centre told issues discussed sri lankan wickremesinghe visit india sorted \n",
      "실제 요약 : indian fishermen held for allegedly fishing in sri lanka \n",
      "ext 예측 요약 : \n",
      "\n",
      "\n",
      "원문 : letter pm narendra modi kerala catholic bishops council urged reject national commission women recommendation ban confession churches council called proposal shocking irresponsible act done motives proposal came several priests accused blackmailing woman sexual favours using confession \n",
      "실제 요약 : bishop body urges pm to reject proposal to ban \n",
      "ext 예측 요약 : \n",
      "\n",
      "\n",
      "원문 : brigade maratha organisation sought rename city pune letter issued maharashtra government comes shiv sena demanded aurangabad osmanabad area renamed nagar respectively centre reportedly approved renaming places last one year \n",
      "실제 요약 : rename pune as maratha outfit to state govt \n",
      "ext 예측 요약 : \n",
      "\n",
      "\n",
      "원문 : indian women cricket team captain mithali raj receive cash prize crore square yard house plot telangana government cm chandrasekhar rao met raj family friday also announced lakh reward coach murthy raj led india second place finish recently concluded women world cup \n",
      "실제 요약 : mithali to be awarded crore land by telangana government \n",
      "ext 예측 요약 : \n",
      "\n",
      "\n",
      "원문 : gujarat lions skipper suresh raina expressed disappointment manner ms dhoni removed rising pune supergiant captaincy start ipl done well country well ipl teams respected every time saying world saying said raina \n",
      "실제 요약 : dhoni should have been shown more respect says raina \n",
      "ext 예측 요약 : \n",
      "\n",
      "\n",
      "원문 : india oldest pending civil case rajasthan high court since union mos law justice pp chaudhary said wednesday allahabad jammu kashmir high courts oldest pending criminal cases filed oldest pending civil criminal cases supreme court respectively \n",
      "실제 요약 : india oldest pending civil case in rajasthan hc since \n",
      "ext 예측 요약 : \n",
      "\n",
      "\n",
      "원문 : indian railways decided build km wall along delhi mumbai route order restrict human cattle interference officials said according official move approved railway board expected help railways achieve time performance reduce number accidents \n",
      "실제 요약 : railways to build km wall along delhi mumbai route \n",
      "ext 예측 요약 : \n",
      "\n",
      "\n",
      "원문 : ministry external affairs recently launched initiative titled serving diplomats visit schools colleges interact students interact students way mea works basic elements policies diplomacy conducted also give students idea career options field \n",
      "실제 요약 : serving diplomats with students under mea scheme \n",
      "ext 예측 요약 : \n",
      "\n",
      "\n",
      "원문 : addressing delhi police personnel tuesday home minister rajnath singh said someone comes police station lodge complaint cannot talk stating request commissioner delhi police ensure arrangements tea stalls complainants police stations asked cannot police personnel present role models \n",
      "실제 요약 : cannot we talk to people rajnath to delhi police \n",
      "ext 예측 요약 : \n",
      "\n",
      "\n",
      "원문 : akhil bharatiya akhara parishad friday released second list fake babas adding three names fourteen babas named earlier new list includes virendra dev dixit whose ashrams police raided recently several women alleged sexual exploitation first list issued body included ram rahim singh asaram bapu \n",
      "실제 요약 : top hindu body releases second list of fake babas \n",
      "ext 예측 요약 : \n",
      "\n",
      "\n"
     ]
    }
   ],
   "source": [
    "for i in range(50, 100):\n",
    "    print(\"원문 :\", seq2text(encoder_input_test[i]))\n",
    "    print(\"실제 요약 :\", seq2summary(decoder_input_test[i]))\n",
    "    print(\"ext 예측 요약 :\", summarize(seq2text(encoder_input_test[i])))\n",
    "    print(\"\\n\")"
   ]
  },
  {
   "cell_type": "code",
   "execution_count": 53,
   "id": "previous-kingston",
   "metadata": {},
   "outputs": [
    {
     "name": "stdout",
     "output_type": "stream",
     "text": [
      "Summary:\n",
      "Morpheus, Trinity, Neo, Apoc, Switch, Mouse and Cypher are jacked into the Matrix.\n",
      "Trinity brings the helicopter down to the floor that Morpheus is on and Neo opens fire on the three Agents.\n",
      "Summary:\n",
      "['Morpheus, Trinity, Neo, Apoc, Switch, Mouse and Cypher are jacked into the Matrix.', 'Trinity brings the helicopter down to the floor that Morpheus is on and Neo opens fire on the three Agents.']\n",
      "Summary:\n",
      "Trinity takes Neo to Morpheus.\n",
      "Morpheus, Trinity, Neo, Apoc, Switch, Mouse and Cypher are jacked into the Matrix.\n",
      "Trinity brings the helicopter down to the floor that Morpheus is on and Neo opens fire on the three Agents.\n"
     ]
    }
   ],
   "source": [
    "text = requests.get('http://rare-technologies.com/the_matrix_synopsis.txt').text\n",
    "print('Summary:')\n",
    "print(summarize(text, ratio=0.005))\n",
    "\n",
    "print('Summary:')\n",
    "print(summarize(text, ratio=0.005, split=True))\n",
    "\n",
    "print('Summary:')\n",
    "print(summarize(text, words=50))"
   ]
  },
  {
   "cell_type": "markdown",
   "id": "ranging-donor",
   "metadata": {},
   "source": [
    "## 5. Analysis"
   ]
  },
  {
   "cell_type": "markdown",
   "id": "altered-excitement",
   "metadata": {},
   "source": [
    "위에서 나온 결과들을 살펴보면 다음과 같이 정리할 수 있다.   \n",
    "1. seq2seq을 이용한 모델은 작은 문단은 입력으로도 어느 정도 문장을 만들어 낼 수 있지만 extractive 모델(summa 이용)은 할 수 없었다.    \n",
    "extractive 모델이 잘 작동하는 지 확인하기 위해서 마지막 출력으로 긴 문장에 대해서 요약을 해 보았다.      \n",
    "\n",
    "2. seq2seq의 성능을 살펴보면 일부에 대해서 그럴듯한 요약을 보여줌을 알 수 있다.   \n",
    "4번째 요약을 보면 실제 요약과 거의 비슷한 것을 알 수 있다.   \n",
    "\n",
    "3. 직접적인 비교를 하기는 어렵지만 추상적 요약은 추출적 요약을 비교해보면 다음과 같다.\n",
    "- 추상적 요약은 문장의 표현을 다양하게 할 수 있지만 성능이 그리 좋지는 않다.(성능을 높이기 어렵다.)\n",
    "- 추출적 요약은 기존 문장에서 표현을 사용하기 때문에 쉽게 성능을 높일 수 있지만 작은 입력에 대해서는 처리할 수 없다."
   ]
  },
  {
   "cell_type": "markdown",
   "id": "finnish-horizontal",
   "metadata": {},
   "source": [
    "## 회고 및 루브릭 평가"
   ]
  },
  {
   "cell_type": "markdown",
   "id": "overhead-millennium",
   "metadata": {},
   "source": [
    "### 루브릭 평가 항목\n",
    "1. Abstractive 모델 구성을 위한 텍스트 전처리 단계가 체계적으로 진행되었다.(분석단계, 정제단계, 정규화와 불용어 제거, 데이터셋 분리, 인코딩 과정이 빠짐없이 체계적으로 진행되었다.) \n",
    "2. 텍스트 요약모델이 성공적으로 학습되었음을 확인하였다.(모델학습이 안정적으로 수렴되었음을 그래프를 통해 확인하였으며, 실제 요약문과 유사한 요약문장을 얻을 수 있었다.)\n",
    "3. Extractive 요약을 시도해 보고 Abstractive 요약 결과과 함께 비교해 보았다.(두 요약 결과를 문법완성도 측면과 핵심단어 포함 측면으로 나누어 비교분석 결과를 제시하였다.)"
   ]
  },
  {
   "cell_type": "markdown",
   "id": "applied-progressive",
   "metadata": {},
   "source": [
    "### 평가 항목에 대한 수행\n",
    "1. 'data preprocessing'에서 분석, 정제, 정규화, 불용어 제거, 데이터셋 분리, 인코딩 과정이 모두 진행되었다. \n",
    "2. 'modeling', 'text summary'에서 모델을 성공적으로 학습했음을 알 수 있다.\n",
    "3. 'text summary', 'analysis'에서 2개의 요약 모델을 비교했다."
   ]
  },
  {
   "cell_type": "markdown",
   "id": "contained-light",
   "metadata": {},
   "source": [
    "### 회고"
   ]
  },
  {
   "cell_type": "markdown",
   "id": "ruled-indicator",
   "metadata": {},
   "source": [
    "노션에 공지된 꼭 포함이 되어야 할 점\n",
    "- 이번 프로젝트에서 **어려웠던 점,**\n",
    "- 프로젝트를 진행하면서 **알아낸 점** 혹은 **아직 모호한 점**.\n",
    "- 루브릭 평가 지표를 맞추기 위해 **시도한 것들**.\n",
    "- 만약에 루브릭 평가 관련 지표를 **달성 하지 못했을 때, 이유에 관한 추정**.\n",
    "- **자기 다짐**"
   ]
  },
  {
   "cell_type": "markdown",
   "id": "cosmetic-memory",
   "metadata": {},
   "source": [
    "---\n",
    "- **어려웠던 점**    \n",
    "오랜만에 모델을 구성하고 훈련하는 노드가 나와서 진행하는 데 오래 걸렸다. 오랫동안 재부팅을 안해서 처음에 학습이 너무 느렸었고, 재부팅 후에도 커널이 약간 말썽을 부렸다.\n",
    "---\n",
    "- **알아낸 점**    \n",
    "seq2seq에 대해서 이론적으로 공부해서 알고는 있었지만 실제로 구현하지는 않았었는데 이번에 구현을 하면서 모델을 만들 때에 훈련과정과 추론과정에 대하여 따로 만들어 줄 필요가 있다는 것을 알 수 있었다. \n",
    "\n",
    "- **모호한 점**    \n",
    "데이터를 보면 요약하기 전 데이터는 35개 정도의 단어를 사용했고, 요약한 데이터는 10개 정도의 데이터를 사용했다. 결국, 3개의 문장을 하나의 문장으로 표현하는 문제에 대해서 학습한 것인데 효용성이 있는 지가 의문이다. 그리고 중간 중간에 이해하기 힘든 단어들이 있어서 해석하기가 많이 모호했다. (아마 데이터 전처리 과정에 의해서 사람이 인식하기 힘들게 변환이 된 것 같다. 예를 들어 모든 단어를 소문자로 한 것 등등)\n",
    "---\n",
    "- **시도한 것들**   \n",
    "처음에는 사용할 단어의 수를 8,000개, 2,000개로 제한하여 하였는데, 요약한 결과가 특정 단어가 반복되는 현상을 많이 보여서 단어의 수를 22,000개, 10,000개로 바꿔서 시도를 하였다.\n",
    "\n",
    "---\n",
    "- **우브릭 평가 관련 지표**   \n",
    "제 예상에는 모두 달성되었다고 생각한다. 그 이유는 위에 있는 **평가 항목에 대한 수행**에 나와있다.  \n",
    "- **자기 다짐** 및 **나의 생각들**      \n",
    "사실 아이펠 와서 NLP 공부를 처음 시작을 했는데, 운이 좋게도 노드를 하기 전에 미리 NLP 내용을 숙지할 수 있어서 어려운 개념이 없었다. 그런데 이 프로젝트를 하면서 의문을 느낀 것들이 있다. 우선 데이터에 대한 정확한 이해 없이 그냥  NLP에서 하는 전처리를 하는 것 같다. 그렇게 생각하는 이유는 EDA 과정이 거의 없다고 해도 무방하기 때문이다. 데이터를 이해하기 위한 처리가 단어의 빈도수와 문장의 길이를 계산하는 것 밖에 없다. 이 2가지 정보로 어떻게 불용어를 정하고 정규화 단어들의 정하는 등의 전처리 과정을 했는지 나는 이해를 못 했다. 그리고 위에서도 잠깐 언급한 건데 짧은 문장을 요약하는 것이 효용성이 있는 건지 궁금하다. 마지막으로 오타인지 고유명사인지 아니면 데이터 처리 중에 변환되어서 이상한 건지 모르겠지만 마지막 성능을 확인하기 위해서 출력한 텍스트들에서 이상한 단어들이 많았다. 이걸 어떻게 해석해야 할 지 모르겠다. 이런 점에 대해서 상세히 설명을 해주면 좋을 것 같다.   \n",
    "이렇게 모호한 점이 많지만 빠르게 할 수 있었던 이유는 하나이다. 루브릭 평가도 모호하기 때문이다. 즉, 정량적으로 평가하는 지표가 하나도 없었다. 그래서 예제에서 큰 변경(조작) 없이도 구현하기 쉬웠다. 아마 NLP 쪽이 어떤 건지를 소개하기 위한 의도인 것 같다.    \n",
    "얼마 전에 BERT까지 공부를 했는데 BERT를 이용하면 좀 더 그럴듯한 문장이 나오지 않을까 생각해본다."
   ]
  },
  {
   "cell_type": "code",
   "execution_count": null,
   "id": "short-affair",
   "metadata": {},
   "outputs": [],
   "source": []
  }
 ],
 "metadata": {
  "kernelspec": {
   "display_name": "aiffel",
   "language": "python",
   "name": "aiffel"
  },
  "language_info": {
   "codemirror_mode": {
    "name": "ipython",
    "version": 3
   },
   "file_extension": ".py",
   "mimetype": "text/x-python",
   "name": "python",
   "nbconvert_exporter": "python",
   "pygments_lexer": "ipython3",
   "version": "3.7.9"
  }
 },
 "nbformat": 4,
 "nbformat_minor": 5
}
