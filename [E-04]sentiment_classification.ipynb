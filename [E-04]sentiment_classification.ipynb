{
 "cells": [
  {
   "cell_type": "markdown",
   "metadata": {},
   "source": [
    "# Sentiment_classification\n",
    "AIFFEL 대전 탐색 노드 4   \n",
    "네이버 영화리뷰 감성분석하는 프로젝트이다.   \n",
    "프로세스는 다음과 같다.    \n",
    "1. 데이터 준비와 확인   \n",
    "2. 데이터로더 구성   \n",
    "3. 모델구성을 위한 데이터 분석 및 가공   \n",
    "4. 모델구성 및 validation set 구성\n",
    "5. 모델 훈련 개시\n",
    "6. Loss, Accuracy 그래프 시각화\n",
    "7. 학습된 Embedding 레이어 분석\n",
    "8. 한국어 Word2Vec 임베딩 활용하여 성능개선"
   ]
  },
  {
   "cell_type": "markdown",
   "metadata": {},
   "source": [
    "## 1) 데이터 준비와 확인"
   ]
  },
  {
   "cell_type": "code",
   "execution_count": 1,
   "metadata": {},
   "outputs": [
    {
     "name": "stdout",
     "output_type": "stream",
     "text": [
      "150000\n",
      "50000\n"
     ]
    },
    {
     "data": {
      "text/html": [
       "<div>\n",
       "<style scoped>\n",
       "    .dataframe tbody tr th:only-of-type {\n",
       "        vertical-align: middle;\n",
       "    }\n",
       "\n",
       "    .dataframe tbody tr th {\n",
       "        vertical-align: top;\n",
       "    }\n",
       "\n",
       "    .dataframe thead th {\n",
       "        text-align: right;\n",
       "    }\n",
       "</style>\n",
       "<table border=\"1\" class=\"dataframe\">\n",
       "  <thead>\n",
       "    <tr style=\"text-align: right;\">\n",
       "      <th></th>\n",
       "      <th>id</th>\n",
       "      <th>document</th>\n",
       "      <th>label</th>\n",
       "    </tr>\n",
       "  </thead>\n",
       "  <tbody>\n",
       "    <tr>\n",
       "      <th>0</th>\n",
       "      <td>9976970</td>\n",
       "      <td>아 더빙.. 진짜 짜증나네요 목소리</td>\n",
       "      <td>0</td>\n",
       "    </tr>\n",
       "    <tr>\n",
       "      <th>1</th>\n",
       "      <td>3819312</td>\n",
       "      <td>흠...포스터보고 초딩영화줄....오버연기조차 가볍지 않구나</td>\n",
       "      <td>1</td>\n",
       "    </tr>\n",
       "    <tr>\n",
       "      <th>2</th>\n",
       "      <td>10265843</td>\n",
       "      <td>너무재밓었다그래서보는것을추천한다</td>\n",
       "      <td>0</td>\n",
       "    </tr>\n",
       "    <tr>\n",
       "      <th>3</th>\n",
       "      <td>9045019</td>\n",
       "      <td>교도소 이야기구먼 ..솔직히 재미는 없다..평점 조정</td>\n",
       "      <td>0</td>\n",
       "    </tr>\n",
       "    <tr>\n",
       "      <th>4</th>\n",
       "      <td>6483659</td>\n",
       "      <td>사이몬페그의 익살스런 연기가 돋보였던 영화!스파이더맨에서 늙어보이기만 했던 커스틴 ...</td>\n",
       "      <td>1</td>\n",
       "    </tr>\n",
       "  </tbody>\n",
       "</table>\n",
       "</div>"
      ],
      "text/plain": [
       "         id                                           document  label\n",
       "0   9976970                                아 더빙.. 진짜 짜증나네요 목소리      0\n",
       "1   3819312                  흠...포스터보고 초딩영화줄....오버연기조차 가볍지 않구나      1\n",
       "2  10265843                                  너무재밓었다그래서보는것을추천한다      0\n",
       "3   9045019                      교도소 이야기구먼 ..솔직히 재미는 없다..평점 조정      0\n",
       "4   6483659  사이몬페그의 익살스런 연기가 돋보였던 영화!스파이더맨에서 늙어보이기만 했던 커스틴 ...      1"
      ]
     },
     "execution_count": 1,
     "metadata": {},
     "output_type": "execute_result"
    }
   ],
   "source": [
    "import pandas as pd\n",
    "import urllib.request\n",
    "%matplotlib inline\n",
    "import matplotlib.pyplot as plt\n",
    "import re\n",
    "from konlpy.tag import Okt\n",
    "from tensorflow import keras\n",
    "from tensorflow.keras.preprocessing.text import Tokenizer\n",
    "import numpy as np\n",
    "from tensorflow.keras.preprocessing.sequence import pad_sequences\n",
    "from collections import Counter\n",
    "\n",
    "# 데이터를 읽어봅시다. (load)\n",
    "train_data = pd.read_table('~/aiffel/sentiment_classification/ratings_train.txt')\n",
    "test_data = pd.read_table('~/aiffel/sentiment_classification/ratings_test.txt')\n",
    "#check the data size\n",
    "print(len(train_data))\n",
    "print(len(test_data))\n",
    "train_data.head()"
   ]
  },
  {
   "cell_type": "markdown",
   "metadata": {},
   "source": [
    "## 2) 데이터로더 구성  (전처리)\n",
    "텍스트 데이터를 모델에 입력할 수 있도록 숫자로 변환해 주는 작업이다."
   ]
  },
  {
   "cell_type": "code",
   "execution_count": 2,
   "metadata": {},
   "outputs": [],
   "source": [
    "# using konlpy\n",
    "from konlpy.tag import Mecab\n",
    "tokenizer = Mecab()\n",
    "#미리 정의한 불용어\n",
    "stopwords = ['의','가','이','은','들','는','좀','잘','걍','과','도','를','으로','자','에','와','한','하다'] \n",
    "num_words = 10000\n",
    "\n",
    "# 함수 기능\n",
    "# 데이터의 중복 제거   \n",
    "# NaN 결측치 제거   \n",
    "# 한국어 토크나이저로 토큰화   \n",
    "# 불용어(Stopwords) 제거   \n",
    "# 사전word_to_index 구성   \n",
    "# 텍스트 스트링을 사전 인덱스 스트링으로 변환   \n",
    "# X_train, y_train, X_test, y_test, word_to_index 리턴   \n",
    "def load_data(train_data, test_data, num_words=num_words):\n",
    "    # 중복, 결측치 제거\n",
    "    train_data.drop_duplicates(subset=['document'], inplace=True)\n",
    "    train_data = train_data.dropna(how = 'any') \n",
    "    test_data.drop_duplicates(subset=['document'], inplace=True)\n",
    "    test_data = test_data.dropna(how = 'any') \n",
    "\n",
    "    X_train = []\n",
    "    for sentence in train_data['document']:\n",
    "        temp_X = tokenizer.morphs(sentence) # 토큰화\n",
    "        temp_X = [word for word in temp_X if not word in stopwords] # 불용어 제거\n",
    "        X_train.append(temp_X)\n",
    "\n",
    "    X_test = []\n",
    "    for sentence in test_data['document']:\n",
    "        temp_X = tokenizer.morphs(sentence) # 토큰화\n",
    "        temp_X = [word for word in temp_X if not word in stopwords] # 불용어 제거\n",
    "        X_test.append(temp_X)\n",
    "\n",
    "    words = np.concatenate(X_train).tolist()\n",
    "    counter = Counter(words)\n",
    "    counter = counter.most_common(num_words-4)\n",
    "    vocab = ['<PAD>', '<BOS>', '<UNK>', '<UNUSED>'] + [key for key, _ in counter]\n",
    "    # 사전 구성\n",
    "    word_to_index = {word:index for index, word in enumerate(vocab)}\n",
    "\n",
    "    def wordlist_to_indexlist(wordlist):\n",
    "        return [word_to_index[word] if word in word_to_index else word_to_index['<UNK>'] for word in wordlist]\n",
    "    # 변환 text to index\n",
    "    X_train = list(map(wordlist_to_indexlist, X_train))\n",
    "    X_test = list(map(wordlist_to_indexlist, X_test))\n",
    "\n",
    "    return X_train, np.array(list(train_data['label'])), X_test, np.array(list(test_data['label'])), word_to_index\n",
    "    \n",
    "X_train, y_train, X_test, y_test, word_to_index = load_data(train_data, test_data)"
   ]
  },
  {
   "cell_type": "code",
   "execution_count": 3,
   "metadata": {},
   "outputs": [],
   "source": [
    "# index to text 사전\n",
    "index_to_word = {index:word for word, index in word_to_index.items()}"
   ]
  },
  {
   "cell_type": "code",
   "execution_count": 4,
   "metadata": {},
   "outputs": [],
   "source": [
    "# 문장 1개를 활용할 딕셔너리와 함께 주면, 단어 인덱스 리스트 벡터로 변환해 주는 함수입니다. \n",
    "# 단, 모든 문장은 <BOS>로 시작하는 것으로 합니다. \n",
    "def get_encoded_sentence(sentence, word_to_index):\n",
    "    return [word_to_index['<BOS>']]+[word_to_index[word] if word in word_to_index else word_to_index['<UNK>'] for word in sentence.split()]\n",
    "\n",
    "# 여러 개의 문장 리스트를 한꺼번에 단어 인덱스 리스트 벡터로 encode해 주는 함수입니다. \n",
    "def get_encoded_sentences(sentences, word_to_index):\n",
    "    return [get_encoded_sentence(sentence, word_to_index) for sentence in sentences]\n",
    "\n",
    "# 숫자 벡터로 encode된 문장을 원래대로 decode하는 함수입니다. \n",
    "def get_decoded_sentence(encoded_sentence, index_to_word):\n",
    "    return ' '.join(index_to_word[index] if index in index_to_word else '<UNK>' for index in encoded_sentence[1:])  #[1:]를 통해 <BOS>를 제외\n",
    "\n",
    "# 여러개의 숫자 벡터로 encode된 문장을 한꺼번에 원래대로 decode하는 함수입니다. \n",
    "def get_decoded_sentences(encoded_sentences, index_to_word):\n",
    "    return [get_decoded_sentence(encoded_sentence, index_to_word) for encoded_sentence in encoded_sentences]"
   ]
  },
  {
   "cell_type": "markdown",
   "metadata": {},
   "source": [
    "## 3) 모델구성을 위한 데이터 분석 및 가공   \n",
    "데이터를 분석하여 훈련에 방해되는 것들을 제거하고 입력의 형식을 맞추는 정제 작업을 한다.\n",
    " -   데이터셋 내 문장 길이 분포   \n",
    " -   적절한 최대 문장 길이 지정   \n",
    " -   keras.preprocessing.sequence.pad_sequences 을 활용한 패딩 추가   \n",
    " "
   ]
  },
  {
   "cell_type": "code",
   "execution_count": 5,
   "metadata": {},
   "outputs": [
    {
     "name": "stdout",
     "output_type": "stream",
     "text": [
      "문장길이 평균 :  15.96940191154864\n",
      "문장길이 최대 :  116\n",
      "문장길이 표준편차 :  12.843571191092\n",
      "pad_sequences maxlen :  41\n",
      "전체 문장의 0.9342988343341575%가 maxlen 설정값 이내에 포함됩니다. \n"
     ]
    }
   ],
   "source": [
    "total_data_text = list(X_train) + list(X_test)\n",
    "# 텍스트데이터 문장길이의 리스트를 생성한 후\n",
    "num_tokens = [len(tokens) for tokens in total_data_text]\n",
    "num_tokens = np.array(num_tokens)\n",
    "# 문장길이의 평균값, 최대값, 표준편차를 계산해 본다. \n",
    "print('문장길이 평균 : ', np.mean(num_tokens))\n",
    "print('문장길이 최대 : ', np.max(num_tokens))\n",
    "print('문장길이 표준편차 : ', np.std(num_tokens))\n",
    "\n",
    "# 최대 길이를 (평균 + 2*표준편차)로 한다  \n",
    "max_tokens = np.mean(num_tokens) + 2 * np.std(num_tokens)\n",
    "maxlen = int(max_tokens)\n",
    "print('pad_sequences maxlen : ', maxlen)\n",
    "print('전체 문장의 {}%가 maxlen 설정값 이내에 포함됩니다. '.format(np.sum(num_tokens < max_tokens) / len(num_tokens)))"
   ]
  },
  {
   "cell_type": "code",
   "execution_count": 6,
   "metadata": {},
   "outputs": [
    {
     "name": "stdout",
     "output_type": "stream",
     "text": [
      "(146182, 41)\n"
     ]
    }
   ],
   "source": [
    "# 패딩 추가 (using keras.preprocessing.sequence.pad_sequences)\n",
    "X_train = keras.preprocessing.sequence.pad_sequences(X_train,\n",
    "                                                        value=word_to_index[\"<PAD>\"],\n",
    "                                                        padding='pre', # 혹은 'post'\n",
    "                                                        maxlen=maxlen)\n",
    "\n",
    "X_test = keras.preprocessing.sequence.pad_sequences(X_test,\n",
    "                                                       value=word_to_index[\"<PAD>\"],\n",
    "                                                       padding='pre', # 혹은 'post'\n",
    "                                                       maxlen=maxlen)\n",
    "\n",
    "print(X_train.shape)"
   ]
  },
  {
   "cell_type": "markdown",
   "metadata": {},
   "source": [
    "## 4) 모델구성 및 validation set 구성   \n",
    "모델은 3가지 이상 다양하게 구성한다.\n",
    "- LSTM(RNN) 이용\n",
    "- Conv 이용\n",
    "- Maxpooling 이용"
   ]
  },
  {
   "cell_type": "code",
   "execution_count": 7,
   "metadata": {},
   "outputs": [
    {
     "name": "stdout",
     "output_type": "stream",
     "text": [
      "Model: \"sequential\"\n",
      "_________________________________________________________________\n",
      "Layer (type)                 Output Shape              Param #   \n",
      "=================================================================\n",
      "embedding (Embedding)        (None, None, 200)         2000000   \n",
      "_________________________________________________________________\n",
      "lstm (LSTM)                  (None, 200)               320800    \n",
      "_________________________________________________________________\n",
      "dense (Dense)                (None, 8)                 1608      \n",
      "_________________________________________________________________\n",
      "dense_1 (Dense)              (None, 1)                 9         \n",
      "=================================================================\n",
      "Total params: 2,322,417\n",
      "Trainable params: 2,322,417\n",
      "Non-trainable params: 0\n",
      "_________________________________________________________________\n",
      "Model: \"sequential_1\"\n",
      "_________________________________________________________________\n",
      "Layer (type)                 Output Shape              Param #   \n",
      "=================================================================\n",
      "embedding_1 (Embedding)      (None, None, 200)         2000000   \n",
      "_________________________________________________________________\n",
      "conv1d (Conv1D)              (None, None, 16)          22416     \n",
      "_________________________________________________________________\n",
      "max_pooling1d (MaxPooling1D) (None, None, 16)          0         \n",
      "_________________________________________________________________\n",
      "conv1d_1 (Conv1D)            (None, None, 16)          1808      \n",
      "_________________________________________________________________\n",
      "global_max_pooling1d (Global (None, 16)                0         \n",
      "_________________________________________________________________\n",
      "dense_2 (Dense)              (None, 8)                 136       \n",
      "_________________________________________________________________\n",
      "dense_3 (Dense)              (None, 1)                 9         \n",
      "=================================================================\n",
      "Total params: 2,024,369\n",
      "Trainable params: 2,024,369\n",
      "Non-trainable params: 0\n",
      "_________________________________________________________________\n",
      "Model: \"sequential_2\"\n",
      "_________________________________________________________________\n",
      "Layer (type)                 Output Shape              Param #   \n",
      "=================================================================\n",
      "embedding_2 (Embedding)      (None, None, 200)         2000000   \n",
      "_________________________________________________________________\n",
      "global_max_pooling1d_1 (Glob (None, 200)               0         \n",
      "_________________________________________________________________\n",
      "dense_4 (Dense)              (None, 8)                 1608      \n",
      "_________________________________________________________________\n",
      "dense_5 (Dense)              (None, 1)                 9         \n",
      "=================================================================\n",
      "Total params: 2,001,617\n",
      "Trainable params: 2,001,617\n",
      "Non-trainable params: 0\n",
      "_________________________________________________________________\n"
     ]
    }
   ],
   "source": [
    "vocab_size = 10000    # 어휘 사전의 크기입니다(10,000개의 단어)\n",
    "word_vector_dim = 200  # 워드 벡터의 차원수 (변경가능한 하이퍼파라미터)\n",
    "\n",
    "# model 설계\n",
    "# 1 using LSTM\n",
    "model1 = keras.Sequential()\n",
    "model1.add(keras.layers.Embedding(vocab_size, word_vector_dim, input_shape=(None,)))\n",
    "model1.add(keras.layers.LSTM(word_vector_dim))   # 가장 널리 쓰이는 RNN인 LSTM 레이어를 사용하였습니다. 이때 LSTM state 벡터의 차원수는 8로 하였습니다. (변경가능)\n",
    "model1.add(keras.layers.Dense(8, activation='relu'))\n",
    "model1.add(keras.layers.Dense(1, activation='sigmoid'))  # 최종 출력은 긍정/부정을 나타내는 1dim 입니다.\n",
    "\n",
    "# 2 using conv\n",
    "model2 = keras.Sequential()\n",
    "model2.add(keras.layers.Embedding(vocab_size, word_vector_dim, input_shape=(None,)))\n",
    "model2.add(keras.layers.Conv1D(16, 7, activation='relu'))\n",
    "model2.add(keras.layers.MaxPooling1D(5))\n",
    "model2.add(keras.layers.Conv1D(16, 7, activation='relu'))\n",
    "model2.add(keras.layers.GlobalMaxPooling1D())\n",
    "model2.add(keras.layers.Dense(8, activation='relu'))\n",
    "model2.add(keras.layers.Dense(1, activation='sigmoid'))  # 최종 출력은 긍정/부정을 나타내는 1dim 입니다.\n",
    "\n",
    "# 3 using maxpooling\n",
    "model3 = keras.Sequential()\n",
    "model3.add(keras.layers.Embedding(vocab_size, word_vector_dim, input_shape=(None,)))\n",
    "model3.add(keras.layers.GlobalMaxPooling1D())\n",
    "model3.add(keras.layers.Dense(8, activation='relu'))\n",
    "model3.add(keras.layers.Dense(1, activation='sigmoid'))  # 최종 출력은 긍정/부정을 나타내는 1dim 입니다.\n",
    "\n",
    "model1.summary()\n",
    "model2.summary()\n",
    "model3.summary()"
   ]
  },
  {
   "cell_type": "code",
   "execution_count": 8,
   "metadata": {},
   "outputs": [
    {
     "name": "stdout",
     "output_type": "stream",
     "text": [
      "(96182, 41)\n",
      "(96182,)\n"
     ]
    }
   ],
   "source": [
    "# validation set 50000건 분리\n",
    "x_val = X_train[:50000]   \n",
    "y_val = y_train[:50000]\n",
    "\n",
    "# validation set을 제외한 나머지 \n",
    "partial_X_train = X_train[50000:]  \n",
    "partial_y_train = y_train[50000:]\n",
    "\n",
    "print(partial_X_train.shape)\n",
    "print(partial_y_train.shape)"
   ]
  },
  {
   "cell_type": "markdown",
   "metadata": {},
   "source": [
    "## 5) 모델 훈련 개시"
   ]
  },
  {
   "cell_type": "code",
   "execution_count": 9,
   "metadata": {},
   "outputs": [
    {
     "name": "stdout",
     "output_type": "stream",
     "text": [
      "Epoch 1/20\n",
      "188/188 [==============================] - 6s 34ms/step - loss: 0.4415 - accuracy: 0.7979 - val_loss: 0.3466 - val_accuracy: 0.8478\n",
      "Epoch 2/20\n",
      "188/188 [==============================] - 6s 32ms/step - loss: 0.3237 - accuracy: 0.8624 - val_loss: 0.3406 - val_accuracy: 0.8528\n",
      "Epoch 3/20\n",
      "188/188 [==============================] - 6s 32ms/step - loss: 0.2885 - accuracy: 0.8790 - val_loss: 0.3334 - val_accuracy: 0.8556\n",
      "Epoch 4/20\n",
      "188/188 [==============================] - 6s 33ms/step - loss: 0.2549 - accuracy: 0.8935 - val_loss: 0.3403 - val_accuracy: 0.8565\n",
      "Epoch 5/20\n",
      "188/188 [==============================] - 6s 34ms/step - loss: 0.2264 - accuracy: 0.9063 - val_loss: 0.3563 - val_accuracy: 0.8538\n",
      "Epoch 6/20\n",
      "188/188 [==============================] - 7s 35ms/step - loss: 0.1997 - accuracy: 0.9187 - val_loss: 0.4051 - val_accuracy: 0.8526\n",
      "Epoch 7/20\n",
      "188/188 [==============================] - 7s 37ms/step - loss: 0.1757 - accuracy: 0.9280 - val_loss: 0.4185 - val_accuracy: 0.8499\n",
      "Epoch 8/20\n",
      "188/188 [==============================] - 7s 36ms/step - loss: 0.1548 - accuracy: 0.9371 - val_loss: 0.4833 - val_accuracy: 0.8494\n",
      "Epoch 9/20\n",
      "188/188 [==============================] - 7s 36ms/step - loss: 0.1364 - accuracy: 0.9443 - val_loss: 0.5361 - val_accuracy: 0.8474\n",
      "Epoch 10/20\n",
      "188/188 [==============================] - 7s 36ms/step - loss: 0.1203 - accuracy: 0.9508 - val_loss: 0.5970 - val_accuracy: 0.8454\n",
      "Epoch 11/20\n",
      "188/188 [==============================] - 7s 36ms/step - loss: 0.1079 - accuracy: 0.9556 - val_loss: 0.6030 - val_accuracy: 0.8431\n",
      "Epoch 12/20\n",
      "188/188 [==============================] - 7s 36ms/step - loss: 0.0954 - accuracy: 0.9603 - val_loss: 0.6936 - val_accuracy: 0.8417\n",
      "Epoch 13/20\n",
      "188/188 [==============================] - 7s 36ms/step - loss: 0.0865 - accuracy: 0.9643 - val_loss: 0.7145 - val_accuracy: 0.8394\n",
      "Epoch 14/20\n",
      "188/188 [==============================] - 7s 37ms/step - loss: 0.0765 - accuracy: 0.9680 - val_loss: 0.7751 - val_accuracy: 0.8413\n",
      "Epoch 15/20\n",
      "188/188 [==============================] - 7s 37ms/step - loss: 0.0694 - accuracy: 0.9709 - val_loss: 0.7811 - val_accuracy: 0.8401\n",
      "Epoch 16/20\n",
      "188/188 [==============================] - 7s 36ms/step - loss: 0.0670 - accuracy: 0.9718 - val_loss: 0.8343 - val_accuracy: 0.8384\n",
      "Epoch 17/20\n",
      "188/188 [==============================] - 7s 36ms/step - loss: 0.0591 - accuracy: 0.9752 - val_loss: 0.8642 - val_accuracy: 0.8378\n",
      "Epoch 18/20\n",
      "188/188 [==============================] - 7s 36ms/step - loss: 0.0530 - accuracy: 0.9772 - val_loss: 0.9301 - val_accuracy: 0.8400\n",
      "Epoch 19/20\n",
      "188/188 [==============================] - 7s 36ms/step - loss: 0.0486 - accuracy: 0.9794 - val_loss: 1.0063 - val_accuracy: 0.8352\n",
      "Epoch 20/20\n",
      "188/188 [==============================] - 7s 36ms/step - loss: 0.0440 - accuracy: 0.9815 - val_loss: 1.0065 - val_accuracy: 0.8365\n"
     ]
    }
   ],
   "source": [
    "model1.compile(optimizer='adam',\n",
    "              loss='binary_crossentropy',\n",
    "              metrics=['accuracy'])\n",
    "              \n",
    "epochs=20  # 몇 epoch를 훈련하면 좋을지 결과를 보면서 바꾸어 봅시다. \n",
    "\n",
    "history1 = model1.fit(partial_X_train,\n",
    "                    partial_y_train,\n",
    "                    epochs=epochs,\n",
    "                    batch_size=512,\n",
    "                    validation_data=(x_val, y_val),\n",
    "                    verbose=1)"
   ]
  },
  {
   "cell_type": "code",
   "execution_count": 10,
   "metadata": {},
   "outputs": [
    {
     "name": "stdout",
     "output_type": "stream",
     "text": [
      "Epoch 1/20\n",
      "188/188 [==============================] - 14s 75ms/step - loss: 0.4604 - accuracy: 0.7810 - val_loss: 0.3479 - val_accuracy: 0.8472\n",
      "Epoch 2/20\n",
      "188/188 [==============================] - 4s 24ms/step - loss: 0.3071 - accuracy: 0.8708 - val_loss: 0.3342 - val_accuracy: 0.8546\n",
      "Epoch 3/20\n",
      "188/188 [==============================] - 4s 23ms/step - loss: 0.2458 - accuracy: 0.9025 - val_loss: 0.3435 - val_accuracy: 0.8556\n",
      "Epoch 4/20\n",
      "188/188 [==============================] - 4s 23ms/step - loss: 0.1761 - accuracy: 0.9360 - val_loss: 0.3856 - val_accuracy: 0.8491\n",
      "Epoch 5/20\n",
      "188/188 [==============================] - 4s 21ms/step - loss: 0.1110 - accuracy: 0.9629 - val_loss: 0.4619 - val_accuracy: 0.8417\n",
      "Epoch 6/20\n",
      "188/188 [==============================] - 4s 20ms/step - loss: 0.0693 - accuracy: 0.9787 - val_loss: 0.5330 - val_accuracy: 0.8394\n",
      "Epoch 7/20\n",
      "188/188 [==============================] - 4s 20ms/step - loss: 0.0438 - accuracy: 0.9868 - val_loss: 0.5995 - val_accuracy: 0.8405\n",
      "Epoch 8/20\n",
      "188/188 [==============================] - 4s 21ms/step - loss: 0.0301 - accuracy: 0.9908 - val_loss: 0.6820 - val_accuracy: 0.8379\n",
      "Epoch 9/20\n",
      "188/188 [==============================] - 4s 20ms/step - loss: 0.0214 - accuracy: 0.9935 - val_loss: 0.7603 - val_accuracy: 0.8338\n",
      "Epoch 10/20\n",
      "188/188 [==============================] - 4s 20ms/step - loss: 0.0168 - accuracy: 0.9946 - val_loss: 0.7971 - val_accuracy: 0.8339\n",
      "Epoch 11/20\n",
      "188/188 [==============================] - 4s 20ms/step - loss: 0.0142 - accuracy: 0.9952 - val_loss: 0.8759 - val_accuracy: 0.8340\n",
      "Epoch 12/20\n",
      "188/188 [==============================] - 4s 20ms/step - loss: 0.0123 - accuracy: 0.9956 - val_loss: 0.9407 - val_accuracy: 0.8318\n",
      "Epoch 13/20\n",
      "188/188 [==============================] - 4s 21ms/step - loss: 0.0108 - accuracy: 0.9962 - val_loss: 0.9675 - val_accuracy: 0.8292\n",
      "Epoch 14/20\n",
      "188/188 [==============================] - 4s 21ms/step - loss: 0.0111 - accuracy: 0.9960 - val_loss: 1.0194 - val_accuracy: 0.8324\n",
      "Epoch 15/20\n",
      "188/188 [==============================] - 4s 21ms/step - loss: 0.0206 - accuracy: 0.9923 - val_loss: 1.0525 - val_accuracy: 0.8251\n",
      "Epoch 16/20\n",
      "188/188 [==============================] - 4s 20ms/step - loss: 0.0417 - accuracy: 0.9846 - val_loss: 0.8788 - val_accuracy: 0.8294\n",
      "Epoch 17/20\n",
      "188/188 [==============================] - 4s 20ms/step - loss: 0.0219 - accuracy: 0.9916 - val_loss: 1.0169 - val_accuracy: 0.8277\n",
      "Epoch 18/20\n",
      "188/188 [==============================] - 4s 20ms/step - loss: 0.0116 - accuracy: 0.9956 - val_loss: 1.0628 - val_accuracy: 0.8303\n",
      "Epoch 19/20\n",
      "188/188 [==============================] - 4s 20ms/step - loss: 0.0077 - accuracy: 0.9969 - val_loss: 1.1039 - val_accuracy: 0.8304\n",
      "Epoch 20/20\n",
      "188/188 [==============================] - 4s 20ms/step - loss: 0.0065 - accuracy: 0.9973 - val_loss: 1.1320 - val_accuracy: 0.8287\n"
     ]
    }
   ],
   "source": [
    "model2.compile(optimizer='adam',\n",
    "              loss='binary_crossentropy',\n",
    "              metrics=['accuracy'])\n",
    "              \n",
    "epochs=20  # 몇 epoch를 훈련하면 좋을지 결과를 보면서 바꾸어 봅시다. \n",
    "\n",
    "history2 = model2.fit(partial_X_train,\n",
    "                    partial_y_train,\n",
    "                    epochs=epochs,\n",
    "                    batch_size=512,\n",
    "                    validation_data=(x_val, y_val),\n",
    "                    verbose=1)"
   ]
  },
  {
   "cell_type": "code",
   "execution_count": 11,
   "metadata": {},
   "outputs": [
    {
     "name": "stdout",
     "output_type": "stream",
     "text": [
      "Epoch 1/20\n",
      "188/188 [==============================] - 4s 19ms/step - loss: 0.4970 - accuracy: 0.7970 - val_loss: 0.3585 - val_accuracy: 0.8432\n",
      "Epoch 2/20\n",
      "188/188 [==============================] - 4s 19ms/step - loss: 0.3217 - accuracy: 0.8633 - val_loss: 0.3383 - val_accuracy: 0.8532\n",
      "Epoch 3/20\n",
      "188/188 [==============================] - 4s 19ms/step - loss: 0.2702 - accuracy: 0.8894 - val_loss: 0.3422 - val_accuracy: 0.8542\n",
      "Epoch 4/20\n",
      "188/188 [==============================] - 4s 19ms/step - loss: 0.2285 - accuracy: 0.9115 - val_loss: 0.3550 - val_accuracy: 0.8524\n",
      "Epoch 5/20\n",
      "188/188 [==============================] - 4s 19ms/step - loss: 0.1886 - accuracy: 0.9306 - val_loss: 0.3752 - val_accuracy: 0.8499\n",
      "Epoch 6/20\n",
      "188/188 [==============================] - 4s 20ms/step - loss: 0.1489 - accuracy: 0.9493 - val_loss: 0.4028 - val_accuracy: 0.8471\n",
      "Epoch 7/20\n",
      "188/188 [==============================] - 4s 20ms/step - loss: 0.1128 - accuracy: 0.9656 - val_loss: 0.4355 - val_accuracy: 0.8452\n",
      "Epoch 8/20\n",
      "188/188 [==============================] - 4s 20ms/step - loss: 0.0813 - accuracy: 0.9785 - val_loss: 0.4767 - val_accuracy: 0.8434\n",
      "Epoch 9/20\n",
      "188/188 [==============================] - 4s 20ms/step - loss: 0.0573 - accuracy: 0.9865 - val_loss: 0.5136 - val_accuracy: 0.8407\n",
      "Epoch 10/20\n",
      "188/188 [==============================] - 4s 20ms/step - loss: 0.0401 - accuracy: 0.9911 - val_loss: 0.5599 - val_accuracy: 0.8389\n",
      "Epoch 11/20\n",
      "188/188 [==============================] - 4s 20ms/step - loss: 0.0284 - accuracy: 0.9938 - val_loss: 0.5999 - val_accuracy: 0.8379\n",
      "Epoch 12/20\n",
      "188/188 [==============================] - 4s 20ms/step - loss: 0.0209 - accuracy: 0.9949 - val_loss: 0.6387 - val_accuracy: 0.8368\n",
      "Epoch 13/20\n",
      "188/188 [==============================] - 4s 20ms/step - loss: 0.0158 - accuracy: 0.9959 - val_loss: 0.6705 - val_accuracy: 0.8373\n",
      "Epoch 14/20\n",
      "188/188 [==============================] - 4s 20ms/step - loss: 0.0129 - accuracy: 0.9965 - val_loss: 0.7021 - val_accuracy: 0.8379\n",
      "Epoch 15/20\n",
      "188/188 [==============================] - 4s 20ms/step - loss: 0.0107 - accuracy: 0.9967 - val_loss: 0.7272 - val_accuracy: 0.8370\n",
      "Epoch 16/20\n",
      "188/188 [==============================] - 4s 21ms/step - loss: 0.0090 - accuracy: 0.9969 - val_loss: 0.7517 - val_accuracy: 0.8370\n",
      "Epoch 17/20\n",
      "188/188 [==============================] - 4s 20ms/step - loss: 0.0082 - accuracy: 0.9970 - val_loss: 0.7732 - val_accuracy: 0.8365\n",
      "Epoch 18/20\n",
      "188/188 [==============================] - 4s 20ms/step - loss: 0.0076 - accuracy: 0.9971 - val_loss: 0.7923 - val_accuracy: 0.8369\n",
      "Epoch 19/20\n",
      "188/188 [==============================] - 4s 20ms/step - loss: 0.0068 - accuracy: 0.9973 - val_loss: 0.8143 - val_accuracy: 0.8370\n",
      "Epoch 20/20\n",
      "188/188 [==============================] - 4s 20ms/step - loss: 0.0065 - accuracy: 0.9972 - val_loss: 0.8315 - val_accuracy: 0.8360\n"
     ]
    }
   ],
   "source": [
    "model3.compile(optimizer='adam',\n",
    "              loss='binary_crossentropy',\n",
    "              metrics=['accuracy'])\n",
    "              \n",
    "epochs=20  # 몇 epoch를 훈련하면 좋을지 결과를 보면서 바꾸어 봅시다. \n",
    "\n",
    "history3 = model3.fit(partial_X_train,\n",
    "                    partial_y_train,\n",
    "                    epochs=epochs,\n",
    "                    batch_size=512,\n",
    "                    validation_data=(x_val, y_val),\n",
    "                    verbose=1)"
   ]
  },
  {
   "cell_type": "markdown",
   "metadata": {},
   "source": [
    "## 6) Loss, Accuracy 그래프 시각화\n",
    "결과를 보면 모든 비슷한 양상으로 나타나는 것을 알 수 있다.   \n",
    "모두 오버피팅된 것으로 보인다.   \n",
    "정확도로만 보면 LSTM이 아주 약간의 차이로 가장 높은 결과를 보였다.(0.832)"
   ]
  },
  {
   "cell_type": "code",
   "execution_count": 12,
   "metadata": {},
   "outputs": [
    {
     "name": "stdout",
     "output_type": "stream",
     "text": [
      "1537/1537 - 3s - loss: 1.0193 - accuracy: 0.8329\n",
      "[1.019331455230713, 0.8328620791435242]\n"
     ]
    }
   ],
   "source": [
    "results = model1.evaluate(X_test,  y_test, verbose=2)\n",
    "print(results)"
   ]
  },
  {
   "cell_type": "code",
   "execution_count": 13,
   "metadata": {},
   "outputs": [
    {
     "name": "stdout",
     "output_type": "stream",
     "text": [
      "dict_keys(['loss', 'accuracy', 'val_loss', 'val_accuracy'])\n"
     ]
    },
    {
     "data": {
      "image/png": "[encoded data removed]",
      "text/plain": [
       "<Figure size 432x288 with 1 Axes>"
      ]
     },
     "metadata": {
      "needs_background": "light"
     },
     "output_type": "display_data"
    },
    {
     "data": {
      "image/png": "[encoded data removed]",
      "text/plain": [
       "<Figure size 432x288 with 1 Axes>"
      ]
     },
     "metadata": {
      "needs_background": "light"
     },
     "output_type": "display_data"
    }
   ],
   "source": [
    "history_dict1 = history1.history\n",
    "print(history_dict1.keys()) # epoch에 따른 그래프를 그려볼 수 있는 항목들\n",
    "\n",
    "acc = history_dict1['accuracy']\n",
    "val_acc = history_dict1['val_accuracy']\n",
    "loss = history_dict1['loss']\n",
    "val_loss = history_dict1['val_loss']\n",
    "\n",
    "epochs = range(1, len(acc) + 1)\n",
    "\n",
    "# \"bo\"는 \"파란색 점\"입니다\n",
    "plt.plot(epochs, loss, 'bo', label='Training loss')\n",
    "# b는 \"파란 실선\"입니다\n",
    "plt.plot(epochs, val_loss, 'b', label='Validation loss')\n",
    "plt.title('Training and validation loss')\n",
    "plt.xlabel('Epochs')\n",
    "plt.ylabel('Loss')\n",
    "plt.legend()\n",
    "\n",
    "plt.show()\n",
    "\n",
    "plt.clf()   # 그림을 초기화합니다\n",
    "\n",
    "plt.plot(epochs, acc, 'bo', label='Training acc')\n",
    "plt.plot(epochs, val_acc, 'b', label='Validation acc')\n",
    "plt.title('Training and validation accuracy')\n",
    "plt.xlabel('Epochs')\n",
    "plt.ylabel('Accuracy')\n",
    "plt.legend()\n",
    "\n",
    "plt.show()"
   ]
  },
  {
   "cell_type": "code",
   "execution_count": 14,
   "metadata": {},
   "outputs": [
    {
     "name": "stdout",
     "output_type": "stream",
     "text": [
      "1537/1537 - 4s - loss: 1.1798 - accuracy: 0.8233\n",
      "[1.1797643899917603, 0.8233212232589722]\n"
     ]
    }
   ],
   "source": [
    "results = model2.evaluate(X_test,  y_test, verbose=2)\n",
    "print(results)"
   ]
  },
  {
   "cell_type": "code",
   "execution_count": 15,
   "metadata": {},
   "outputs": [
    {
     "name": "stdout",
     "output_type": "stream",
     "text": [
      "dict_keys(['loss', 'accuracy', 'val_loss', 'val_accuracy'])\n"
     ]
    },
    {
     "data": {
      "image/png": "[encoded data removed]",
      "text/plain": [
       "<Figure size 432x288 with 1 Axes>"
      ]
     },
     "metadata": {
      "needs_background": "light"
     },
     "output_type": "display_data"
    },
    {
     "data": {
      "image/png": "[encoded data removed]",
      "text/plain": [
       "<Figure size 432x288 with 1 Axes>"
      ]
     },
     "metadata": {
      "needs_background": "light"
     },
     "output_type": "display_data"
    }
   ],
   "source": [
    "history_dict2 = history2.history\n",
    "print(history_dict1.keys()) # epoch에 따른 그래프를 그려볼 수 있는 항목들\n",
    "\n",
    "acc = history_dict2['accuracy']\n",
    "val_acc = history_dict2['val_accuracy']\n",
    "loss = history_dict2['loss']\n",
    "val_loss = history_dict2['val_loss']\n",
    "\n",
    "epochs = range(1, len(acc) + 1)\n",
    "\n",
    "# \"bo\"는 \"파란색 점\"입니다\n",
    "plt.plot(epochs, loss, 'bo', label='Training loss')\n",
    "# b는 \"파란 실선\"입니다\n",
    "plt.plot(epochs, val_loss, 'b', label='Validation loss')\n",
    "plt.title('Training and validation loss')\n",
    "plt.xlabel('Epochs')\n",
    "plt.ylabel('Loss')\n",
    "plt.legend()\n",
    "\n",
    "plt.show()\n",
    "\n",
    "plt.clf()   # 그림을 초기화합니다\n",
    "\n",
    "plt.plot(epochs, acc, 'bo', label='Training acc')\n",
    "plt.plot(epochs, val_acc, 'b', label='Validation acc')\n",
    "plt.title('Training and validation accuracy')\n",
    "plt.xlabel('Epochs')\n",
    "plt.ylabel('Accuracy')\n",
    "plt.legend()\n",
    "\n",
    "plt.show()"
   ]
  },
  {
   "cell_type": "code",
   "execution_count": 16,
   "metadata": {},
   "outputs": [
    {
     "name": "stdout",
     "output_type": "stream",
     "text": [
      "1537/1537 - 1s - loss: 0.8447 - accuracy: 0.8308\n",
      "[0.8446579575538635, 0.8308480978012085]\n"
     ]
    }
   ],
   "source": [
    "results = model3.evaluate(X_test,  y_test, verbose=2)\n",
    "print(results)"
   ]
  },
  {
   "cell_type": "code",
   "execution_count": 17,
   "metadata": {},
   "outputs": [
    {
     "name": "stdout",
     "output_type": "stream",
     "text": [
      "dict_keys(['loss', 'accuracy', 'val_loss', 'val_accuracy'])\n"
     ]
    },
    {
     "data": {
      "image/png": "[encoded data removed]",
      "text/plain": [
       "<Figure size 432x288 with 1 Axes>"
      ]
     },
     "metadata": {
      "needs_background": "light"
     },
     "output_type": "display_data"
    },
    {
     "data": {
      "image/png": "[encoded data removed]",
      "text/plain": [
       "<Figure size 432x288 with 1 Axes>"
      ]
     },
     "metadata": {
      "needs_background": "light"
     },
     "output_type": "display_data"
    }
   ],
   "source": [
    "history_dict3 = history3.history\n",
    "print(history_dict1.keys()) # epoch에 따른 그래프를 그려볼 수 있는 항목들\n",
    "\n",
    "acc = history_dict3['accuracy']\n",
    "val_acc = history_dict3['val_accuracy']\n",
    "loss = history_dict3['loss']\n",
    "val_loss = history_dict3['val_loss']\n",
    "\n",
    "epochs = range(1, len(acc) + 1)\n",
    "\n",
    "# \"bo\"는 \"파란색 점\"입니다\n",
    "plt.plot(epochs, loss, 'bo', label='Training loss')\n",
    "# b는 \"파란 실선\"입니다\n",
    "plt.plot(epochs, val_loss, 'b', label='Validation loss')\n",
    "plt.title('Training and validation loss')\n",
    "plt.xlabel('Epochs')\n",
    "plt.ylabel('Loss')\n",
    "plt.legend()\n",
    "\n",
    "plt.show()\n",
    "\n",
    "plt.clf()   # 그림을 초기화합니다\n",
    "\n",
    "plt.plot(epochs, acc, 'bo', label='Training acc')\n",
    "plt.plot(epochs, val_acc, 'b', label='Validation acc')\n",
    "plt.title('Training and validation accuracy')\n",
    "plt.xlabel('Epochs')\n",
    "plt.ylabel('Accuracy')\n",
    "plt.legend()\n",
    "\n",
    "plt.show()"
   ]
  },
  {
   "cell_type": "markdown",
   "metadata": {},
   "source": [
    "## 7) 학습된 Embedding 레이어 분석\n",
    "가장 성능(정확도)이 좋은 1번 모델의 임베딩을 분석하였다.    \n",
    "'영화'라는 단어와 비슷한 단어 리스트를 보면 비슷해 보이지 않는 것을 알 수 있다."
   ]
  },
  {
   "cell_type": "code",
   "execution_count": 18,
   "metadata": {},
   "outputs": [
    {
     "name": "stdout",
     "output_type": "stream",
     "text": [
      "(10000, 200)\n"
     ]
    }
   ],
   "source": [
    "embedding_layer = model1.layers[0]\n",
    "weights = embedding_layer.get_weights()[0]\n",
    "print(weights.shape)    # shape: (vocab_size, embedding_dim)"
   ]
  },
  {
   "cell_type": "code",
   "execution_count": 19,
   "metadata": {},
   "outputs": [],
   "source": [
    "import os\n",
    "# 학습한 Embedding 파라미터를 파일에 써서 저장합니다. \n",
    "word2vec_file_path = os.getenv('HOME')+'/aiffel/sentiment_classification/word2vec.txt'\n",
    "f = open(word2vec_file_path, 'w')\n",
    "f.write('{} {}\\n'.format(vocab_size-4, word_vector_dim))  # 몇개의 벡터를 얼마 사이즈로 기재할지 타이틀을 씁니다.\n",
    "\n",
    "# 단어 개수(에서 특수문자 4개는 제외하고)만큼의 워드 벡터를 파일에 기록합니다. \n",
    "vectors = model1.get_weights()[0]\n",
    "for i in range(4,vocab_size):\n",
    "    f.write('{} {}\\n'.format(index_to_word[i], ' '.join(map(str, list(vectors[i, :])))))\n",
    "f.close()"
   ]
  },
  {
   "cell_type": "code",
   "execution_count": 20,
   "metadata": {},
   "outputs": [
    {
     "data": {
      "text/plain": [
       "array([-1.25662191e-02, -1.91513836e-01, -2.28826590e-02, -7.40566570e-03,\n",
       "        1.69128284e-01,  1.52913593e-02, -1.54099744e-02, -1.53686807e-01,\n",
       "        1.06897451e-01, -1.99058801e-02,  4.49116789e-02,  6.75913543e-02,\n",
       "        1.61691055e-01,  7.27742240e-02, -2.30175257e-03,  3.81094925e-02,\n",
       "        5.91610633e-02, -7.84288719e-03,  1.73009023e-01, -1.12072043e-02,\n",
       "        4.15142663e-02,  1.57421529e-02,  6.11892156e-02, -2.99175382e-02,\n",
       "       -2.79711243e-02, -8.98407251e-02, -1.72636192e-03, -5.04937060e-02,\n",
       "       -6.36801496e-02,  7.33915120e-02,  6.41438589e-02, -8.98400974e-03,\n",
       "       -1.24422647e-01,  2.22438723e-02, -7.98286498e-02, -8.77332836e-02,\n",
       "        6.50159270e-02, -4.68388386e-02, -9.75815393e-03, -8.20475295e-02,\n",
       "        3.90584916e-02, -3.20018567e-02, -5.10823280e-02, -3.64607014e-02,\n",
       "       -1.93758328e-02,  1.16607295e-02, -4.63087950e-03,  7.48048052e-02,\n",
       "       -1.91598669e-01,  4.35634181e-02, -1.54308770e-02, -4.53970134e-02,\n",
       "        2.62779556e-02,  3.11814006e-02,  4.85092513e-02,  3.98542779e-03,\n",
       "        3.55642736e-02, -5.08884043e-02, -2.39947699e-02, -1.20141812e-01,\n",
       "       -2.29771268e-02, -7.06207454e-02,  2.92920880e-02,  4.69951145e-02,\n",
       "        2.05993317e-02,  9.69261453e-02, -2.61826254e-02, -2.68952101e-02,\n",
       "       -5.37599027e-02, -3.74330543e-02,  2.93474458e-02, -6.10414101e-03,\n",
       "        1.17330141e-01,  9.52886567e-02, -6.95692226e-02, -1.35822251e-01,\n",
       "       -3.98778915e-02,  1.92749186e-03, -6.11773096e-02, -1.03666283e-01,\n",
       "        5.93876764e-02,  3.13925073e-02, -1.15121499e-01,  5.77494949e-02,\n",
       "       -6.76283464e-02, -1.15183024e-02, -1.55071942e-02, -5.56889325e-02,\n",
       "       -7.72731826e-02, -3.11288098e-03, -2.03558251e-01, -9.40443501e-02,\n",
       "       -3.29045877e-02,  9.63107217e-03,  1.02709897e-01,  5.86094288e-03,\n",
       "       -5.00769466e-02,  3.67171317e-02,  2.53868569e-02, -7.25525990e-02,\n",
       "       -8.23538005e-02, -4.98895198e-02,  6.49156468e-03, -8.56482014e-02,\n",
       "        7.43265748e-02, -4.83244359e-02,  3.11448295e-02,  1.88488945e-01,\n",
       "       -1.00218803e-02, -8.84682089e-02,  1.35579724e-02,  1.85192898e-02,\n",
       "       -5.66526800e-02,  9.50087011e-02, -1.09471679e-01, -5.10214604e-02,\n",
       "        1.49005815e-01,  6.75289892e-03, -6.90510273e-02,  8.65489766e-02,\n",
       "       -3.49456072e-03,  3.57083306e-02,  1.03799961e-04,  6.25371933e-02,\n",
       "       -1.60831168e-01,  1.13325819e-01,  5.25034405e-02, -5.35943508e-02,\n",
       "        5.15201874e-02,  5.39487973e-02,  1.60798207e-02, -3.91387306e-02,\n",
       "        1.29563187e-03,  2.95590535e-02, -2.16461904e-02,  5.21977507e-02,\n",
       "        3.83569151e-02,  7.91988671e-02, -6.13256618e-02,  6.46110401e-02,\n",
       "        3.90334576e-02,  5.29457591e-02, -5.47193512e-02,  6.38654903e-02,\n",
       "        3.96743752e-02,  5.59127182e-02, -7.95421153e-02,  5.03918044e-02,\n",
       "       -4.88913804e-02, -6.55512214e-02,  4.98351008e-02,  3.76762934e-02,\n",
       "        1.25692533e-02, -3.03081665e-02, -4.16990854e-02,  8.09041932e-02,\n",
       "        2.04329044e-02,  4.07981649e-02, -6.32491186e-02, -7.81905502e-02,\n",
       "        7.04036206e-02, -1.31451517e-01,  1.11072063e-02, -3.20595913e-02,\n",
       "        4.83412519e-02,  7.26779550e-02, -7.42888404e-03,  3.21122445e-02,\n",
       "       -1.10463910e-01, -7.31722964e-03,  5.16493456e-04, -5.29067144e-02,\n",
       "       -8.86900723e-03,  4.47315462e-02, -7.42219016e-02,  1.23671956e-01,\n",
       "       -2.04893574e-02,  4.04241830e-02,  2.23967084e-03, -1.03646308e-01,\n",
       "        4.12754454e-02,  3.45495306e-02,  3.98333371e-02,  7.68028349e-02,\n",
       "        5.18638194e-02, -8.31343383e-02, -9.55442265e-02, -6.57063499e-02,\n",
       "       -3.97749767e-02,  7.72950659e-03, -6.76876381e-02, -7.09148645e-02,\n",
       "        2.19479669e-02,  3.34758759e-02, -1.81234460e-02, -3.29280011e-02,\n",
       "        1.17401935e-01,  1.26657724e-01, -9.01020989e-02, -6.17581122e-02],\n",
       "      dtype=float32)"
      ]
     },
     "execution_count": 20,
     "metadata": {},
     "output_type": "execute_result"
    }
   ],
   "source": [
    "from gensim.models.keyedvectors import Word2VecKeyedVectors\n",
    "\n",
    "word_vectors = Word2VecKeyedVectors.load_word2vec_format(word2vec_file_path, binary=False)\n",
    "vector = word_vectors['더빙']\n",
    "vector"
   ]
  },
  {
   "cell_type": "code",
   "execution_count": 21,
   "metadata": {},
   "outputs": [
    {
     "data": {
      "text/plain": [
       "[('.', 0.4569908380508423),\n",
       " ('바라', 0.4435698986053467),\n",
       " ('ㅎ', 0.42797645926475525),\n",
       " ('어서', 0.4268396496772766),\n",
       " ('정말로', 0.4240017235279083),\n",
       " ('등장', 0.4008370041847229),\n",
       " ('준다', 0.397150456905365),\n",
       " ('색다른', 0.3970453143119812),\n",
       " ('점', 0.3967747688293457),\n",
       " ('음', 0.39263829588890076)]"
      ]
     },
     "execution_count": 21,
     "metadata": {},
     "output_type": "execute_result"
    }
   ],
   "source": [
    "word_vectors.similar_by_word(\"영화\")"
   ]
  },
  {
   "cell_type": "markdown",
   "metadata": {},
   "source": [
    "## 8) 한국어 Word2Vec 임베딩 활용하여 성능개선\n",
    "미리 훈련된 임베딩을 가져와 기존 model1과 비교한다.    \n",
    "같은 '영화'라는 단어의 비슷한 단어 리스트를 확인하면 정말 비슷한 단어들이 있는 것을 볼 수 있다.   \n",
    "그리고 model1에 임베딩을 교체하여 결과를 본다.   \n",
    "결과는 85%이상이다."
   ]
  },
  {
   "cell_type": "code",
   "execution_count": 22,
   "metadata": {},
   "outputs": [
    {
     "data": {
      "text/plain": [
       "array([-1.25662191e-02, -1.91513836e-01, -2.28826590e-02, -7.40566570e-03,\n",
       "        1.69128284e-01,  1.52913593e-02, -1.54099744e-02, -1.53686807e-01,\n",
       "        1.06897451e-01, -1.99058801e-02,  4.49116789e-02,  6.75913543e-02,\n",
       "        1.61691055e-01,  7.27742240e-02, -2.30175257e-03,  3.81094925e-02,\n",
       "        5.91610633e-02, -7.84288719e-03,  1.73009023e-01, -1.12072043e-02,\n",
       "        4.15142663e-02,  1.57421529e-02,  6.11892156e-02, -2.99175382e-02,\n",
       "       -2.79711243e-02, -8.98407251e-02, -1.72636192e-03, -5.04937060e-02,\n",
       "       -6.36801496e-02,  7.33915120e-02,  6.41438589e-02, -8.98400974e-03,\n",
       "       -1.24422647e-01,  2.22438723e-02, -7.98286498e-02, -8.77332836e-02,\n",
       "        6.50159270e-02, -4.68388386e-02, -9.75815393e-03, -8.20475295e-02,\n",
       "        3.90584916e-02, -3.20018567e-02, -5.10823280e-02, -3.64607014e-02,\n",
       "       -1.93758328e-02,  1.16607295e-02, -4.63087950e-03,  7.48048052e-02,\n",
       "       -1.91598669e-01,  4.35634181e-02, -1.54308770e-02, -4.53970134e-02,\n",
       "        2.62779556e-02,  3.11814006e-02,  4.85092513e-02,  3.98542779e-03,\n",
       "        3.55642736e-02, -5.08884043e-02, -2.39947699e-02, -1.20141812e-01,\n",
       "       -2.29771268e-02, -7.06207454e-02,  2.92920880e-02,  4.69951145e-02,\n",
       "        2.05993317e-02,  9.69261453e-02, -2.61826254e-02, -2.68952101e-02,\n",
       "       -5.37599027e-02, -3.74330543e-02,  2.93474458e-02, -6.10414101e-03,\n",
       "        1.17330141e-01,  9.52886567e-02, -6.95692226e-02, -1.35822251e-01,\n",
       "       -3.98778915e-02,  1.92749186e-03, -6.11773096e-02, -1.03666283e-01,\n",
       "        5.93876764e-02,  3.13925073e-02, -1.15121499e-01,  5.77494949e-02,\n",
       "       -6.76283464e-02, -1.15183024e-02, -1.55071942e-02, -5.56889325e-02,\n",
       "       -7.72731826e-02, -3.11288098e-03, -2.03558251e-01, -9.40443501e-02,\n",
       "       -3.29045877e-02,  9.63107217e-03,  1.02709897e-01,  5.86094288e-03,\n",
       "       -5.00769466e-02,  3.67171317e-02,  2.53868569e-02, -7.25525990e-02,\n",
       "       -8.23538005e-02, -4.98895198e-02,  6.49156468e-03, -8.56482014e-02,\n",
       "        7.43265748e-02, -4.83244359e-02,  3.11448295e-02,  1.88488945e-01,\n",
       "       -1.00218803e-02, -8.84682089e-02,  1.35579724e-02,  1.85192898e-02,\n",
       "       -5.66526800e-02,  9.50087011e-02, -1.09471679e-01, -5.10214604e-02,\n",
       "        1.49005815e-01,  6.75289892e-03, -6.90510273e-02,  8.65489766e-02,\n",
       "       -3.49456072e-03,  3.57083306e-02,  1.03799961e-04,  6.25371933e-02,\n",
       "       -1.60831168e-01,  1.13325819e-01,  5.25034405e-02, -5.35943508e-02,\n",
       "        5.15201874e-02,  5.39487973e-02,  1.60798207e-02, -3.91387306e-02,\n",
       "        1.29563187e-03,  2.95590535e-02, -2.16461904e-02,  5.21977507e-02,\n",
       "        3.83569151e-02,  7.91988671e-02, -6.13256618e-02,  6.46110401e-02,\n",
       "        3.90334576e-02,  5.29457591e-02, -5.47193512e-02,  6.38654903e-02,\n",
       "        3.96743752e-02,  5.59127182e-02, -7.95421153e-02,  5.03918044e-02,\n",
       "       -4.88913804e-02, -6.55512214e-02,  4.98351008e-02,  3.76762934e-02,\n",
       "        1.25692533e-02, -3.03081665e-02, -4.16990854e-02,  8.09041932e-02,\n",
       "        2.04329044e-02,  4.07981649e-02, -6.32491186e-02, -7.81905502e-02,\n",
       "        7.04036206e-02, -1.31451517e-01,  1.11072063e-02, -3.20595913e-02,\n",
       "        4.83412519e-02,  7.26779550e-02, -7.42888404e-03,  3.21122445e-02,\n",
       "       -1.10463910e-01, -7.31722964e-03,  5.16493456e-04, -5.29067144e-02,\n",
       "       -8.86900723e-03,  4.47315462e-02, -7.42219016e-02,  1.23671956e-01,\n",
       "       -2.04893574e-02,  4.04241830e-02,  2.23967084e-03, -1.03646308e-01,\n",
       "        4.12754454e-02,  3.45495306e-02,  3.98333371e-02,  7.68028349e-02,\n",
       "        5.18638194e-02, -8.31343383e-02, -9.55442265e-02, -6.57063499e-02,\n",
       "       -3.97749767e-02,  7.72950659e-03, -6.76876381e-02, -7.09148645e-02,\n",
       "        2.19479669e-02,  3.34758759e-02, -1.81234460e-02, -3.29280011e-02,\n",
       "        1.17401935e-01,  1.26657724e-01, -9.01020989e-02, -6.17581122e-02],\n",
       "      dtype=float32)"
      ]
     },
     "execution_count": 22,
     "metadata": {},
     "output_type": "execute_result"
    }
   ],
   "source": [
    "# 미리 훈련된 임베딩 가져오기\n",
    "import gensim\n",
    "word2vec_file_path2 = os.getenv('HOME')+'/aiffel/sentiment_classification/ko.bin'\n",
    "pretrain_vec = gensim.models.Word2Vec.load(word2vec_file_path2)\n",
    "vector = word_vectors['더빙']\n",
    "vector"
   ]
  },
  {
   "cell_type": "code",
   "execution_count": 23,
   "metadata": {},
   "outputs": [
    {
     "name": "stderr",
     "output_type": "stream",
     "text": [
      "/home/aiffel/anaconda3/envs/aiffel/lib/python3.7/site-packages/ipykernel_launcher.py:1: DeprecationWarning: Call to deprecated `similar_by_word` (Method will be removed in 4.0.0, use self.wv.similar_by_word() instead).\n",
      "  \"\"\"Entry point for launching an IPython kernel.\n"
     ]
    },
    {
     "data": {
      "text/plain": [
       "[('다큐멘터리', 0.7265259027481079),\n",
       " ('영화사', 0.715214192867279),\n",
       " ('드라마', 0.7052942514419556),\n",
       " ('뮤지컬', 0.6947016716003418),\n",
       " ('코미디', 0.69093257188797),\n",
       " ('영화인', 0.6702202558517456),\n",
       " ('서부극', 0.6571459174156189),\n",
       " ('스릴러', 0.6533164978027344),\n",
       " ('로맨스', 0.6428800821304321),\n",
       " ('애니메이션', 0.6425570249557495)]"
      ]
     },
     "execution_count": 23,
     "metadata": {},
     "output_type": "execute_result"
    }
   ],
   "source": [
    "pretrain_vec.similar_by_word(\"영화\")"
   ]
  },
  {
   "cell_type": "code",
   "execution_count": 24,
   "metadata": {},
   "outputs": [
    {
     "name": "stderr",
     "output_type": "stream",
     "text": [
      "/home/aiffel/anaconda3/envs/aiffel/lib/python3.7/site-packages/ipykernel_launcher.py:9: DeprecationWarning: Call to deprecated `__contains__` (Method will be removed in 4.0.0, use self.wv.__contains__() instead).\n",
      "  if __name__ == '__main__':\n",
      "/home/aiffel/anaconda3/envs/aiffel/lib/python3.7/site-packages/ipykernel_launcher.py:10: DeprecationWarning: Call to deprecated `__getitem__` (Method will be removed in 4.0.0, use self.wv.__getitem__() instead).\n",
      "  # Remove the CWD from sys.path while we load stuff.\n"
     ]
    },
    {
     "name": "stdout",
     "output_type": "stream",
     "text": [
      "Model: \"sequential_3\"\n",
      "_________________________________________________________________\n",
      "Layer (type)                 Output Shape              Param #   \n",
      "=================================================================\n",
      "embedding_3 (Embedding)      (None, 41, 200)           2000000   \n",
      "_________________________________________________________________\n",
      "lstm_1 (LSTM)                (None, 200)               320800    \n",
      "_________________________________________________________________\n",
      "dense_6 (Dense)              (None, 8)                 1608      \n",
      "_________________________________________________________________\n",
      "dense_7 (Dense)              (None, 1)                 9         \n",
      "=================================================================\n",
      "Total params: 2,322,417\n",
      "Trainable params: 2,322,417\n",
      "Non-trainable params: 0\n",
      "_________________________________________________________________\n"
     ]
    }
   ],
   "source": [
    "# 가져온 임베딩으로 교체한 모델 실험\n",
    "vocab_size = 10000    # 어휘 사전의 크기입니다(10,000개의 단어)\n",
    "word_vector_dim = 200  # 워드 벡터의 차원수\n",
    "\n",
    "embedding_matrix = np.random.rand(vocab_size, word_vector_dim)\n",
    "\n",
    "word2vec = pretrain_vec\n",
    "# embedding_matrix에 Word2Vec 워드벡터를 단어 하나씩마다 차례차례 카피한다.\n",
    "for i in range(4,vocab_size):\n",
    "    if index_to_word[i] in word2vec:\n",
    "        embedding_matrix[i] = word2vec[index_to_word[i]]\n",
    "\n",
    "from tensorflow.keras.initializers import Constant\n",
    "\n",
    "vocab_size = 10000    # 어휘 사전의 크기입니다(10,000개의 단어)\n",
    "word_vector_dim = 200  # 워드 벡터의 차원수\n",
    "\n",
    "# 모델 구성\n",
    "model = keras.Sequential()\n",
    "model.add(keras.layers.Embedding(vocab_size, \n",
    "                                 word_vector_dim, \n",
    "                                 embeddings_initializer=Constant(embedding_matrix),  # 카피한 임베딩을 여기서 활용\n",
    "                                 input_length=maxlen, \n",
    "                                 trainable=True))   # trainable을 True로 주면 Fine-tuning\n",
    "model.add(keras.layers.LSTM(word_vector_dim))   # 가장 널리 쓰이는 RNN인 LSTM 레이어를 사용하였습니다. 이때 LSTM state 벡터의 차원수는 8로 하였습니다. (변경가능)\n",
    "model.add(keras.layers.Dense(8, activation='relu'))\n",
    "model.add(keras.layers.Dense(1, activation='sigmoid')) \n",
    "\n",
    "model.summary()"
   ]
  },
  {
   "cell_type": "code",
   "execution_count": 25,
   "metadata": {},
   "outputs": [
    {
     "name": "stdout",
     "output_type": "stream",
     "text": [
      "Epoch 1/5\n",
      "188/188 [==============================] - 6s 34ms/step - loss: 0.4706 - accuracy: 0.7696 - val_loss: 0.3767 - val_accuracy: 0.8305\n",
      "Epoch 2/5\n",
      "188/188 [==============================] - 6s 34ms/step - loss: 0.3379 - accuracy: 0.8525 - val_loss: 0.3321 - val_accuracy: 0.8539\n",
      "Epoch 3/5\n",
      "188/188 [==============================] - 6s 33ms/step - loss: 0.2869 - accuracy: 0.8792 - val_loss: 0.3247 - val_accuracy: 0.8610\n",
      "Epoch 4/5\n",
      "188/188 [==============================] - 6s 33ms/step - loss: 0.2511 - accuracy: 0.8965 - val_loss: 0.3227 - val_accuracy: 0.8617\n",
      "Epoch 5/5\n",
      "188/188 [==============================] - 6s 33ms/step - loss: 0.2221 - accuracy: 0.9113 - val_loss: 0.3416 - val_accuracy: 0.8624\n",
      "1537/1537 - 3s - loss: 0.3482 - accuracy: 0.8577\n",
      "[0.3481507897377014, 0.8577415347099304]\n"
     ]
    }
   ],
   "source": [
    "model.compile(optimizer='adam',\n",
    "              loss='binary_crossentropy',\n",
    "              metrics=['accuracy'])\n",
    "              \n",
    "epochs=5  # 몇 epoch를 훈련하면 좋을지 결과를 보면서 바꾸어 봅시다. \n",
    "\n",
    "history = model.fit(partial_X_train,\n",
    "                    partial_y_train,\n",
    "                    epochs=epochs,\n",
    "                    batch_size=512,\n",
    "                    validation_data=(x_val, y_val),\n",
    "                    verbose=1)\n",
    "\n",
    "# 테스트셋을 통한 모델 평가\n",
    "results = model.evaluate(X_test,  y_test, verbose=2)\n",
    "\n",
    "print(results)"
   ]
  },
  {
   "cell_type": "markdown",
   "metadata": {},
   "source": [
    "## 회고 및 루브릭 평가"
   ]
  },
  {
   "cell_type": "markdown",
   "metadata": {},
   "source": [
    "### 루브릭 평가 항목\n",
    "1. 다양한 방법으로 Text Classification 태스크를 성공적으로 구현하였다.(3가지 이상의 모델이 성공적으로 시도됨)\n",
    "\n",
    "2. gensim을 활용하여 자체학습된 혹은 사전학습된 임베딩 레이어를 분석하였다.(gensim의 유사단어 찾기를 활용하여 자체학습한 임베딩과 사전학습 임베딩을 적절히 분석함)\n",
    "3. 한국어 Word2Vec을 활용하여 가시적인 성능향상을 달성했다.(네이버 영화리뷰 데이터 감성분석 정확도를 85% 이상 달성함)"
   ]
  },
  {
   "cell_type": "markdown",
   "metadata": {},
   "source": [
    "### 평가 항목에 대한 수행\n",
    "1. '4) 모델구성 및 validation set 구성'에서 3가지 모델을 만들고 그 후에 테스트까지 정상적으로 하였다.\n",
    "2. gensim을 유사단어 찾기를 이용하여 '7) 학습된 Embedding 레이어 분석'에서 자체학습 임베딩을 분석하였고, '8) 한국어 Word2Vec 임베딩 활용하여 성능개선'에서 사전학습 임베딩을 분석하였다.\n",
    "3. 마지막인 '8) 한국어 Word2Vec 임베딩 활용하여 성능개선'에서 테스트 정확도가 85.77%로 85%이상을 달성하였다."
   ]
  },
  {
   "cell_type": "markdown",
   "metadata": {},
   "source": [
    "### 회고"
   ]
  },
  {
   "cell_type": "markdown",
   "metadata": {},
   "source": [
    "노션에 공지된 꼭 포함이 되어야 할 점\n",
    "- 이번 프로젝트에서 **어려웠던 점,**\n",
    "- 프로젝트를 진행하면서 **알아낸 점** 혹은 **아직 모호한 점**.\n",
    "- 루브릭 평가 지표를 맞추기 위해 **시도한 것들**.\n",
    "- 만약에 루브릭 평가 관련 지표를 **달성 하지 못했을 때, 이유에 관한 추정**.\n",
    "- **자기 다짐**"
   ]
  },
  {
   "cell_type": "markdown",
   "metadata": {},
   "source": [
    "---\n",
    "- **어려웠던 점**    \n",
    "노드에서 패키지를 설치해야 실행될 수 있는 코드를 주고 무슨 패키지를 설치해야 하는 지 안 알려주는 상황이 있었는데 그 패키지를 설치하는 것이 가장 힘들었던 것 같다. \n",
    "---\n",
    "- **알아낸 점**    \n",
    "사용한 데이터에 대해서는 학습이 안된 임베딩을 사용할 시에 같은 조건(위에서 사용한 모델)일 때, LSTM, conv, maxpooling 간에 뚜렷한 성능(정확도) 차이가 보이지 않았다. 그리고 생각보다 빠르게 오버피팅이 되는 것을 알 수 있었다. 마지막으로 학습이 비교적 잘 된 임베딩을 쓰면 성능을 높일 수 있었다. \n",
    "\n",
    "- **모호한 점**    \n",
    "왜 빠르게 오버피팅이 되는 지는 궁금하다. 그리고 사전학습이 되지 않은 모델의 경우 디폴트로 epoch을 20으로 하여 훈련을 하였는데 오버피팅이 된 것으로 보아서 epoch을 줄이면 학습이 된 임베딩으로 쓴 것과 결과가 비슷할 것 같아서 과연 단어의 유사도를 잘 찾아내는 임베딩이 여기서 의미가 있을지 의문이다. 추측해보면 이 문제는 문장에서 다음 단어를 예측하는 것이 아닌 문자을 보고 긍정적인지 부정적인지 이진 분류하는 문제여서 단순히 문장의 단어가 긍정적인지 부정적인지를 잘 찾으면 잘 할 수 있는 일이라서 단어의 유사도가 큰 영향을 못 미치는 것 같다.\n",
    "---\n",
    "- **시도한 것들**    \n",
    "노드에서 불친절하게 패키지를 안 알려준 konlpy와 그 하위인 mecab을 설치하는데 https://yuddomack.tistory.com/entry/%EC%B2%98%EC%9D%8C%EB%B6%80%ED%84%B0-%EC%8B%9C%EC%9E%91%ED%95%98%EB%8A%94-EC2-konlpy-mecab-%EC%84%A4%EC%B9%98%ED%95%98%EA%B8%B0ubuntu 를 참고를 하였다. 사실 처음에는 konlpy만 설치하면 되는 줄 알고 했는데 mecab이 없다는 오류가 나서 참고를 하였다. 여러 가지 모델을 사용해야 해서 LSTM, conv, maxpooling을 사용하여 비교하였다.\n",
    "---\n",
    "- **우브릭 평가 관련 지표**   \n",
    "제 예상에는 모두 달성되었다고 생각한다. 그 이유는 위에 있는 **평가 항목에 대한 수행**에 나와있다.  \n",
    "- **자기 다짐** 및 **나의 생각들**      \n",
    "먼저 노드가 불친절해서 기분이 좋지는 않았다. 노드 예제에서 사용하는 패키지 정도는 미리 알려줘야 한다고 생각한다. (노드에서 오류가 날 때마다 스트레스가 쌓이고 있다.) 어쨋든 그렇게 어렵지는 않았는데 이미 예상을 하고 있었기 때문이다. 그 이유는 진표님의 추천으로 https://wikidocs.net/book/2155 여기서 3일 정도 공부를 해서 10 워드임베딩 중간까지 내용을 알고 있었기 때문이다. 그래서 금방 패키지를 설치할 수 있었다. 결국 이 노드를 하는데에 큰 어려움이 없었다. 이번에는 한 번 돌렸는데 성능이 기준인 85%을 넘어서 바로 마칠 수 있었다. 위에서 언급한 대로 사전 학습 없는 모델은 epoch을 20으로 하였는데 오버피팅이 되어서 바로 사전 학습한 모델은 epoch을 줄였다. 평가지표에 좋은 하이퍼파라미터를 찾을라는 얘기가 없어서 사전 학습이 없는 모델의 하이퍼 파라미터을 조정하지는 않았다. 그래서 빠르게 오전 내에 이 노드를 마칠 수 있어서 좋았다. 여기서 배운 점은 nlp 공부를 할 때 이론만 하였는데 실제로 구현해 볼 수 있다는 것을 확인한 것이다. nlp 공부를 혼자 하고 있어서 좀 의욕이 안 생겼는데 실제로 구현하고 나니까 더 해야겠다는 생각이 들었다. 그리고 이제 조금 있으면 어려워지지 않을까라는 기대가 생겼다."
   ]
  },
  {
   "cell_type": "code",
   "execution_count": null,
   "metadata": {},
   "outputs": [],
   "source": []
  }
 ],
 "metadata": {
  "kernelspec": {
   "display_name": "aiffel",
   "language": "python",
   "name": "aiffel"
  },
  "language_info": {
   "codemirror_mode": {
    "name": "ipython",
    "version": 3
   },
   "file_extension": ".py",
   "mimetype": "text/x-python",
   "name": "python",
   "nbconvert_exporter": "python",
   "pygments_lexer": "ipython3",
   "version": "3.7.9"
  }
 },
 "nbformat": 4,
 "nbformat_minor": 4
}
