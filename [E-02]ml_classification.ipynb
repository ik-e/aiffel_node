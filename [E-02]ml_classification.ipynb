{
 "cells": [
  {
   "cell_type": "markdown",
   "metadata": {},
   "source": [
    "# Classification toy project\n",
    "AIFFEL 대전 탐색 노드 2\n",
    "손글씨 분류, 와인 분류, 유방암 여부 진단을 하는 모델을 만드는 프로젝트이다.   \n",
    "프로세스는 다음과 같다.\n",
    "0. Import package\n",
    "1. Load data\n",
    "2. Analyze data\n",
    "3. Split data\n",
    "4. Train model\n",
    "5. Evaluate model"
   ]
  },
  {
   "cell_type": "markdown",
   "metadata": {},
   "source": [
    "## 0. Import package"
   ]
  },
  {
   "cell_type": "code",
   "execution_count": 1,
   "metadata": {},
   "outputs": [],
   "source": [
    "# data loading\n",
    "from sklearn.datasets import load_digits\n",
    "from sklearn.datasets import load_wine\n",
    "from sklearn.datasets import load_breast_cancer\n",
    "# data split  \n",
    "from sklearn.model_selection import train_test_split\n",
    "# using model\n",
    "from sklearn.tree import DecisionTreeClassifier\n",
    "from sklearn.ensemble import RandomForestClassifier\n",
    "from sklearn import svm\n",
    "from sklearn.linear_model import SGDClassifier\n",
    "from sklearn.linear_model import LogisticRegression\n",
    "\n",
    "# analysis\n",
    "from sklearn.metrics import classification_report"
   ]
  },
  {
   "cell_type": "markdown",
   "metadata": {},
   "source": [
    "## 손글씨 분류"
   ]
  },
  {
   "cell_type": "markdown",
   "metadata": {},
   "source": [
    "## 1. Load data"
   ]
  },
  {
   "cell_type": "code",
   "execution_count": 2,
   "metadata": {},
   "outputs": [],
   "source": [
    "digits = load_digits()"
   ]
  },
  {
   "cell_type": "markdown",
   "metadata": {},
   "source": [
    "## 2. Analyze data\n",
    "데이터의 description을 보면 총 데이터의 개수는 1797개, 데이터는 8x8 손글씨 이미지이다.   \n",
    "각 픽셀의 값은 0..16사이의 값을 가진다.   \n",
    "종류는 0..9까지 숫자이고, 10가지 클래스로 나눠진다."
   ]
  },
  {
   "cell_type": "code",
   "execution_count": 3,
   "metadata": {
    "scrolled": false
   },
   "outputs": [
    {
     "name": "stdout",
     "output_type": "stream",
     "text": [
      "dict_keys(['data', 'target', 'frame', 'feature_names', 'target_names', 'images', 'DESCR'])\n",
      "\n",
      "\n",
      "\n",
      ".. _digits_dataset:\n",
      "\n",
      "Optical recognition of handwritten digits dataset\n",
      "--------------------------------------------------\n",
      "\n",
      "**Data Set Characteristics:**\n",
      "\n",
      "    :Number of Instances: 1797\n",
      "    :Number of Attributes: 64\n",
      "    :Attribute Information: 8x8 image of integer pixels in the range 0..16.\n",
      "    :Missing Attribute Values: None\n",
      "    :Creator: E. Alpaydin (alpaydin '@' boun.edu.tr)\n",
      "    :Date: July; 1998\n",
      "\n",
      "This is a copy of the test set of the UCI ML hand-written digits datasets\n",
      "https://archive.ics.uci.edu/ml/datasets/Optical+Recognition+of+Handwritten+Digits\n",
      "\n",
      "The data set contains images of hand-written digits: 10 classes where\n",
      "each class refers to a digit.\n",
      "\n",
      "Preprocessing programs made available by NIST were used to extract\n",
      "normalized bitmaps of handwritten digits from a preprinted form. From a\n",
      "total of 43 people, 30 contributed to the training set and different 13\n",
      "to the test set. 32x32 bitmaps are divided into nonoverlapping blocks of\n",
      "4x4 and the number of on pixels are counted in each block. This generates\n",
      "an input matrix of 8x8 where each element is an integer in the range\n",
      "0..16. This reduces dimensionality and gives invariance to small\n",
      "distortions.\n",
      "\n",
      "For info on NIST preprocessing routines, see M. D. Garris, J. L. Blue, G.\n",
      "T. Candela, D. L. Dimmick, J. Geist, P. J. Grother, S. A. Janet, and C.\n",
      "L. Wilson, NIST Form-Based Handprint Recognition System, NISTIR 5469,\n",
      "1994.\n",
      "\n",
      ".. topic:: References\n",
      "\n",
      "  - C. Kaynak (1995) Methods of Combining Multiple Classifiers and Their\n",
      "    Applications to Handwritten Digit Recognition, MSc Thesis, Institute of\n",
      "    Graduate Studies in Science and Engineering, Bogazici University.\n",
      "  - E. Alpaydin, C. Kaynak (1998) Cascading Classifiers, Kybernetika.\n",
      "  - Ken Tang and Ponnuthurai N. Suganthan and Xi Yao and A. Kai Qin.\n",
      "    Linear dimensionalityreduction using relevance weighted LDA. School of\n",
      "    Electrical and Electronic Engineering Nanyang Technological University.\n",
      "    2005.\n",
      "  - Claudio Gentile. A New Approximate Maximal Margin Classification\n",
      "    Algorithm. NIPS. 2000.\n",
      "\n"
     ]
    }
   ],
   "source": [
    "print(digits.keys()) # data component\n",
    "print(\"\\n\\n\")\n",
    "print(digits.DESCR)  # data describe"
   ]
  },
  {
   "cell_type": "code",
   "execution_count": 4,
   "metadata": {},
   "outputs": [
    {
     "name": "stdout",
     "output_type": "stream",
     "text": [
      "[0 1 2 3 4 5 6 7 8 9]\n"
     ]
    }
   ],
   "source": [
    "# target name \n",
    "print(digits.target_names) "
   ]
  },
  {
   "cell_type": "code",
   "execution_count": 5,
   "metadata": {},
   "outputs": [],
   "source": [
    "digits_data = digits.data     # feature data \n",
    "digits_label = digits.target  # label data "
   ]
  },
  {
   "cell_type": "code",
   "execution_count": 6,
   "metadata": {},
   "outputs": [
    {
     "name": "stdout",
     "output_type": "stream",
     "text": [
      "[ 0.  0.  5. 13.  9.  1.  0.  0.  0.  0. 13. 15. 10. 15.  5.  0.  0.  3.\n",
      " 15.  2.  0. 11.  8.  0.  0.  4. 12.  0.  0.  8.  8.  0.  0.  5.  8.  0.\n",
      "  0.  9.  8.  0.  0.  4. 11.  0.  1. 12.  7.  0.  0.  2. 14.  5. 10. 12.\n",
      "  0.  0.  0.  0.  6. 13. 10.  0.  0.  0.]\n",
      "0\n"
     ]
    }
   ],
   "source": [
    "# sampling\n",
    "print(digits_data[0]) \n",
    "print(digits_label[0])"
   ]
  },
  {
   "cell_type": "markdown",
   "metadata": {},
   "source": [
    "## 3. Split data\n",
    "데이터를 훈련 데이터와 테스트 데이터로 8:2 비율로 분리한다."
   ]
  },
  {
   "cell_type": "code",
   "execution_count": 7,
   "metadata": {},
   "outputs": [],
   "source": [
    "# split data\n",
    "X_train, X_test, y_train, y_test = train_test_split(digits_data, \n",
    "                                                    digits_label, \n",
    "                                                    test_size=0.2, \n",
    "                                                    random_state=7)"
   ]
  },
  {
   "cell_type": "markdown",
   "metadata": {},
   "source": [
    "## 4. Train model\n",
    "Decision tree, random forest, SVM, SGD, logistic model을 만들고,\n",
    "준비한 데이터로 훈련을 시킨다."
   ]
  },
  {
   "cell_type": "code",
   "execution_count": 8,
   "metadata": {},
   "outputs": [
    {
     "data": {
      "text/plain": [
       "LogisticRegression(max_iter=2000)"
      ]
     },
     "execution_count": 8,
     "metadata": {},
     "output_type": "execute_result"
    }
   ],
   "source": [
    "# make model [using DT, RF, SVM, SGD, logistic regression]\n",
    "decision_tree = DecisionTreeClassifier(random_state=20)\n",
    "random_forest = RandomForestClassifier(random_state=20)\n",
    "svm_model = svm.SVC()\n",
    "sgd_model = SGDClassifier()\n",
    "logistic_model = LogisticRegression(max_iter=2000)\n",
    "# train model\n",
    "decision_tree.fit(X_train, y_train)\n",
    "random_forest.fit(X_train, y_train)\n",
    "svm_model.fit(X_train, y_train)\n",
    "sgd_model.fit(X_train, y_train)\n",
    "logistic_model.fit(X_train, y_train)"
   ]
  },
  {
   "cell_type": "markdown",
   "metadata": {},
   "source": [
    "## 5. Evaluate model\n",
    "분류 문제이기 때문에 precision, recall, f1-score을 평가지표로 볼 것이다."
   ]
  },
  {
   "cell_type": "code",
   "execution_count": 9,
   "metadata": {},
   "outputs": [
    {
     "name": "stdout",
     "output_type": "stream",
     "text": [
      "              precision    recall  f1-score   support\n",
      "\n",
      "           0       0.98      0.93      0.95        43\n",
      "           1       0.88      0.86      0.87        42\n",
      "           2       0.83      0.85      0.84        40\n",
      "           3       0.84      0.91      0.87        34\n",
      "           4       0.81      0.95      0.88        37\n",
      "           5       0.87      0.96      0.92        28\n",
      "           6       0.93      0.93      0.93        28\n",
      "           7       0.87      0.82      0.84        33\n",
      "           8       0.88      0.70      0.78        43\n",
      "           9       0.79      0.81      0.80        32\n",
      "\n",
      "    accuracy                           0.87       360\n",
      "   macro avg       0.87      0.87      0.87       360\n",
      "weighted avg       0.87      0.87      0.87       360\n",
      "\n",
      "-----------------------------------------------------\n",
      "              precision    recall  f1-score   support\n",
      "\n",
      "           0       1.00      0.98      0.99        43\n",
      "           1       0.93      1.00      0.97        42\n",
      "           2       1.00      1.00      1.00        40\n",
      "           3       0.97      1.00      0.99        34\n",
      "           4       0.92      0.97      0.95        37\n",
      "           5       0.90      1.00      0.95        28\n",
      "           6       1.00      0.96      0.98        28\n",
      "           7       0.94      0.97      0.96        33\n",
      "           8       0.97      0.81      0.89        43\n",
      "           9       0.97      0.94      0.95        32\n",
      "\n",
      "    accuracy                           0.96       360\n",
      "   macro avg       0.96      0.96      0.96       360\n",
      "weighted avg       0.96      0.96      0.96       360\n",
      "\n",
      "-----------------------------------------------------\n",
      "              precision    recall  f1-score   support\n",
      "\n",
      "           0       1.00      1.00      1.00        43\n",
      "           1       0.95      1.00      0.98        42\n",
      "           2       1.00      1.00      1.00        40\n",
      "           3       1.00      1.00      1.00        34\n",
      "           4       1.00      1.00      1.00        37\n",
      "           5       0.93      1.00      0.97        28\n",
      "           6       1.00      1.00      1.00        28\n",
      "           7       1.00      1.00      1.00        33\n",
      "           8       1.00      0.93      0.96        43\n",
      "           9       1.00      0.97      0.98        32\n",
      "\n",
      "    accuracy                           0.99       360\n",
      "   macro avg       0.99      0.99      0.99       360\n",
      "weighted avg       0.99      0.99      0.99       360\n",
      "\n",
      "-----------------------------------------------------\n",
      "              precision    recall  f1-score   support\n",
      "\n",
      "           0       1.00      0.98      0.99        43\n",
      "           1       0.88      0.88      0.88        42\n",
      "           2       0.97      0.97      0.97        40\n",
      "           3       0.86      0.94      0.90        34\n",
      "           4       0.95      1.00      0.97        37\n",
      "           5       0.82      1.00      0.90        28\n",
      "           6       1.00      0.93      0.96        28\n",
      "           7       0.94      0.97      0.96        33\n",
      "           8       0.92      0.81      0.86        43\n",
      "           9       0.96      0.84      0.90        32\n",
      "\n",
      "    accuracy                           0.93       360\n",
      "   macro avg       0.93      0.93      0.93       360\n",
      "weighted avg       0.93      0.93      0.93       360\n",
      "\n",
      "-----------------------------------------------------\n",
      "              precision    recall  f1-score   support\n",
      "\n",
      "           0       1.00      1.00      1.00        43\n",
      "           1       0.95      0.95      0.95        42\n",
      "           2       0.98      1.00      0.99        40\n",
      "           3       0.94      0.97      0.96        34\n",
      "           4       1.00      1.00      1.00        37\n",
      "           5       0.79      0.96      0.87        28\n",
      "           6       1.00      0.96      0.98        28\n",
      "           7       0.97      0.97      0.97        33\n",
      "           8       0.92      0.84      0.88        43\n",
      "           9       0.97      0.88      0.92        32\n",
      "\n",
      "    accuracy                           0.95       360\n",
      "   macro avg       0.95      0.95      0.95       360\n",
      "weighted avg       0.96      0.95      0.95       360\n",
      "\n"
     ]
    }
   ],
   "source": [
    "# evaluate model by using sklearn.metrics\n",
    "y_pred = decision_tree.predict(X_test)\n",
    "print(classification_report(y_test, y_pred))\n",
    "print('-----------------------------------------------------')\n",
    "y_pred = random_forest.predict(X_test)\n",
    "print(classification_report(y_test, y_pred))\n",
    "print('-----------------------------------------------------')\n",
    "y_pred = svm_model.predict(X_test)\n",
    "print(classification_report(y_test, y_pred))\n",
    "print('-----------------------------------------------------')\n",
    "y_pred = sgd_model.predict(X_test)\n",
    "print(classification_report(y_test, y_pred))\n",
    "print('-----------------------------------------------------')\n",
    "y_pred = logistic_model.predict(X_test)\n",
    "print(classification_report(y_test, y_pred))"
   ]
  },
  {
   "cell_type": "markdown",
   "metadata": {},
   "source": [
    "### 결과에 대한 정리\n",
    "모든 모델은 '0' 클래스에 대하여 가장 잘 분류하였다. 그리고 '8' 클래스를 가장 어려워 했다.(가장 못 분류했다.)   \n",
    "각각의 클래스마다 데이터의 개수가 거의 비슷하여 정확도(accuracy)와 precision과 recall을 고려한 점수인 f1 score는 거의 비슷하였다.    \n",
    "Decision tree을 제외하면, 각각의 클래스의 precision, recall 점수가 대부분 0.9에 근접하거나 더 높았다.   \n",
    "그리고 각 모델의 평균을 내보면(macro avg, weighted avg) 정확도, precision, recall, f1 score 모두 0.94 이상으로 높은 성능을 보였다.(decision tree 제외)   \n",
    "정리하면 Decision tree를 제외하고는 거의 95%이상의 성능을 보여주고 있다. 가장 좋은 모델은 성능이 99%인 SVM이였다.  \n",
    "모두(accuracy, precision, recall, f1-score) 고려하는 게 좋지만 한 지표만 골라야 한다면, f1 score을 선택하는 게 좋다. 왜냐하면 분류 문제에서 기본적으로 한 쪽 데이터가 많은 경우에 정확도, precison, recall, 등은 좋은 분류기가 아님에도 높은 값이 나올 수 있기 때문이다.\n",
    "- Decision tree   \n",
    "가장 안 좋은 모델이였고, 일부 클래스(0,5,6)에 대하여 좋은 성능을 보이나 대부분 0.9 아래이다. \n",
    "- Random forest   \n",
    "거의 모든 케이스에 대해서 안정적으로 높은 성능을 보인다. 다만, '8' 클래스에 대한 recall이 0.81로 낮은 성능을 보였다.\n",
    "- SVM   \n",
    "가장 좋은 모델로, 거의 다 분류를 잘 하는 모델이라고 생각하면 된다.\n",
    "- SGD   \n",
    "Random forest 같이 거의 모든 케이스에 대해서 안정적으로 높은 성능을 보인다. 다만, 전체적인 성능은 random forest보다 약간 안 좋고, '5' 클래스에 대한 precison이 0.82, '8' 클래스에 대한 recall이 0.81로 낮은 성능을 보였다.\n",
    "- Logistic regression   \n",
    "Random forest와 비슷하게 거의 모든 케이스에 대해서 안정적으로 높은 성능을 보인다. 다만, '5' 클래스에 대한 precison이 0.79, '8' 클래스에 대한 recall이 0.84로 낮은 성능을 보였다."
   ]
  },
  {
   "cell_type": "markdown",
   "metadata": {},
   "source": [
    "## 와인 분류"
   ]
  },
  {
   "cell_type": "markdown",
   "metadata": {},
   "source": [
    "## 1. Load data"
   ]
  },
  {
   "cell_type": "code",
   "execution_count": 10,
   "metadata": {},
   "outputs": [],
   "source": [
    "wine = load_wine()"
   ]
  },
  {
   "cell_type": "markdown",
   "metadata": {},
   "source": [
    "## 2. Analyze data\n",
    "데이터의 description을 보면 총 데이터의 개수는 178개, 데이터는 13개의 속성을 가지는 와인이다.   \n",
    "13개의 속성은 와인이 가지는 특성들이다\n",
    "종류는 3가지, 즉 3가지 클래스이다."
   ]
  },
  {
   "cell_type": "code",
   "execution_count": 11,
   "metadata": {},
   "outputs": [
    {
     "name": "stdout",
     "output_type": "stream",
     "text": [
      "dict_keys(['data', 'target', 'frame', 'target_names', 'DESCR', 'feature_names'])\n",
      "\n",
      "\n",
      "\n",
      ".. _wine_dataset:\n",
      "\n",
      "Wine recognition dataset\n",
      "------------------------\n",
      "\n",
      "**Data Set Characteristics:**\n",
      "\n",
      "    :Number of Instances: 178 (50 in each of three classes)\n",
      "    :Number of Attributes: 13 numeric, predictive attributes and the class\n",
      "    :Attribute Information:\n",
      " \t\t- Alcohol\n",
      " \t\t- Malic acid\n",
      " \t\t- Ash\n",
      "\t\t- Alcalinity of ash  \n",
      " \t\t- Magnesium\n",
      "\t\t- Total phenols\n",
      " \t\t- Flavanoids\n",
      " \t\t- Nonflavanoid phenols\n",
      " \t\t- Proanthocyanins\n",
      "\t\t- Color intensity\n",
      " \t\t- Hue\n",
      " \t\t- OD280/OD315 of diluted wines\n",
      " \t\t- Proline\n",
      "\n",
      "    - class:\n",
      "            - class_0\n",
      "            - class_1\n",
      "            - class_2\n",
      "\t\t\n",
      "    :Summary Statistics:\n",
      "    \n",
      "    ============================= ==== ===== ======= =====\n",
      "                                   Min   Max   Mean     SD\n",
      "    ============================= ==== ===== ======= =====\n",
      "    Alcohol:                      11.0  14.8    13.0   0.8\n",
      "    Malic Acid:                   0.74  5.80    2.34  1.12\n",
      "    Ash:                          1.36  3.23    2.36  0.27\n",
      "    Alcalinity of Ash:            10.6  30.0    19.5   3.3\n",
      "    Magnesium:                    70.0 162.0    99.7  14.3\n",
      "    Total Phenols:                0.98  3.88    2.29  0.63\n",
      "    Flavanoids:                   0.34  5.08    2.03  1.00\n",
      "    Nonflavanoid Phenols:         0.13  0.66    0.36  0.12\n",
      "    Proanthocyanins:              0.41  3.58    1.59  0.57\n",
      "    Colour Intensity:              1.3  13.0     5.1   2.3\n",
      "    Hue:                          0.48  1.71    0.96  0.23\n",
      "    OD280/OD315 of diluted wines: 1.27  4.00    2.61  0.71\n",
      "    Proline:                       278  1680     746   315\n",
      "    ============================= ==== ===== ======= =====\n",
      "\n",
      "    :Missing Attribute Values: None\n",
      "    :Class Distribution: class_0 (59), class_1 (71), class_2 (48)\n",
      "    :Creator: R.A. Fisher\n",
      "    :Donor: Michael Marshall (MARSHALL%PLU@io.arc.nasa.gov)\n",
      "    :Date: July, 1988\n",
      "\n",
      "This is a copy of UCI ML Wine recognition datasets.\n",
      "https://archive.ics.uci.edu/ml/machine-learning-databases/wine/wine.data\n",
      "\n",
      "The data is the results of a chemical analysis of wines grown in the same\n",
      "region in Italy by three different cultivators. There are thirteen different\n",
      "measurements taken for different constituents found in the three types of\n",
      "wine.\n",
      "\n",
      "Original Owners: \n",
      "\n",
      "Forina, M. et al, PARVUS - \n",
      "An Extendible Package for Data Exploration, Classification and Correlation. \n",
      "Institute of Pharmaceutical and Food Analysis and Technologies,\n",
      "Via Brigata Salerno, 16147 Genoa, Italy.\n",
      "\n",
      "Citation:\n",
      "\n",
      "Lichman, M. (2013). UCI Machine Learning Repository\n",
      "[https://archive.ics.uci.edu/ml]. Irvine, CA: University of California,\n",
      "School of Information and Computer Science. \n",
      "\n",
      ".. topic:: References\n",
      "\n",
      "  (1) S. Aeberhard, D. Coomans and O. de Vel, \n",
      "  Comparison of Classifiers in High Dimensional Settings, \n",
      "  Tech. Rep. no. 92-02, (1992), Dept. of Computer Science and Dept. of  \n",
      "  Mathematics and Statistics, James Cook University of North Queensland. \n",
      "  (Also submitted to Technometrics). \n",
      "\n",
      "  The data was used with many others for comparing various \n",
      "  classifiers. The classes are separable, though only RDA \n",
      "  has achieved 100% correct classification. \n",
      "  (RDA : 100%, QDA 99.4%, LDA 98.9%, 1NN 96.1% (z-transformed data)) \n",
      "  (All results using the leave-one-out technique) \n",
      "\n",
      "  (2) S. Aeberhard, D. Coomans and O. de Vel, \n",
      "  \"THE CLASSIFICATION PERFORMANCE OF RDA\" \n",
      "  Tech. Rep. no. 92-01, (1992), Dept. of Computer Science and Dept. of \n",
      "  Mathematics and Statistics, James Cook University of North Queensland. \n",
      "  (Also submitted to Journal of Chemometrics).\n",
      "\n"
     ]
    }
   ],
   "source": [
    "print(wine.keys()) # data component\n",
    "print(\"\\n\\n\")\n",
    "print(wine.DESCR)  # data describe"
   ]
  },
  {
   "cell_type": "code",
   "execution_count": 12,
   "metadata": {},
   "outputs": [
    {
     "name": "stdout",
     "output_type": "stream",
     "text": [
      "['class_0' 'class_1' 'class_2']\n"
     ]
    }
   ],
   "source": [
    "# target name \n",
    "print(wine.target_names) "
   ]
  },
  {
   "cell_type": "code",
   "execution_count": 13,
   "metadata": {},
   "outputs": [],
   "source": [
    "wine_data = wine.data     # feature data \n",
    "wine_label = wine.target  # label data "
   ]
  },
  {
   "cell_type": "code",
   "execution_count": 14,
   "metadata": {},
   "outputs": [
    {
     "name": "stdout",
     "output_type": "stream",
     "text": [
      "[1.423e+01 1.710e+00 2.430e+00 1.560e+01 1.270e+02 2.800e+00 3.060e+00\n",
      " 2.800e-01 2.290e+00 5.640e+00 1.040e+00 3.920e+00 1.065e+03]\n",
      "0\n"
     ]
    }
   ],
   "source": [
    "# sample\n",
    "print(wine_data[0]) \n",
    "print(wine_label[0])"
   ]
  },
  {
   "cell_type": "markdown",
   "metadata": {},
   "source": [
    "## 3. Split data\n",
    "데이터를 훈련 데이터와 테스트 데이터로 8:2 비율로 분리한다."
   ]
  },
  {
   "cell_type": "code",
   "execution_count": 15,
   "metadata": {},
   "outputs": [],
   "source": [
    "# split data\n",
    "X_train, X_test, y_train, y_test = train_test_split(wine_data, \n",
    "                                                    wine_label, \n",
    "                                                    test_size=0.2, \n",
    "                                                    random_state=7)"
   ]
  },
  {
   "cell_type": "markdown",
   "metadata": {},
   "source": [
    "## 4. Train model\n",
    "Decision tree, random forest, SVM, SGD, logistic model을 만들고,\n",
    "준비한 데이터로 훈련을 시킨다."
   ]
  },
  {
   "cell_type": "code",
   "execution_count": 16,
   "metadata": {},
   "outputs": [
    {
     "data": {
      "text/plain": [
       "LogisticRegression(max_iter=5000)"
      ]
     },
     "execution_count": 16,
     "metadata": {},
     "output_type": "execute_result"
    }
   ],
   "source": [
    "# make model [using DT, RF, SVM, SGD, logistic regression]\n",
    "decision_tree = DecisionTreeClassifier(random_state=20)\n",
    "random_forest = RandomForestClassifier(random_state=20)\n",
    "svm_model = svm.SVC()\n",
    "sgd_model = SGDClassifier()\n",
    "logistic_model = LogisticRegression(max_iter=5000)\n",
    "# train model\n",
    "decision_tree.fit(X_train, y_train)\n",
    "random_forest.fit(X_train, y_train)\n",
    "svm_model.fit(X_train, y_train)\n",
    "sgd_model.fit(X_train, y_train)\n",
    "logistic_model.fit(X_train, y_train)"
   ]
  },
  {
   "cell_type": "markdown",
   "metadata": {},
   "source": [
    "## 5. Evaluate model\n",
    "분류 문제이기 때문에 precision, recall, f1-score을 평가지표로 볼 것이다."
   ]
  },
  {
   "cell_type": "code",
   "execution_count": 17,
   "metadata": {},
   "outputs": [
    {
     "name": "stdout",
     "output_type": "stream",
     "text": [
      "              precision    recall  f1-score   support\n",
      "\n",
      "           0       1.00      1.00      1.00         7\n",
      "           1       0.89      1.00      0.94        17\n",
      "           2       1.00      0.83      0.91        12\n",
      "\n",
      "    accuracy                           0.94        36\n",
      "   macro avg       0.96      0.94      0.95        36\n",
      "weighted avg       0.95      0.94      0.94        36\n",
      "\n",
      "-----------------------------------------------------\n",
      "              precision    recall  f1-score   support\n",
      "\n",
      "           0       1.00      1.00      1.00         7\n",
      "           1       1.00      1.00      1.00        17\n",
      "           2       1.00      1.00      1.00        12\n",
      "\n",
      "    accuracy                           1.00        36\n",
      "   macro avg       1.00      1.00      1.00        36\n",
      "weighted avg       1.00      1.00      1.00        36\n",
      "\n",
      "-----------------------------------------------------\n",
      "              precision    recall  f1-score   support\n",
      "\n",
      "           0       0.86      0.86      0.86         7\n",
      "           1       0.58      0.88      0.70        17\n",
      "           2       0.33      0.08      0.13        12\n",
      "\n",
      "    accuracy                           0.61        36\n",
      "   macro avg       0.59      0.61      0.56        36\n",
      "weighted avg       0.55      0.61      0.54        36\n",
      "\n",
      "-----------------------------------------------------\n",
      "              precision    recall  f1-score   support\n",
      "\n",
      "           0       0.32      1.00      0.48         7\n",
      "           1       0.85      0.65      0.73        17\n",
      "           2       1.00      0.08      0.15        12\n",
      "\n",
      "    accuracy                           0.53        36\n",
      "   macro avg       0.72      0.58      0.46        36\n",
      "weighted avg       0.79      0.53      0.49        36\n",
      "\n",
      "-----------------------------------------------------\n",
      "              precision    recall  f1-score   support\n",
      "\n",
      "           0       1.00      1.00      1.00         7\n",
      "           1       0.94      1.00      0.97        17\n",
      "           2       1.00      0.92      0.96        12\n",
      "\n",
      "    accuracy                           0.97        36\n",
      "   macro avg       0.98      0.97      0.98        36\n",
      "weighted avg       0.97      0.97      0.97        36\n",
      "\n"
     ]
    }
   ],
   "source": [
    "# evaluate model by using sklearn.metrics\n",
    "y_pred = decision_tree.predict(X_test)\n",
    "print(classification_report(y_test, y_pred))\n",
    "print('-----------------------------------------------------')\n",
    "y_pred = random_forest.predict(X_test)\n",
    "print(classification_report(y_test, y_pred))\n",
    "print('-----------------------------------------------------')\n",
    "y_pred = svm_model.predict(X_test)\n",
    "print(classification_report(y_test, y_pred))\n",
    "print('-----------------------------------------------------')\n",
    "y_pred = sgd_model.predict(X_test)\n",
    "print(classification_report(y_test, y_pred))\n",
    "print('-----------------------------------------------------')\n",
    "y_pred = logistic_model.predict(X_test)\n",
    "print(classification_report(y_test, y_pred))"
   ]
  },
  {
   "cell_type": "markdown",
   "metadata": {},
   "source": [
    "### 결과에 대한 정리\n",
    "SGD를 제외한 모든 모델은 '0' 클래스에 대하여 가장 잘 분류하였다. 그리고 '2' 클래스를 가장 어려워 했다.(가장 못 분류했다.)    \n",
    "SVM, SGD는 성능이 안 좋았고, 반면에 나머지 모델은 거의 accuracy, f1 score, 평균(macro avg, weighted avg)까지도 모두 0.95 이상의 높은 성능을 보였다.    \n",
    "특별히 random forest는 모든 경우에 대해서 완벽히 분류했다.   \n",
    "정리하면 SVM,SGD를 제외하고는 거의 95%이상의 성능을 보여주고 있다. 가장 좋은 모델은 성능이 100%인 random forest였다.   \n",
    "모두(accuracy, precision, recall, f1-score) 고려하는 게 좋지만 한 지표만 골라야 한다면 f1 score을 선택하는 게 좋다. 왜냐하면 분류 문제에서 기본적으로 한 쪽 데이터가 많은 경우에 정확도, precison, recall, 등은 좋은 분류기가 아님에도 높은 값이 나올 수 있기 때문이다. (여기서는 SGD 모델이 예가 될 수 있다.)\n",
    "- Decision tree   \n",
    "전체적으로 좋은 성능을 보이지만, '2' 클래스에 대한 recall이 0.83으로 낮은 성능을 보였다.\n",
    "- Random forest   \n",
    "모든 케이스에 대하여 완벽히 분류하였다.(가장 좋은 모델)\n",
    "- SVM   \n",
    "정확도 61%, 평균 f1 score(macro avg, weighted avg)가 0.56, 0.54 정도로 많이 낮은 성능을 보인다. 비교적 '0','1' 클래스에 대해서는 잘 분류하지만 '2'에 대하여 분류를 거의 하지 못하여 성능이 좋지 않다.\n",
    "- SGD   \n",
    "SVM보다 성능이 더 떨어져 가장 안 좋은 모델로, 정확도 53%, 평균 f1 score(macro avg, weighted avg)가 0.46, 0.49 정도로 최악의 성능을 보였다. 비교적 '1' 클래스에 대하여는 잘 분류했다. '0' 클래스에 대해서는 recall이 1.0으로 정확하지만 precison이 낮고, '2' 클래스는 반대로 precision이 1.0으로 정확하지만 recall이 낮다.\n",
    "- Logistic regression   \n",
    "Decision tree와 비슷하게 모든 케이스에 대해서 안정적으로 높은 성능을 보인다. Decision tree보다 더 좋은 성능을 보인다."
   ]
  },
  {
   "cell_type": "markdown",
   "metadata": {},
   "source": [
    "## 유방암 여부 진단"
   ]
  },
  {
   "cell_type": "markdown",
   "metadata": {},
   "source": [
    "## 1. Load data"
   ]
  },
  {
   "cell_type": "code",
   "execution_count": 18,
   "metadata": {},
   "outputs": [],
   "source": [
    "cancer = load_breast_cancer()"
   ]
  },
  {
   "cell_type": "markdown",
   "metadata": {},
   "source": [
    "## 2. Analyze data\n",
    "데이터의 description을 보면 총 데이터의 개수는 569개, 데이터는 30개의 속성을 가지고 유방암의 여부이다.   \n",
    "30개의 속성은 유방암을 진단을 할 수 있게 도와주는 건강지표들이다.  \n",
    "종류는 악성이 있느지 여부로 2가지 클래스를 가진다."
   ]
  },
  {
   "cell_type": "code",
   "execution_count": 19,
   "metadata": {
    "scrolled": false
   },
   "outputs": [
    {
     "name": "stdout",
     "output_type": "stream",
     "text": [
      "dict_keys(['data', 'target', 'frame', 'target_names', 'DESCR', 'feature_names', 'filename'])\n",
      "\n",
      "\n",
      "\n",
      ".. _breast_cancer_dataset:\n",
      "\n",
      "Breast cancer wisconsin (diagnostic) dataset\n",
      "--------------------------------------------\n",
      "\n",
      "**Data Set Characteristics:**\n",
      "\n",
      "    :Number of Instances: 569\n",
      "\n",
      "    :Number of Attributes: 30 numeric, predictive attributes and the class\n",
      "\n",
      "    :Attribute Information:\n",
      "        - radius (mean of distances from center to points on the perimeter)\n",
      "        - texture (standard deviation of gray-scale values)\n",
      "        - perimeter\n",
      "        - area\n",
      "        - smoothness (local variation in radius lengths)\n",
      "        - compactness (perimeter^2 / area - 1.0)\n",
      "        - concavity (severity of concave portions of the contour)\n",
      "        - concave points (number of concave portions of the contour)\n",
      "        - symmetry\n",
      "        - fractal dimension (\"coastline approximation\" - 1)\n",
      "\n",
      "        The mean, standard error, and \"worst\" or largest (mean of the three\n",
      "        worst/largest values) of these features were computed for each image,\n",
      "        resulting in 30 features.  For instance, field 0 is Mean Radius, field\n",
      "        10 is Radius SE, field 20 is Worst Radius.\n",
      "\n",
      "        - class:\n",
      "                - WDBC-Malignant\n",
      "                - WDBC-Benign\n",
      "\n",
      "    :Summary Statistics:\n",
      "\n",
      "    ===================================== ====== ======\n",
      "                                           Min    Max\n",
      "    ===================================== ====== ======\n",
      "    radius (mean):                        6.981  28.11\n",
      "    texture (mean):                       9.71   39.28\n",
      "    perimeter (mean):                     43.79  188.5\n",
      "    area (mean):                          143.5  2501.0\n",
      "    smoothness (mean):                    0.053  0.163\n",
      "    compactness (mean):                   0.019  0.345\n",
      "    concavity (mean):                     0.0    0.427\n",
      "    concave points (mean):                0.0    0.201\n",
      "    symmetry (mean):                      0.106  0.304\n",
      "    fractal dimension (mean):             0.05   0.097\n",
      "    radius (standard error):              0.112  2.873\n",
      "    texture (standard error):             0.36   4.885\n",
      "    perimeter (standard error):           0.757  21.98\n",
      "    area (standard error):                6.802  542.2\n",
      "    smoothness (standard error):          0.002  0.031\n",
      "    compactness (standard error):         0.002  0.135\n",
      "    concavity (standard error):           0.0    0.396\n",
      "    concave points (standard error):      0.0    0.053\n",
      "    symmetry (standard error):            0.008  0.079\n",
      "    fractal dimension (standard error):   0.001  0.03\n",
      "    radius (worst):                       7.93   36.04\n",
      "    texture (worst):                      12.02  49.54\n",
      "    perimeter (worst):                    50.41  251.2\n",
      "    area (worst):                         185.2  4254.0\n",
      "    smoothness (worst):                   0.071  0.223\n",
      "    compactness (worst):                  0.027  1.058\n",
      "    concavity (worst):                    0.0    1.252\n",
      "    concave points (worst):               0.0    0.291\n",
      "    symmetry (worst):                     0.156  0.664\n",
      "    fractal dimension (worst):            0.055  0.208\n",
      "    ===================================== ====== ======\n",
      "\n",
      "    :Missing Attribute Values: None\n",
      "\n",
      "    :Class Distribution: 212 - Malignant, 357 - Benign\n",
      "\n",
      "    :Creator:  Dr. William H. Wolberg, W. Nick Street, Olvi L. Mangasarian\n",
      "\n",
      "    :Donor: Nick Street\n",
      "\n",
      "    :Date: November, 1995\n",
      "\n",
      "This is a copy of UCI ML Breast Cancer Wisconsin (Diagnostic) datasets.\n",
      "https://goo.gl/U2Uwz2\n",
      "\n",
      "Features are computed from a digitized image of a fine needle\n",
      "aspirate (FNA) of a breast mass.  They describe\n",
      "characteristics of the cell nuclei present in the image.\n",
      "\n",
      "Separating plane described above was obtained using\n",
      "Multisurface Method-Tree (MSM-T) [K. P. Bennett, \"Decision Tree\n",
      "Construction Via Linear Programming.\" Proceedings of the 4th\n",
      "Midwest Artificial Intelligence and Cognitive Science Society,\n",
      "pp. 97-101, 1992], a classification method which uses linear\n",
      "programming to construct a decision tree.  Relevant features\n",
      "were selected using an exhaustive search in the space of 1-4\n",
      "features and 1-3 separating planes.\n",
      "\n",
      "The actual linear program used to obtain the separating plane\n",
      "in the 3-dimensional space is that described in:\n",
      "[K. P. Bennett and O. L. Mangasarian: \"Robust Linear\n",
      "Programming Discrimination of Two Linearly Inseparable Sets\",\n",
      "Optimization Methods and Software 1, 1992, 23-34].\n",
      "\n",
      "This database is also available through the UW CS ftp server:\n",
      "\n",
      "ftp ftp.cs.wisc.edu\n",
      "cd math-prog/cpo-dataset/machine-learn/WDBC/\n",
      "\n",
      ".. topic:: References\n",
      "\n",
      "   - W.N. Street, W.H. Wolberg and O.L. Mangasarian. Nuclear feature extraction \n",
      "     for breast tumor diagnosis. IS&T/SPIE 1993 International Symposium on \n",
      "     Electronic Imaging: Science and Technology, volume 1905, pages 861-870,\n",
      "     San Jose, CA, 1993.\n",
      "   - O.L. Mangasarian, W.N. Street and W.H. Wolberg. Breast cancer diagnosis and \n",
      "     prognosis via linear programming. Operations Research, 43(4), pages 570-577, \n",
      "     July-August 1995.\n",
      "   - W.H. Wolberg, W.N. Street, and O.L. Mangasarian. Machine learning techniques\n",
      "     to diagnose breast cancer from fine-needle aspirates. Cancer Letters 77 (1994) \n",
      "     163-171.\n"
     ]
    }
   ],
   "source": [
    "print(cancer.keys()) # data component\n",
    "print(\"\\n\\n\")\n",
    "print(cancer.DESCR)  # data describe"
   ]
  },
  {
   "cell_type": "code",
   "execution_count": 20,
   "metadata": {},
   "outputs": [
    {
     "name": "stdout",
     "output_type": "stream",
     "text": [
      "['malignant' 'benign']\n"
     ]
    }
   ],
   "source": [
    "# target name \n",
    "print(cancer.target_names) "
   ]
  },
  {
   "cell_type": "code",
   "execution_count": 21,
   "metadata": {},
   "outputs": [],
   "source": [
    "cancer_data = cancer.data     # feature data \n",
    "cancer_label = cancer.target  # label data "
   ]
  },
  {
   "cell_type": "code",
   "execution_count": 22,
   "metadata": {},
   "outputs": [
    {
     "name": "stdout",
     "output_type": "stream",
     "text": [
      "[1.799e+01 1.038e+01 1.228e+02 1.001e+03 1.184e-01 2.776e-01 3.001e-01\n",
      " 1.471e-01 2.419e-01 7.871e-02 1.095e+00 9.053e-01 8.589e+00 1.534e+02\n",
      " 6.399e-03 4.904e-02 5.373e-02 1.587e-02 3.003e-02 6.193e-03 2.538e+01\n",
      " 1.733e+01 1.846e+02 2.019e+03 1.622e-01 6.656e-01 7.119e-01 2.654e-01\n",
      " 4.601e-01 1.189e-01]\n",
      "0\n"
     ]
    }
   ],
   "source": [
    "# sample\n",
    "print(cancer_data[0]) \n",
    "print(cancer_label[0])"
   ]
  },
  {
   "cell_type": "markdown",
   "metadata": {},
   "source": [
    "## 3. Split data\n",
    "데이터를 훈련 데이터와 테스트 데이터로 8:2 비율로 분리한다."
   ]
  },
  {
   "cell_type": "code",
   "execution_count": 23,
   "metadata": {},
   "outputs": [],
   "source": [
    "# split data\n",
    "X_train, X_test, y_train, y_test = train_test_split(cancer_data, \n",
    "                                                    cancer_label, \n",
    "                                                    test_size=0.2, \n",
    "                                                    random_state=7)"
   ]
  },
  {
   "cell_type": "markdown",
   "metadata": {},
   "source": [
    "## 4. Train model\n",
    "Decision tree, random forest, SVM, SGD, logistic model을 만들고,\n",
    "준비한 데이터로 훈련을 시킨다."
   ]
  },
  {
   "cell_type": "code",
   "execution_count": 24,
   "metadata": {},
   "outputs": [
    {
     "data": {
      "text/plain": [
       "LogisticRegression(max_iter=2000)"
      ]
     },
     "execution_count": 24,
     "metadata": {},
     "output_type": "execute_result"
    }
   ],
   "source": [
    "# make model [using DT, RF, SVM, SGD, logistic regression]\n",
    "decision_tree = DecisionTreeClassifier(random_state=20)\n",
    "random_forest = RandomForestClassifier(random_state=20)\n",
    "svm_model = svm.SVC()\n",
    "sgd_model = SGDClassifier()\n",
    "logistic_model = LogisticRegression(max_iter=2000)\n",
    "# train model\n",
    "decision_tree.fit(X_train, y_train)\n",
    "random_forest.fit(X_train, y_train)\n",
    "svm_model.fit(X_train, y_train)\n",
    "sgd_model.fit(X_train, y_train)\n",
    "logistic_model.fit(X_train, y_train)"
   ]
  },
  {
   "cell_type": "markdown",
   "metadata": {},
   "source": [
    "## 5. Evaluate model\n",
    "분류 문제이기 때문에 precision, recall, f1-score을 평가지표로 볼 것이다."
   ]
  },
  {
   "cell_type": "code",
   "execution_count": 25,
   "metadata": {},
   "outputs": [
    {
     "name": "stdout",
     "output_type": "stream",
     "text": [
      "              precision    recall  f1-score   support\n",
      "\n",
      "           0       0.92      0.88      0.90        40\n",
      "           1       0.93      0.96      0.95        74\n",
      "\n",
      "    accuracy                           0.93       114\n",
      "   macro avg       0.93      0.92      0.92       114\n",
      "weighted avg       0.93      0.93      0.93       114\n",
      "\n",
      "-----------------------------------------------------\n",
      "              precision    recall  f1-score   support\n",
      "\n",
      "           0       1.00      0.90      0.95        40\n",
      "           1       0.95      1.00      0.97        74\n",
      "\n",
      "    accuracy                           0.96       114\n",
      "   macro avg       0.97      0.95      0.96       114\n",
      "weighted avg       0.97      0.96      0.96       114\n",
      "\n",
      "-----------------------------------------------------\n",
      "              precision    recall  f1-score   support\n",
      "\n",
      "           0       1.00      0.72      0.84        40\n",
      "           1       0.87      1.00      0.93        74\n",
      "\n",
      "    accuracy                           0.90       114\n",
      "   macro avg       0.94      0.86      0.89       114\n",
      "weighted avg       0.92      0.90      0.90       114\n",
      "\n",
      "-----------------------------------------------------\n",
      "              precision    recall  f1-score   support\n",
      "\n",
      "           0       1.00      0.40      0.57        40\n",
      "           1       0.76      1.00      0.86        74\n",
      "\n",
      "    accuracy                           0.79       114\n",
      "   macro avg       0.88      0.70      0.72       114\n",
      "weighted avg       0.84      0.79      0.76       114\n",
      "\n",
      "-----------------------------------------------------\n",
      "              precision    recall  f1-score   support\n",
      "\n",
      "           0       1.00      0.85      0.92        40\n",
      "           1       0.93      1.00      0.96        74\n",
      "\n",
      "    accuracy                           0.95       114\n",
      "   macro avg       0.96      0.93      0.94       114\n",
      "weighted avg       0.95      0.95      0.95       114\n",
      "\n"
     ]
    }
   ],
   "source": [
    "# evaluate model by using sklearn.metrics\n",
    "y_pred = decision_tree.predict(X_test)\n",
    "print(classification_report(y_test, y_pred))\n",
    "print('-----------------------------------------------------')\n",
    "y_pred = random_forest.predict(X_test)\n",
    "print(classification_report(y_test, y_pred))\n",
    "print('-----------------------------------------------------')\n",
    "y_pred = svm_model.predict(X_test)\n",
    "print(classification_report(y_test, y_pred))\n",
    "print('-----------------------------------------------------')\n",
    "y_pred = sgd_model.predict(X_test)\n",
    "print(classification_report(y_test, y_pred))\n",
    "print('-----------------------------------------------------')\n",
    "y_pred = logistic_model.predict(X_test)\n",
    "print(classification_report(y_test, y_pred))"
   ]
  },
  {
   "cell_type": "markdown",
   "metadata": {},
   "source": [
    "### 결과에 대한 정리\n",
    "모든 모델은 '1' 클래스에 대하여 가장 잘 분류하였다. 그리고 '0' 클래스를 가장 어려워 했다.(가장 못 분류했다.)\n",
    "좀 더 살펴보면 모든 경우에 '0' 클래스는 precision이 높고, '1' 클래스는 recall이 높았다.\n",
    "SGD을 제외한 모델들은 거의 accuracy, f1 score, 평균(macro avg, weighted avg)까지도 모두 0.90 이상의 높은 성능을 보였다.\n",
    "정리하면 SGD를 제외하고는 거의 90%이상의 성능을 보여주고 있다. 가장 좋은 모델은 성능이 96%인 random forest였다.  \n",
    "모두(accuracy, precision, recall, f1-score) 고려하는 게 좋지만 한 지표만 고르면 f1 score을 선택하는 게 좋다. 왜냐하면 분류 문제에서 기본적으로 한 쪽 데이터가 많은 경우에 정확도, precison, recall, 등은 좋은 분류기가 아님에도 높은 값이 나올 수 있기 때문이다.(여기서는 SGD 모델이 예가 될 수 있다.)\n",
    "- Decision tree   \n",
    "전체적으로 좋은 성능을 보인다.\n",
    "- Random forest   \n",
    "Decision tree보다 더 좋은 성능을 보인다.(가장 좋은 모델)\n",
    "- SVM   \n",
    "정확도 61%, 평균 f1 score(macro avg, weighted avg)가 0.56, 0.54 정도로 많이 낮은 성능을 보인다. 비교적 '0','1' 클래스에 대해서는 잘 분류하지만 '2'에 대하여 분류를 거의 하지 못하여 성능이 좋지 않다.\n",
    "- SGD   \n",
    "SVM보다 성능이 더 떨어져 가장 안 좋은 모델로, 정확도 53%, 평균 f1 score(macro avg, weighted avg)가 0.46, 0.49 정도로 최악의 성능을 보였다. 비교적 '1' 클래스에 대하여는 잘 분류했다. '0' 클래스에 대해서는 recall이 1.0으로 정확하지만 precison이 낮고, '2' 클래스는 반대로 precision이 1.0으로 정확하지만 recall이 낮다.\n",
    "- Logistic regression   \n",
    "Decision tree와 비슷하게 모든 케이스에 대해서 안정적으로 높은 성능을 보인다. Decision tree보다 더 좋은 성능을 보인다."
   ]
  },
  {
   "cell_type": "markdown",
   "metadata": {},
   "source": [
    "## 회고 및 루브릭 평가"
   ]
  },
  {
   "cell_type": "markdown",
   "metadata": {},
   "source": [
    "### 루브릭 평가 항목\n",
    "1. 3가지 데이터셋의 구성이 합리적으로 진행되었는가(feature와 label 선정을 위한 데이터 분석과정이 체계적으로 전개됨)?\n",
    "    \n",
    "2. 3가지 데이터셋에 대해 각각 5가지 모델을 성공적으로 적용하였는가(모델학습 및 테스트가 정상적으로 수행되었음)?\n",
    "\n",
    "3. 3가지 데이터셋에 대해 모델의 평가지표가 적절히 선택되었는가(평가지표 선택 및 이유 설명이 타당함)?"
   ]
  },
  {
   "cell_type": "markdown",
   "metadata": {},
   "source": [
    "### 평가 항목에 대한 수행\n",
    "1. 3가지 데이터셋에 대해 각각 'analyze data'에서 데이터에 대한 설명을 보고, 데이터 전체적인 구성을 파악하고 데이터에 대한 feature와 label을 분리하였다.\n",
    "2. 3가지 데이터셋에 대해 각각 'train model'에서 5가지 모델을 만들고 각 모델에 대해서 훈련 데이터로 학습을 하고 'evaluate model'에서 테스트 데이터에 대해서 테스트까지 하였다.\n",
    "3. 3가지 데이터셋에 대해 '결과에 대한 정리'에서 평가지표를 선택하였고, 그 이유를 설명하였다."
   ]
  },
  {
   "cell_type": "markdown",
   "metadata": {},
   "source": [
    "### 회고"
   ]
  },
  {
   "cell_type": "markdown",
   "metadata": {},
   "source": [
    "노션에 공지된 꼭 포함이 되어야 할 점\n",
    "- 이번 프로젝트에서 **어려웠던 점,**\n",
    "- 프로젝트를 진행하면서 **알아낸 점** 혹은 **아직 모호한 점**.\n",
    "- 루브릭 평가 지표를 맞추기 위해 **시도한 것들**.\n",
    "- 만약에 루브릭 평가 관련 지표를 **달성 하지 못했을 때, 이유에 관한 추정**.\n",
    "- **자기 다짐**"
   ]
  },
  {
   "cell_type": "markdown",
   "metadata": {},
   "source": [
    "---\n",
    "- **어려웠던 점**    \n",
    "특별히 어려웠던 점은 없었고, 주피터 노트북 사용방법과 사용하는 함수의 랜덤성이 조금 불편을 겪게 했다. 주피터 노트북 사용법의 경우, 여러 좋은 단축키들이 있는데, 그걸 알지 못해서 작업하는 속도가 느렸던 것 같고, 함수의 랜덤성의 경우, data를 분리하는 함수에서 랜덤으로 섞어서 분리를 하는데 테스트 데이터에 특정 데이터가 포함되지 않은 경우가 있어서 몇 번을 다시 돌렸다.ㅜㅜ(특히 데이터 개수가 적은 3번째)\n",
    "---\n",
    "- **알아낸 점**    \n",
    "이번에 안 쓰던 주피터 노트북 단축키에 대해서 알아보게 되었고, cell을 분리하거나 결합하고 선택하는 것 등을 몸으로 익힐 수 있었다.(3가지가 반복되어서 빠른 작업을 위해) 그리고 logistic regression 모델의 경우, 디폴트 값으로 할 경우, 모델이 최종적으로 수렴하지 않으면 경고 메시지를 띄우는데, 다음을 참고하여 https://stackoverflow.com/questions/62658215/convergencewarning-lbfgs-failed-to-converge-status-1-stop-total-no-of-iter 경고 메시지를 없애기 위하여 파라미터 설정을 해주었다.\n",
    "모든 모델을 디폴트 설정으로 하여 정확하지 않지만 위에서 나온 결과를 바탕으로 앙상블 기법을 사용한 random forest 전체적으로 가장 좋은 모델이라는 것을 알 수 있었다.\n",
    "\n",
    "- **모호한 점**    \n",
    "모델을 디폴트 값으로 생성하긴 했는데, 정확히 어떤 파라미터 값을 넣을 수 있는 지에 대해서는 모르고 있다. 물론 reference나 API 설명을 보면 해결할 수 있다.\n",
    "---\n",
    "- **시도한 것들**    \n",
    "처음부터 끝까지 코드를 구성하여서    \n",
    "   1. 3가지 데이터셋에 대해 각각 'analyze data'에서 데이터에 대한 설명을 보고, 데이터 전체적인 구성을 파악하고 데이터에 대한 feature와 label을 분리하였다.\n",
    "   2. 3가지 데이터셋에 대해 각각 'train model'에서 5가지 모델을 만들고 각 모델에 대해서 훈련 데이터로 학습을 하고 'evaluate model'에서 테스트 데이터에 대해서 테스트까지 하였다.\n",
    "   3. 3가지 데이터셋에 대해 '결과에 대한 정리'에서 평가지표를 선택하였고, 그 이유를 설명하였다.\n",
    "---\n",
    "- **우브릭 평가 관련 지표**   \n",
    "제 예상에는 모두 달성되었다고 생각한다. 그 이유는 위에 있는 **평가 항목에 대한 수행**에 나와있다.   \n",
    "- **자기 다짐** 및 **나의 생각들**      \n",
    "탐색 노드 1에 비하여 상대적으로 쉬운 노드였다. 이번에 다룬 데이터는 패키지에서 기본으로 제공되는 것으로 입문자들이 익숙해지기 위해서 사용하는 것이다. 기본적인 모델을 완성하는 프로세스를 배웠으니 앞으로는 실제적이고, 실용적인 문제(데이터)에 대해서도 잘 다룰 수 있게 되었으면 좋겠다. 아직 배우지 않았지만 실제적으로 데이터를 수집하고 가공하는 것도 빨리 배우고 싶다. 그리고 더 나아가서 딥러닝 파트도 배웠으면 좋겠다."
   ]
  },
  {
   "cell_type": "code",
   "execution_count": null,
   "metadata": {},
   "outputs": [],
   "source": []
  }
 ],
 "metadata": {
  "kernelspec": {
   "display_name": "aiffel",
   "language": "python",
   "name": "aiffel"
  },
  "language_info": {
   "codemirror_mode": {
    "name": "ipython",
    "version": 3
   },
   "file_extension": ".py",
   "mimetype": "text/x-python",
   "name": "python",
   "nbconvert_exporter": "python",
   "pygments_lexer": "ipython3",
   "version": "3.7.9"
  }
 },
 "nbformat": 4,
 "nbformat_minor": 4
}
