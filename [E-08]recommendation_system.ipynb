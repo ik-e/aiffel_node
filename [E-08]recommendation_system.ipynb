{
 "cells": [
  {
   "cell_type": "markdown",
   "id": "continued-morgan",
   "metadata": {},
   "source": [
    "# Recommendation system\n",
    "AIFFEL 대전 탐색 노드 8   \n",
    "영화 추천 시스템 구축 프로젝트이다. 모델은 MF를 사용한다.\n",
    "  \n",
    "프로세스는 다음과 같다.     \n",
    "1. Import package \n",
    "2. Data preprocessing \n",
    "3. EDA (basic)\n",
    "4. Modeling\n",
    "5. Analysis"
   ]
  },
  {
   "cell_type": "markdown",
   "id": "qualified-ground",
   "metadata": {},
   "source": [
    "## 1. Import package"
   ]
  },
  {
   "cell_type": "code",
   "execution_count": 1,
   "id": "major-boston",
   "metadata": {},
   "outputs": [],
   "source": [
    "import os\n",
    "import pandas as pd\n",
    "import numpy as np\n",
    "from implicit.als import AlternatingLeastSquares\n",
    "from scipy.sparse import csr_matrix"
   ]
  },
  {
   "cell_type": "markdown",
   "id": "great-proceeding",
   "metadata": {},
   "source": [
    "## 2. Data preprocessing\n",
    "- Data loading   \n",
    "- Data filtering   \n",
    "- Naming & indexing"
   ]
  },
  {
   "cell_type": "code",
   "execution_count": 2,
   "id": "therapeutic-ready",
   "metadata": {},
   "outputs": [
    {
     "data": {
      "text/html": [
       "<div>\n",
       "<style scoped>\n",
       "    .dataframe tbody tr th:only-of-type {\n",
       "        vertical-align: middle;\n",
       "    }\n",
       "\n",
       "    .dataframe tbody tr th {\n",
       "        vertical-align: top;\n",
       "    }\n",
       "\n",
       "    .dataframe thead th {\n",
       "        text-align: right;\n",
       "    }\n",
       "</style>\n",
       "<table border=\"1\" class=\"dataframe\">\n",
       "  <thead>\n",
       "    <tr style=\"text-align: right;\">\n",
       "      <th></th>\n",
       "      <th>user_id</th>\n",
       "      <th>movie_id</th>\n",
       "      <th>rating</th>\n",
       "      <th>timestamp</th>\n",
       "    </tr>\n",
       "  </thead>\n",
       "  <tbody>\n",
       "    <tr>\n",
       "      <th>0</th>\n",
       "      <td>1</td>\n",
       "      <td>1193</td>\n",
       "      <td>5</td>\n",
       "      <td>978300760</td>\n",
       "    </tr>\n",
       "    <tr>\n",
       "      <th>1</th>\n",
       "      <td>1</td>\n",
       "      <td>661</td>\n",
       "      <td>3</td>\n",
       "      <td>978302109</td>\n",
       "    </tr>\n",
       "    <tr>\n",
       "      <th>2</th>\n",
       "      <td>1</td>\n",
       "      <td>914</td>\n",
       "      <td>3</td>\n",
       "      <td>978301968</td>\n",
       "    </tr>\n",
       "    <tr>\n",
       "      <th>3</th>\n",
       "      <td>1</td>\n",
       "      <td>3408</td>\n",
       "      <td>4</td>\n",
       "      <td>978300275</td>\n",
       "    </tr>\n",
       "    <tr>\n",
       "      <th>4</th>\n",
       "      <td>1</td>\n",
       "      <td>2355</td>\n",
       "      <td>5</td>\n",
       "      <td>978824291</td>\n",
       "    </tr>\n",
       "  </tbody>\n",
       "</table>\n",
       "</div>"
      ],
      "text/plain": [
       "   user_id  movie_id  rating  timestamp\n",
       "0        1      1193       5  978300760\n",
       "1        1       661       3  978302109\n",
       "2        1       914       3  978301968\n",
       "3        1      3408       4  978300275\n",
       "4        1      2355       5  978824291"
      ]
     },
     "execution_count": 2,
     "metadata": {},
     "output_type": "execute_result"
    }
   ],
   "source": [
    "# data loading\n",
    "rating_file_path=os.getenv('HOME') + '/aiffel/recommendata_iu/data/ml-1m/ratings.dat'\n",
    "ratings_cols = ['user_id', 'movie_id', 'rating', 'timestamp']\n",
    "ratings = pd.read_csv(rating_file_path, sep='::', names=ratings_cols, engine='python')\n",
    "orginal_data_size = len(ratings)\n",
    "ratings.head()"
   ]
  },
  {
   "cell_type": "code",
   "execution_count": 3,
   "id": "approximate-isaac",
   "metadata": {},
   "outputs": [
    {
     "name": "stdout",
     "output_type": "stream",
     "text": [
      "orginal_data_size: 1000209, filtered_data_size: 836478\n",
      "Ratio of Remaining Data is 83.63%\n"
     ]
    }
   ],
   "source": [
    "# data filtering\n",
    "# 3점 이상만 남깁니다.\n",
    "ratings = ratings[ratings['rating']>=3]\n",
    "filtered_data_size = len(ratings)\n",
    "\n",
    "print(f'orginal_data_size: {orginal_data_size}, filtered_data_size: {filtered_data_size}')\n",
    "print(f'Ratio of Remaining Data is {filtered_data_size / orginal_data_size:.2%}')"
   ]
  },
  {
   "cell_type": "code",
   "execution_count": 4,
   "id": "otherwise-celtic",
   "metadata": {},
   "outputs": [
    {
     "data": {
      "text/plain": [
       "0          5\n",
       "1          3\n",
       "2          3\n",
       "3          4\n",
       "4          5\n",
       "          ..\n",
       "1000203    3\n",
       "1000205    5\n",
       "1000206    5\n",
       "1000207    4\n",
       "1000208    4\n",
       "Name: count, Length: 836478, dtype: int64"
      ]
     },
     "execution_count": 4,
     "metadata": {},
     "output_type": "execute_result"
    }
   ],
   "source": [
    "# rating to count (naming)\n",
    "ratings.rename(columns={'rating':'count'}, inplace=True)\n",
    "ratings['count']"
   ]
  },
  {
   "cell_type": "code",
   "execution_count": 5,
   "id": "expected-jacksonville",
   "metadata": {},
   "outputs": [
    {
     "data": {
      "text/html": [
       "<div>\n",
       "<style scoped>\n",
       "    .dataframe tbody tr th:only-of-type {\n",
       "        vertical-align: middle;\n",
       "    }\n",
       "\n",
       "    .dataframe tbody tr th {\n",
       "        vertical-align: top;\n",
       "    }\n",
       "\n",
       "    .dataframe thead th {\n",
       "        text-align: right;\n",
       "    }\n",
       "</style>\n",
       "<table border=\"1\" class=\"dataframe\">\n",
       "  <thead>\n",
       "    <tr style=\"text-align: right;\">\n",
       "      <th></th>\n",
       "      <th>movie_id</th>\n",
       "      <th>title</th>\n",
       "      <th>genre</th>\n",
       "    </tr>\n",
       "  </thead>\n",
       "  <tbody>\n",
       "    <tr>\n",
       "      <th>0</th>\n",
       "      <td>1</td>\n",
       "      <td>Toy Story (1995)</td>\n",
       "      <td>Animation|Children's|Comedy</td>\n",
       "    </tr>\n",
       "    <tr>\n",
       "      <th>1</th>\n",
       "      <td>2</td>\n",
       "      <td>Jumanji (1995)</td>\n",
       "      <td>Adventure|Children's|Fantasy</td>\n",
       "    </tr>\n",
       "    <tr>\n",
       "      <th>2</th>\n",
       "      <td>3</td>\n",
       "      <td>Grumpier Old Men (1995)</td>\n",
       "      <td>Comedy|Romance</td>\n",
       "    </tr>\n",
       "    <tr>\n",
       "      <th>3</th>\n",
       "      <td>4</td>\n",
       "      <td>Waiting to Exhale (1995)</td>\n",
       "      <td>Comedy|Drama</td>\n",
       "    </tr>\n",
       "    <tr>\n",
       "      <th>4</th>\n",
       "      <td>5</td>\n",
       "      <td>Father of the Bride Part II (1995)</td>\n",
       "      <td>Comedy</td>\n",
       "    </tr>\n",
       "  </tbody>\n",
       "</table>\n",
       "</div>"
      ],
      "text/plain": [
       "   movie_id                               title                         genre\n",
       "0         1                    Toy Story (1995)   Animation|Children's|Comedy\n",
       "1         2                      Jumanji (1995)  Adventure|Children's|Fantasy\n",
       "2         3             Grumpier Old Men (1995)                Comedy|Romance\n",
       "3         4            Waiting to Exhale (1995)                  Comedy|Drama\n",
       "4         5  Father of the Bride Part II (1995)                        Comedy"
      ]
     },
     "execution_count": 5,
     "metadata": {},
     "output_type": "execute_result"
    }
   ],
   "source": [
    "# 영화 제목을 보기 위해 메타 데이터를 읽어옵니다.\n",
    "# indexing (movie to title)\n",
    "movie_file_path=os.getenv('HOME') + '/aiffel/recommendata_iu/data/ml-1m/movies.dat'\n",
    "cols = ['movie_id', 'title', 'genre'] \n",
    "movies = pd.read_csv(movie_file_path, sep='::', names=cols, engine='python',encoding = 'ISO-8859-1')\n",
    "movie_to_title = {k:v for k,v in zip(movies['movie_id'], movies['title'])}\n",
    "movies.head()"
   ]
  },
  {
   "cell_type": "markdown",
   "id": "significant-emperor",
   "metadata": {},
   "source": [
    "## 3. EDA\n",
    "- count elements\n",
    "- Popular movies\n",
    "- Statistics"
   ]
  },
  {
   "cell_type": "code",
   "execution_count": 6,
   "id": "harmful-grain",
   "metadata": {},
   "outputs": [
    {
     "name": "stdout",
     "output_type": "stream",
     "text": [
      "movie count :  3628\n",
      "user count :  6039\n",
      "2858 American Beauty (1999) 3211\n",
      "260 Star Wars: Episode IV - A New Hope (1977) 2910\n",
      "1196 Star Wars: Episode V - The Empire Strikes Back (1980) 2885\n",
      "1210 Star Wars: Episode VI - Return of the Jedi (1983) 2716\n",
      "2028 Saving Private Ryan (1998) 2561\n",
      "589 Terminator 2: Judgment Day (1991) 2509\n",
      "593 Silence of the Lambs, The (1991) 2498\n",
      "1198 Raiders of the Lost Ark (1981) 2473\n",
      "1270 Back to the Future (1985) 2460\n",
      "2571 Matrix, The (1999) 2434\n",
      "480 Jurassic Park (1993) 2413\n",
      "2762 Sixth Sense, The (1999) 2385\n",
      "608 Fargo (1996) 2371\n",
      "110 Braveheart (1995) 2314\n",
      "1580 Men in Black (1997) 2297\n",
      "527 Schindler's List (1993) 2257\n",
      "1197 Princess Bride, The (1987) 2252\n",
      "2396 Shakespeare in Love (1998) 2213\n",
      "1617 L.A. Confidential (1997) 2210\n",
      "318 Shawshank Redemption, The (1994) 2194\n",
      "858 Godfather, The (1972) 2167\n",
      "1265 Groundhog Day (1993) 2121\n",
      "1097 E.T. the Extra-Terrestrial (1982) 2102\n",
      "2997 Being John Malkovich (1999) 2066\n",
      "2716 Ghostbusters (1984) 2051\n",
      "296 Pulp Fiction (1994) 2030\n",
      "356 Forrest Gump (1994) 2022\n",
      "1240 Terminator, The (1984) 2019\n",
      "1 Toy Story (1995) 2000\n",
      "457 Fugitive, The (1993) 1941\n",
      "---\n",
      "count    6039.000000\n",
      "mean      138.512668\n",
      "std       156.241599\n",
      "min         1.000000\n",
      "25%        38.000000\n",
      "50%        81.000000\n",
      "75%       177.000000\n",
      "max      1968.000000\n",
      "Name: movie_id, dtype: float64\n",
      "count    6039.000000\n",
      "mean        4.055970\n",
      "std         0.432143\n",
      "min         3.000000\n",
      "25%         4.000000\n",
      "50%         4.000000\n",
      "75%         4.000000\n",
      "max         5.000000\n",
      "Name: count, dtype: float64\n"
     ]
    },
    {
     "data": {
      "text/html": [
       "<div>\n",
       "<style scoped>\n",
       "    .dataframe tbody tr th:only-of-type {\n",
       "        vertical-align: middle;\n",
       "    }\n",
       "\n",
       "    .dataframe tbody tr th {\n",
       "        vertical-align: top;\n",
       "    }\n",
       "\n",
       "    .dataframe thead th {\n",
       "        text-align: right;\n",
       "    }\n",
       "</style>\n",
       "<table border=\"1\" class=\"dataframe\">\n",
       "  <thead>\n",
       "    <tr style=\"text-align: right;\">\n",
       "      <th></th>\n",
       "      <th>user_id</th>\n",
       "      <th>movie_id</th>\n",
       "      <th>count</th>\n",
       "      <th>timestamp</th>\n",
       "    </tr>\n",
       "  </thead>\n",
       "  <tbody>\n",
       "    <tr>\n",
       "      <th>1000203</th>\n",
       "      <td>6040</td>\n",
       "      <td>1090</td>\n",
       "      <td>3</td>\n",
       "      <td>956715518.0</td>\n",
       "    </tr>\n",
       "    <tr>\n",
       "      <th>1000205</th>\n",
       "      <td>6040</td>\n",
       "      <td>1094</td>\n",
       "      <td>5</td>\n",
       "      <td>956704887.0</td>\n",
       "    </tr>\n",
       "    <tr>\n",
       "      <th>1000206</th>\n",
       "      <td>6040</td>\n",
       "      <td>562</td>\n",
       "      <td>5</td>\n",
       "      <td>956704746.0</td>\n",
       "    </tr>\n",
       "    <tr>\n",
       "      <th>1000207</th>\n",
       "      <td>6040</td>\n",
       "      <td>1096</td>\n",
       "      <td>4</td>\n",
       "      <td>956715648.0</td>\n",
       "    </tr>\n",
       "    <tr>\n",
       "      <th>1000208</th>\n",
       "      <td>6040</td>\n",
       "      <td>1097</td>\n",
       "      <td>4</td>\n",
       "      <td>956715569.0</td>\n",
       "    </tr>\n",
       "    <tr>\n",
       "      <th>0</th>\n",
       "      <td>ik</td>\n",
       "      <td>260</td>\n",
       "      <td>1</td>\n",
       "      <td>NaN</td>\n",
       "    </tr>\n",
       "    <tr>\n",
       "      <th>1</th>\n",
       "      <td>ik</td>\n",
       "      <td>1196</td>\n",
       "      <td>1</td>\n",
       "      <td>NaN</td>\n",
       "    </tr>\n",
       "    <tr>\n",
       "      <th>2</th>\n",
       "      <td>ik</td>\n",
       "      <td>1210</td>\n",
       "      <td>1</td>\n",
       "      <td>NaN</td>\n",
       "    </tr>\n",
       "    <tr>\n",
       "      <th>3</th>\n",
       "      <td>ik</td>\n",
       "      <td>589</td>\n",
       "      <td>1</td>\n",
       "      <td>NaN</td>\n",
       "    </tr>\n",
       "    <tr>\n",
       "      <th>4</th>\n",
       "      <td>ik</td>\n",
       "      <td>1</td>\n",
       "      <td>1</td>\n",
       "      <td>NaN</td>\n",
       "    </tr>\n",
       "  </tbody>\n",
       "</table>\n",
       "</div>"
      ],
      "text/plain": [
       "        user_id  movie_id  count    timestamp\n",
       "1000203    6040      1090      3  956715518.0\n",
       "1000205    6040      1094      5  956704887.0\n",
       "1000206    6040       562      5  956704746.0\n",
       "1000207    6040      1096      4  956715648.0\n",
       "1000208    6040      1097      4  956715569.0\n",
       "0            ik       260      1          NaN\n",
       "1            ik      1196      1          NaN\n",
       "2            ik      1210      1          NaN\n",
       "3            ik       589      1          NaN\n",
       "4            ik         1      1          NaN"
      ]
     },
     "execution_count": 6,
     "metadata": {},
     "output_type": "execute_result"
    }
   ],
   "source": [
    "# EDA \n",
    "# movie count\n",
    "print(\"movie count : \",ratings['movie_id'].nunique())\n",
    "\n",
    "# user count\n",
    "print(\"user count : \", ratings['user_id'].nunique())\n",
    "\n",
    "# popular movie\n",
    "movie_count = ratings.groupby('movie_id')['user_id'].count()\n",
    "tmp = movie_count.sort_values(ascending=False).head(30)\n",
    "for i,c in zip(tmp.index,tmp):\n",
    "    print(i, movie_to_title[i],c)\n",
    "print('---')\n",
    "# 유저별 몇 명의 영화를 보고 있는지에 대한 통계\n",
    "user_count = ratings.groupby('user_id')['movie_id'].count()\n",
    "print(user_count.describe())\n",
    "\n",
    "# 유저별 play횟수 중앙값에 대한 통계\n",
    "user_median = ratings.groupby('user_id')['count'].median()\n",
    "print(user_median.describe())\n",
    "\n",
    "# movie id (너무 옛날 영화라서 모르는 거 투성이다;;;)\n",
    "my_favorite = [260 ,1196 ,1210 ,589 ,1] # star wars, terminator, and toy story\n",
    "\n",
    "# 'ik'이라는 user_id가 위 영화를 1회씩 들었다고 가정하겠습니다.\n",
    "my_playlist = pd.DataFrame({'user_id': ['ik']*5, 'movie_id': my_favorite, 'count':[1]*5})\n",
    "\n",
    "if not ratings.isin({'user_id':['ik']})['user_id'].any():  # user_id에 'ik'이라는 데이터가 없다면\n",
    "    ratings = ratings.append(my_playlist)                           # 위에 임의로 만든 my_favorite 데이터를 추가해 줍니다. \n",
    "\n",
    "ratings.tail(10)       # check"
   ]
  },
  {
   "cell_type": "markdown",
   "id": "recent-excerpt",
   "metadata": {},
   "source": [
    "### indexing "
   ]
  },
  {
   "cell_type": "code",
   "execution_count": 7,
   "id": "variable-sensitivity",
   "metadata": {},
   "outputs": [
    {
     "name": "stdout",
     "output_type": "stream",
     "text": [
      "user_id column indexing OK!!\n",
      "movie_id column indexing OK!!\n"
     ]
    },
    {
     "data": {
      "text/html": [
       "<div>\n",
       "<style scoped>\n",
       "    .dataframe tbody tr th:only-of-type {\n",
       "        vertical-align: middle;\n",
       "    }\n",
       "\n",
       "    .dataframe tbody tr th {\n",
       "        vertical-align: top;\n",
       "    }\n",
       "\n",
       "    .dataframe thead th {\n",
       "        text-align: right;\n",
       "    }\n",
       "</style>\n",
       "<table border=\"1\" class=\"dataframe\">\n",
       "  <thead>\n",
       "    <tr style=\"text-align: right;\">\n",
       "      <th></th>\n",
       "      <th>user_id</th>\n",
       "      <th>movie_id</th>\n",
       "      <th>count</th>\n",
       "      <th>timestamp</th>\n",
       "    </tr>\n",
       "  </thead>\n",
       "  <tbody>\n",
       "    <tr>\n",
       "      <th>0</th>\n",
       "      <td>0</td>\n",
       "      <td>0</td>\n",
       "      <td>5</td>\n",
       "      <td>978300760.0</td>\n",
       "    </tr>\n",
       "    <tr>\n",
       "      <th>1</th>\n",
       "      <td>0</td>\n",
       "      <td>1</td>\n",
       "      <td>3</td>\n",
       "      <td>978302109.0</td>\n",
       "    </tr>\n",
       "    <tr>\n",
       "      <th>2</th>\n",
       "      <td>0</td>\n",
       "      <td>2</td>\n",
       "      <td>3</td>\n",
       "      <td>978301968.0</td>\n",
       "    </tr>\n",
       "    <tr>\n",
       "      <th>3</th>\n",
       "      <td>0</td>\n",
       "      <td>3</td>\n",
       "      <td>4</td>\n",
       "      <td>978300275.0</td>\n",
       "    </tr>\n",
       "    <tr>\n",
       "      <th>4</th>\n",
       "      <td>0</td>\n",
       "      <td>4</td>\n",
       "      <td>5</td>\n",
       "      <td>978824291.0</td>\n",
       "    </tr>\n",
       "    <tr>\n",
       "      <th>...</th>\n",
       "      <td>...</td>\n",
       "      <td>...</td>\n",
       "      <td>...</td>\n",
       "      <td>...</td>\n",
       "    </tr>\n",
       "    <tr>\n",
       "      <th>0</th>\n",
       "      <td>6039</td>\n",
       "      <td>44</td>\n",
       "      <td>1</td>\n",
       "      <td>NaN</td>\n",
       "    </tr>\n",
       "    <tr>\n",
       "      <th>1</th>\n",
       "      <td>6039</td>\n",
       "      <td>117</td>\n",
       "      <td>1</td>\n",
       "      <td>NaN</td>\n",
       "    </tr>\n",
       "    <tr>\n",
       "      <th>2</th>\n",
       "      <td>6039</td>\n",
       "      <td>64</td>\n",
       "      <td>1</td>\n",
       "      <td>NaN</td>\n",
       "    </tr>\n",
       "    <tr>\n",
       "      <th>3</th>\n",
       "      <td>6039</td>\n",
       "      <td>92</td>\n",
       "      <td>1</td>\n",
       "      <td>NaN</td>\n",
       "    </tr>\n",
       "    <tr>\n",
       "      <th>4</th>\n",
       "      <td>6039</td>\n",
       "      <td>40</td>\n",
       "      <td>1</td>\n",
       "      <td>NaN</td>\n",
       "    </tr>\n",
       "  </tbody>\n",
       "</table>\n",
       "<p>836483 rows × 4 columns</p>\n",
       "</div>"
      ],
      "text/plain": [
       "    user_id  movie_id  count    timestamp\n",
       "0         0         0      5  978300760.0\n",
       "1         0         1      3  978302109.0\n",
       "2         0         2      3  978301968.0\n",
       "3         0         3      4  978300275.0\n",
       "4         0         4      5  978824291.0\n",
       "..      ...       ...    ...          ...\n",
       "0      6039        44      1          NaN\n",
       "1      6039       117      1          NaN\n",
       "2      6039        64      1          NaN\n",
       "3      6039        92      1          NaN\n",
       "4      6039        40      1          NaN\n",
       "\n",
       "[836483 rows x 4 columns]"
      ]
     },
     "execution_count": 7,
     "metadata": {},
     "output_type": "execute_result"
    }
   ],
   "source": [
    "# indexing (추가된 데이터 고려)\n",
    "# 고유한 유저, 아티스트를 찾아내는 코드\n",
    "user_unique = ratings['user_id'].unique()\n",
    "movie_unique = ratings['movie_id'].unique()\n",
    "\n",
    "# 유저, 아티스트 indexing 하는 코드 idx는 index의 약자입니다.\n",
    "user_to_idx = {v:k for k,v in enumerate(user_unique)}\n",
    "movie_to_idx = {v:k for k,v in enumerate(movie_unique)}\n",
    "\n",
    "# user_to_idx.get을 통해 user_id 컬럼의 모든 값을 인덱싱한 Series를 구해 봅시다. \n",
    "# 혹시 정상적으로 인덱싱되지 않은 row가 있다면 인덱스가 NaN이 될 테니 dropna()로 제거합니다. \n",
    "temp_user_data = ratings['user_id'].map(user_to_idx.get).dropna()\n",
    "if len(temp_user_data) == len(ratings):   # 모든 row가 정상적으로 인덱싱되었다면\n",
    "    print('user_id column indexing OK!!')\n",
    "    ratings['user_id'] = temp_user_data   # ratings['user_id']을 인덱싱된 Series로 교체해 줍니다. \n",
    "else:\n",
    "    print('user_id column indexing Fail!!')\n",
    "\n",
    "# movie_to_idx을 통해 movie_id 컬럼도 동일한 방식으로 인덱싱해 줍니다. \n",
    "temp_movie_data = ratings['movie_id'].map(movie_to_idx.get).dropna()\n",
    "if len(temp_movie_data) == len(ratings):\n",
    "    print('movie_id column indexing OK!!')\n",
    "    ratings['movie_id'] = temp_movie_data\n",
    "else:\n",
    "    print('movie_id column indexing Fail!!')\n",
    "\n",
    "ratings # check"
   ]
  },
  {
   "cell_type": "markdown",
   "id": "compliant-operation",
   "metadata": {},
   "source": [
    "## 4. Modeling\n",
    "- Make CSR\n",
    "- Fitting model   \n"
   ]
  },
  {
   "cell_type": "code",
   "execution_count": 8,
   "id": "intimate-gamma",
   "metadata": {},
   "outputs": [
    {
     "name": "stdout",
     "output_type": "stream",
     "text": [
      "6040 3628\n"
     ]
    },
    {
     "data": {
      "text/plain": [
       "<6040x3628 sparse matrix of type '<class 'numpy.int64'>'\n",
       "\twith 836483 stored elements in Compressed Sparse Row format>"
      ]
     },
     "execution_count": 8,
     "metadata": {},
     "output_type": "execute_result"
    }
   ],
   "source": [
    "# make CSR\n",
    "num_user = ratings['user_id'].nunique()\n",
    "num_movie = ratings['movie_id'].nunique()\n",
    "print(num_user, num_movie)\n",
    "csr_data = csr_matrix((ratings['count'], (ratings.user_id, ratings.movie_id)), shape= (num_user, num_movie))\n",
    "csr_data"
   ]
  },
  {
   "cell_type": "code",
   "execution_count": 9,
   "id": "cultural-property",
   "metadata": {},
   "outputs": [
    {
     "data": {
      "application/vnd.jupyter.widget-view+json": {
       "model_id": "5f05b7231a384aa8ad57ede49ab8c82a",
       "version_major": 2,
       "version_minor": 0
      },
      "text/plain": [
       "  0%|          | 0/15 [00:00<?, ?it/s]"
      ]
     },
     "metadata": {},
     "output_type": "display_data"
    },
    {
     "name": "stdout",
     "output_type": "stream",
     "text": [
      "0.43044528\n"
     ]
    },
    {
     "data": {
      "text/plain": [
       "0.15097111"
      ]
     },
     "execution_count": 9,
     "metadata": {},
     "output_type": "execute_result"
    }
   ],
   "source": [
    "#model\n",
    "# implicit 라이브러리에서 권장하고 있는 부분입니다. 학습 내용과는 무관합니다.\n",
    "os.environ['OPENBLAS_NUM_THREADS']='1'\n",
    "os.environ['KMP_DUPLICATE_LIB_OK']='True'\n",
    "os.environ['MKL_NUM_THREADS']='1'\n",
    "\n",
    "# Implicit AlternatingLeastSquares 모델의 선언\n",
    "als_model = AlternatingLeastSquares(factors=100, regularization=0.01, use_gpu=False, iterations=15, dtype=np.float32)\n",
    "\n",
    "# als 모델은 input으로 (item X user 꼴의 matrix를 받기 때문에 Transpose해줍니다.)\n",
    "csr_data_transpose = csr_data.T\n",
    "# model fitting\n",
    "als_model.fit(csr_data_transpose)\n",
    "\n",
    "# my_favorite = [260 ,1196 ,1210 ,589 ,1] # star wars, terminator, and toy story\n",
    "ik, ss = user_to_idx['ik'], movie_to_idx[260] # star wars 4\n",
    "ik_vector, ss_vector = als_model.user_factors[ik], als_model.item_factors[ss]\n",
    "\n",
    "#print(ik_vector)\n",
    "#print(ss_vector)\n",
    "print(np.dot(ik_vector, ss_vector))\n",
    "\n",
    "toy = movie_to_idx[1] # toy story\n",
    "toy_vector = als_model.item_factors[toy]\n",
    "np.dot(ik_vector, toy_vector)"
   ]
  },
  {
   "cell_type": "markdown",
   "id": "determined-organizer",
   "metadata": {},
   "source": [
    "## 5. Analysis\n",
    "- 비슷한 영화 추천\n",
    "- 사용자 영화 추천\n",
    "- 추천 이유"
   ]
  },
  {
   "cell_type": "code",
   "execution_count": 10,
   "id": "pointed-consultancy",
   "metadata": {},
   "outputs": [
    {
     "name": "stdout",
     "output_type": "stream",
     "text": [
      "Toy Story (1995)\n",
      "Toy Story 2 (1999)\n",
      "Babe (1995)\n",
      "Bug's Life, A (1998)\n",
      "Aladdin (1992)\n",
      "Groundhog Day (1993)\n",
      "Lion King, The (1994)\n",
      "Pleasantville (1998)\n",
      "Beauty and the Beast (1991)\n",
      "There's Something About Mary (1998)\n",
      "---\n",
      "Star Wars: Episode IV - A New Hope (1977)\n",
      "Star Wars: Episode V - The Empire Strikes Back (1980)\n",
      "Star Wars: Episode VI - Return of the Jedi (1983)\n",
      "Raiders of the Lost Ark (1981)\n",
      "Star Wars: Episode I - The Phantom Menace (1999)\n",
      "Alien (1979)\n",
      "Terminator, The (1984)\n",
      "Back to the Future (1985)\n",
      "Matrix, The (1999)\n",
      "E.T. the Extra-Terrestrial (1982)\n",
      "---\n",
      "['Raiders of the Lost Ark (1981)', 120]\n",
      "['Star Wars: Episode I - The Phantom Menace (1999)', 60]\n",
      "['Matrix, The (1999)', 124]\n",
      "['Terminator, The (1984)', 200]\n",
      "['Back to the Future (1985)', 22]\n",
      "['Alien (1979)', 193]\n",
      "['Aliens (1986)', 651]\n",
      "['Toy Story 2 (1999)', 50]\n",
      "['Saving Private Ryan (1998)', 48]\n",
      "['E.T. the Extra-Terrestrial (1982)', 26]\n",
      "['Princess Bride, The (1987)', 5]\n",
      "['Men in Black (1997)', 175]\n",
      "['Jurassic Park (1993)', 107]\n",
      "['American Beauty (1999)', 99]\n",
      "['Indiana Jones and the Last Crusade (1989)', 172]\n",
      "['Dr. Strangelove or: How I Learned to Stop Worrying and Love the Bomb (1963)', 550]\n",
      "['Blade Runner (1982)', 680]\n",
      "['Shakespeare in Love (1998)', 126]\n",
      "['Galaxy Quest (1999)', 670]\n",
      "['Forrest Gump (1994)', 160]\n",
      "---\n",
      "('Star Wars: Episode VI - Return of the Jedi (1983)', 0.08638826159889704)\n",
      "('Star Wars: Episode IV - A New Hope (1977)', 0.06822523508590966)\n",
      "('Star Wars: Episode V - The Empire Strikes Back (1980)', 0.05708136446299391)\n",
      "('Terminator 2: Judgment Day (1991)', 0.03130960256599172)\n",
      "('Toy Story (1995)', 0.0008286590549808391)\n"
     ]
    },
    {
     "data": {
      "text/plain": [
       "[('Toy Story (1995)', 0.11788735085147736),\n",
       " ('Star Wars: Episode VI - Return of the Jedi (1983)', 0.010472032242305033),\n",
       " ('Terminator 2: Judgment Day (1991)', 0.008990118394499955),\n",
       " ('Star Wars: Episode V - The Empire Strikes Back (1980)',\n",
       "  -0.0001567037350512293),\n",
       " ('Star Wars: Episode IV - A New Hope (1977)', -0.0032338575004448415)]"
      ]
     },
     "execution_count": 10,
     "metadata": {},
     "output_type": "execute_result"
    }
   ],
   "source": [
    "# recommendation\n",
    "# movie_to_idx 를 뒤집어, index로부터 movie를 얻는 dict를 생성합니다. \n",
    "idx_to_movie = {v:k for k,v in movie_to_idx.items()}\n",
    "\n",
    "def get_similar_movie(movie: int):\n",
    "    movie_id = movie_to_idx[movie]\n",
    "    similar_movie = als_model.similar_items(movie_id)\n",
    "    similar_movie = [idx_to_movie[i[0]] for i in similar_movie]\n",
    "    similar_movie = [movie_to_title[i] for i in similar_movie]\n",
    "    return similar_movie\n",
    "\n",
    "# similar movie\n",
    "print(*get_similar_movie(1), sep = \"\\n\") # toy story\n",
    "print('---')\n",
    "print(*get_similar_movie(260), sep = \"\\n\") # star wars 4\n",
    "print('---')\n",
    "\n",
    "\n",
    "# user recommendation\n",
    "user = user_to_idx['ik']\n",
    "# recommend에서는 user*item CSR Matrix를 받습니다.\n",
    "movie_recommended = als_model.recommend(user, csr_data, N=20, filter_already_liked_items=True)\n",
    "#print(movie_recommended)\n",
    "print(*[[movie_to_title[idx_to_movie[i[0]]],i[0]] for i in movie_recommended], sep = \"\\n\")\n",
    "print('---')\n",
    "\n",
    "# contribution of recommendation\n",
    "s = 60 # star wars 1\n",
    "explain = als_model.explain(user, csr_data, itemid=s)\n",
    "\n",
    "print(*[(movie_to_title[idx_to_movie[i[0]]], i[1]) for i in explain[1]], sep = \"\\n\")\n",
    "\n",
    "s = 50 # toy story 2\n",
    "explain = als_model.explain(user, csr_data, itemid=s)\n",
    "\n",
    "[(movie_to_title[idx_to_movie[i[0]]], i[1]) for i in explain[1]]"
   ]
  },
  {
   "cell_type": "markdown",
   "id": "governing-visit",
   "metadata": {},
   "source": [
    "### 결과에 대한 분석\n",
    "위 코드의 첫 번째 출력(get_similar_movie(1))과 두 번째 출력(get_similar_movie(260)은 각각 toy story와 star wars 4와 유사한 영화 리스트를 출력하는 것이다. 대충 봤을 때, 첫 번째는 애니메이션 위주의 영화 리스트이고 두 번째는 공상과학 위주의 영화 리스트라서 어느 정도 유사한 영화 리스트를 보여주는 것을 알 수 있다.   \n",
    "세 번째 출력(movie_recommended)의 경우는 가상의 유저('ik')의 영화 추천 리스트이다.(가상 유저의 본 영화 목록은 네번째(혹은 다섯 번째) 출력과 같다) 아마도 가상 유저가 star wars를 3편이나 본 것 때문에 그와 관련된 영화(두 번째 출력)가 많이 추천되어 있음을 알 수 있다.   \n",
    "네 번째와 다섯 번째 출력은 각각 가상 유저에게 추천한 영화를 추천한 이유를 설명해주는 출력이다. 정확히는 가상 유저가 본 영화 리스트에서 해당 영화를 추천한 기여도를 보여준다. Star wars 1의 경우, 가상 유저가 본 3편의 star wars가 크게 작용함을 알 수 있고, toy story 2의 경우는 가상 유저가 본 toy story가 가장 크게 작용했음을 확인할 수 있다."
   ]
  },
  {
   "cell_type": "markdown",
   "id": "favorite-texture",
   "metadata": {},
   "source": [
    "## 회고 및 루브릭 평가"
   ]
  },
  {
   "cell_type": "markdown",
   "id": "drawn-letters",
   "metadata": {},
   "source": [
    "### 루브릭 평가 항목\n",
    "1. CSR matrix가 정상적으로 만들어졌다.(사용자와 아이템 개수를 바탕으로 정확한 사이즈로 만들었다.)\n",
    "2. MF 모델이 정상적으로 훈련되어 그럴듯한 추천이 이루어졌다.(사용자와 아이템 벡터 내적수치가 의미있게 형성되었다.)\n",
    "3. 비슷한 영화 찾기와 유저에게 추천하기의 과정이 정상적으로 진행되었다.(MF모델이 예측한 유저 선호도 및 아이템간 유사도, 기여도가 의미있게 측정되었다.)"
   ]
  },
  {
   "cell_type": "markdown",
   "id": "impaired-recording",
   "metadata": {},
   "source": [
    "### 평가 항목에 대한 수행\n",
    "1. '4. modeling'에서 CSR matrix을 정상적으로 만든 것을 확인할 수 있다.(사이즈도 유저수와 영화수와 같게 만들어졌다.)\n",
    "2. '4. modeling'에서 사용자('ik')와 아이템(star wars4, toy story)의 내적을 각각 계산을 했고, 좀 더 관련성이 있는 star war4가 더 높은 수치를 보임으로써 내적 수치가 의미있다는 것을 알 수 있다.\n",
    "3. '5. analysis'에서 비슷한 영화 찾기와 유저에게 추천하기의 과정이 정상적으로 진행되었다. 자세한 사항은 '5. analysis'의 결과에 대한 분석을 보면 될 것 같다."
   ]
  },
  {
   "cell_type": "markdown",
   "id": "driven-basketball",
   "metadata": {},
   "source": [
    "### 회고"
   ]
  },
  {
   "cell_type": "markdown",
   "id": "numerous-decrease",
   "metadata": {},
   "source": [
    "노션에 공지된 꼭 포함이 되어야 할 점\n",
    "- 이번 프로젝트에서 **어려웠던 점,**\n",
    "- 프로젝트를 진행하면서 **알아낸 점** 혹은 **아직 모호한 점**.\n",
    "- 루브릭 평가 지표를 맞추기 위해 **시도한 것들**.\n",
    "- 만약에 루브릭 평가 관련 지표를 **달성 하지 못했을 때, 이유에 관한 추정**.\n",
    "- **자기 다짐**"
   ]
  },
  {
   "cell_type": "markdown",
   "id": "current-trainer",
   "metadata": {},
   "source": [
    "---\n",
    "- **어려웠던 점**    \n",
    "노드에서 작은 오류가 많아서 오류를 해결하는 데 시간이 좀 걸린 것 같다. ssac에서 미리 한 것이라 참고해서 금방 해결은 했다. 다른 어려웠던 점은 데이터가 오래되었다는 것이다. 영화 제작 연도를 보면 2000년도 전에 만들어진 것 뿐이다. 추천 시스템을 만드는 것이 주제인데 정작 데이터에 대한 의미를 알기 힘들게 데이터를 주는 이유를 잘 모르겠다. 프로젝트는 해야 해서 유명한 것만 추출해서 의미를 해석하긴 했지만 그 이상의 의미를 찾기 힘든 데이터를 주어서 별로였다.\n",
    "---\n",
    "- **알아낸 점**    \n",
    "파이썬 문법인 리스트 내포를 바로 출력하게 되면, 리스트의 원소가 일렬로 연결되어 출력되어서 보기에 안 좋았다. 그래서 print 사용법에 대해서 조금 공부를 해서 원소마다 '\\n' 구분자를 이용하여 출려하는 방법을 알아냈다.\n",
    "\n",
    "- **모호한 점**    \n",
    "추천 시스템에서는 데이터의 의미를 잘 아는 것이 중요한데 위에서 한 번 언급했듯이 너무 오래된 데이터를 주어서 의미를 이끌어 내기 어려운 것 같다. 노드를 만든 제작자가 어떤 의도로 이걸 해석하기를 바랬는지 모르겠다.(한 번 편집기로 열어서 영화 목록을 한 번 훍어 봤는데 대부분 모르는 것 밖에 없었다.) \n",
    "---\n",
    "- **시도한 것들**   \n",
    "처음에는 그냥 가상 유저('ik')의 영화 리스트를 처음 5개로 했는데 도저히 의미를 해석하기가 힘들었다. 그래서 그냥 유명한 영화 중에 시리즈가 있는 걸로 선택하여 의미를 해석했다.\n",
    "\n",
    "---\n",
    "- **우브릭 평가 관련 지표**   \n",
    "제 예상에는 모두 달성되었다고 생각한다. 그 이유는 위에 있는 **평가 항목에 대한 수행**에 나와있다.  \n",
    "- **자기 다짐** 및 **나의 생각들**      \n",
    "이번 프로젝트도 역시 실제 모델을 만드는 것이 아닌 가져다 쓰는 것이라서 크게 오래 걸리지 않았다. 다만 크고 작은 오류들이 있어서 해결하는데 시간을 많이 보낸 것 같다. 그리고 의미를 해석하는 것이 더 어려웠다. 앞으로 노드에는 의도와 맞는 데이터를 제공해줬으면 좋겠다. 추천 시스템에 대해서 개인적으로 잠깐 공부한 적이 있는데 그래서 새롭거나 어려운 것들은 없었던 것 같다. 간단히 개념을 알고 있었는데, 이번 프로젝트에서 사용한 CSR matrix의 경우에는 한 번 자세히 공부해보는 것이 좋을 것 같다."
   ]
  },
  {
   "cell_type": "code",
   "execution_count": null,
   "id": "polish-ceramic",
   "metadata": {},
   "outputs": [],
   "source": []
  }
 ],
 "metadata": {
  "kernelspec": {
   "display_name": "aiffel",
   "language": "python",
   "name": "aiffel"
  },
  "language_info": {
   "codemirror_mode": {
    "name": "ipython",
    "version": 3
   },
   "file_extension": ".py",
   "mimetype": "text/x-python",
   "name": "python",
   "nbconvert_exporter": "python",
   "pygments_lexer": "ipython3",
   "version": "3.7.9"
  }
 },
 "nbformat": 4,
 "nbformat_minor": 5
}
